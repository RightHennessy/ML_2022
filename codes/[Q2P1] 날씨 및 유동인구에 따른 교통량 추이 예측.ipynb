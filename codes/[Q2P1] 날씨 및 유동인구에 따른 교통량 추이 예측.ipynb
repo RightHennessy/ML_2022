{
 "cells": [
  {
   "cell_type": "code",
   "execution_count": 1,
   "id": "42e7e281",
   "metadata": {
    "_cell_guid": "b1076dfc-b9ad-4769-8c92-a6c4dae69d19",
    "_uuid": "8f2839f25d086af736a60e9eeb907d3b93b6e0e5",
    "execution": {
     "iopub.execute_input": "2022-06-08T11:52:49.668791Z",
     "iopub.status.busy": "2022-06-08T11:52:49.667602Z",
     "iopub.status.idle": "2022-06-08T11:52:49.684974Z",
     "shell.execute_reply": "2022-06-08T11:52:49.683473Z"
    },
    "papermill": {
     "duration": 0.025707,
     "end_time": "2022-06-08T11:52:49.687384",
     "exception": false,
     "start_time": "2022-06-08T11:52:49.661677",
     "status": "completed"
    },
    "tags": []
   },
   "outputs": [
    {
     "name": "stdout",
     "output_type": "stream",
     "text": [
      "/kaggle/input/2022-ml-quiz2-p1/x_test.csv\n",
      "/kaggle/input/2022-ml-quiz2-p1/y_train.csv\n",
      "/kaggle/input/2022-ml-quiz2-p1/x_train.csv\n",
      "/kaggle/input/2022-ml-quiz2-p1/submit.csv\n"
     ]
    }
   ],
   "source": [
    "# This Python 3 environment comes with many helpful analytics libraries installed\n",
    "# It is defined by the kaggle/python Docker image: https://github.com/kaggle/docker-python\n",
    "# For example, here's several helpful packages to load\n",
    "\n",
    "import numpy as np # linear algebra\n",
    "import pandas as pd # data processing, CSV file I/O (e.g. pd.read_csv)\n",
    "\n",
    "# Input data files are available in the read-only \"../input/\" directory\n",
    "# For example, running this (by clicking run or pressing Shift+Enter) will list all files under the input directory\n",
    "\n",
    "import os\n",
    "for dirname, _, filenames in os.walk('/kaggle/input'):\n",
    "    for filename in filenames:\n",
    "        print(os.path.join(dirname, filename))\n",
    "\n",
    "# You can write up to 20GB to the current directory (/kaggle/working/) that gets preserved as output when you create a version using \"Save & Run All\" \n",
    "# You can also write temporary files to /kaggle/temp/, but they won't be saved outside of the current session"
   ]
  },
  {
   "cell_type": "code",
   "execution_count": 2,
   "id": "80d09383",
   "metadata": {
    "execution": {
     "iopub.execute_input": "2022-06-08T11:52:49.695220Z",
     "iopub.status.busy": "2022-06-08T11:52:49.694779Z",
     "iopub.status.idle": "2022-06-08T11:52:50.551224Z",
     "shell.execute_reply": "2022-06-08T11:52:50.550283Z"
    },
    "papermill": {
     "duration": 0.863058,
     "end_time": "2022-06-08T11:52:50.553874",
     "exception": false,
     "start_time": "2022-06-08T11:52:49.690816",
     "status": "completed"
    },
    "tags": []
   },
   "outputs": [],
   "source": [
    "test = pd.read_csv('../input/2022-ml-quiz2-p1/x_test.csv',engine='python',encoding='CP949')\n",
    "trainX = pd.read_csv('../input/2022-ml-quiz2-p1/x_train.csv',engine='python',encoding='CP949')\n",
    "trainY = pd.read_csv('../input/2022-ml-quiz2-p1/y_train.csv',engine='python',encoding='CP949')\n",
    "submit = pd.read_csv('../input/2022-ml-quiz2-p1/submit.csv',engine='python',encoding='CP949')"
   ]
  },
  {
   "cell_type": "code",
   "execution_count": 3,
   "id": "4788b416",
   "metadata": {
    "execution": {
     "iopub.execute_input": "2022-06-08T11:52:50.562081Z",
     "iopub.status.busy": "2022-06-08T11:52:50.561724Z",
     "iopub.status.idle": "2022-06-08T11:52:50.575071Z",
     "shell.execute_reply": "2022-06-08T11:52:50.574134Z"
    },
    "papermill": {
     "duration": 0.019637,
     "end_time": "2022-06-08T11:52:50.577029",
     "exception": false,
     "start_time": "2022-06-08T11:52:50.557392",
     "status": "completed"
    },
    "tags": []
   },
   "outputs": [
    {
     "data": {
      "text/plain": [
       "(21486,)"
      ]
     },
     "execution_count": 3,
     "metadata": {},
     "output_type": "execute_result"
    }
   ],
   "source": [
    "trainY['교통량'].shape"
   ]
  },
  {
   "cell_type": "code",
   "execution_count": 4,
   "id": "93a174a5",
   "metadata": {
    "execution": {
     "iopub.execute_input": "2022-06-08T11:52:50.585453Z",
     "iopub.status.busy": "2022-06-08T11:52:50.585099Z",
     "iopub.status.idle": "2022-06-08T11:53:09.467480Z",
     "shell.execute_reply": "2022-06-08T11:53:09.466541Z"
    },
    "papermill": {
     "duration": 18.89281,
     "end_time": "2022-06-08T11:53:09.473412",
     "exception": false,
     "start_time": "2022-06-08T11:52:50.580602",
     "status": "completed"
    },
    "tags": []
   },
   "outputs": [
    {
     "data": {
      "text/plain": [
       "RandomForestRegressor()"
      ]
     },
     "execution_count": 4,
     "metadata": {},
     "output_type": "execute_result"
    }
   ],
   "source": [
    "from sklearn.ensemble import RandomForestRegressor\n",
    "model = RandomForestRegressor()\n",
    "model.fit(trainX, trainY['교통량'])"
   ]
  },
  {
   "cell_type": "code",
   "execution_count": 5,
   "id": "83d44997",
   "metadata": {
    "execution": {
     "iopub.execute_input": "2022-06-08T11:53:09.482548Z",
     "iopub.status.busy": "2022-06-08T11:53:09.482085Z",
     "iopub.status.idle": "2022-06-08T11:53:09.497210Z",
     "shell.execute_reply": "2022-06-08T11:53:09.496021Z"
    },
    "papermill": {
     "duration": 0.022439,
     "end_time": "2022-06-08T11:53:09.499666",
     "exception": false,
     "start_time": "2022-06-08T11:53:09.477227",
     "status": "completed"
    },
    "tags": []
   },
   "outputs": [
    {
     "data": {
      "text/html": [
       "<div>\n",
       "<style scoped>\n",
       "    .dataframe tbody tr th:only-of-type {\n",
       "        vertical-align: middle;\n",
       "    }\n",
       "\n",
       "    .dataframe tbody tr th {\n",
       "        vertical-align: top;\n",
       "    }\n",
       "\n",
       "    .dataframe thead th {\n",
       "        text-align: right;\n",
       "    }\n",
       "</style>\n",
       "<table border=\"1\" class=\"dataframe\">\n",
       "  <thead>\n",
       "    <tr style=\"text-align: right;\">\n",
       "      <th></th>\n",
       "      <th>id</th>\n",
       "      <th>predict</th>\n",
       "    </tr>\n",
       "  </thead>\n",
       "  <tbody>\n",
       "    <tr>\n",
       "      <th>0</th>\n",
       "      <td>0</td>\n",
       "      <td>0</td>\n",
       "    </tr>\n",
       "    <tr>\n",
       "      <th>1</th>\n",
       "      <td>1</td>\n",
       "      <td>0</td>\n",
       "    </tr>\n",
       "    <tr>\n",
       "      <th>2</th>\n",
       "      <td>2</td>\n",
       "      <td>0</td>\n",
       "    </tr>\n",
       "    <tr>\n",
       "      <th>3</th>\n",
       "      <td>3</td>\n",
       "      <td>0</td>\n",
       "    </tr>\n",
       "    <tr>\n",
       "      <th>4</th>\n",
       "      <td>4</td>\n",
       "      <td>0</td>\n",
       "    </tr>\n",
       "    <tr>\n",
       "      <th>...</th>\n",
       "      <td>...</td>\n",
       "      <td>...</td>\n",
       "    </tr>\n",
       "    <tr>\n",
       "      <th>10578</th>\n",
       "      <td>10578</td>\n",
       "      <td>0</td>\n",
       "    </tr>\n",
       "    <tr>\n",
       "      <th>10579</th>\n",
       "      <td>10579</td>\n",
       "      <td>0</td>\n",
       "    </tr>\n",
       "    <tr>\n",
       "      <th>10580</th>\n",
       "      <td>10580</td>\n",
       "      <td>0</td>\n",
       "    </tr>\n",
       "    <tr>\n",
       "      <th>10581</th>\n",
       "      <td>10581</td>\n",
       "      <td>0</td>\n",
       "    </tr>\n",
       "    <tr>\n",
       "      <th>10582</th>\n",
       "      <td>10582</td>\n",
       "      <td>0</td>\n",
       "    </tr>\n",
       "  </tbody>\n",
       "</table>\n",
       "<p>10583 rows × 2 columns</p>\n",
       "</div>"
      ],
      "text/plain": [
       "          id  predict\n",
       "0          0        0\n",
       "1          1        0\n",
       "2          2        0\n",
       "3          3        0\n",
       "4          4        0\n",
       "...      ...      ...\n",
       "10578  10578        0\n",
       "10579  10579        0\n",
       "10580  10580        0\n",
       "10581  10581        0\n",
       "10582  10582        0\n",
       "\n",
       "[10583 rows x 2 columns]"
      ]
     },
     "execution_count": 5,
     "metadata": {},
     "output_type": "execute_result"
    }
   ],
   "source": [
    "submit"
   ]
  },
  {
   "cell_type": "code",
   "execution_count": 6,
   "id": "95987674",
   "metadata": {
    "execution": {
     "iopub.execute_input": "2022-06-08T11:53:09.509153Z",
     "iopub.status.busy": "2022-06-08T11:53:09.508778Z",
     "iopub.status.idle": "2022-06-08T11:53:09.775895Z",
     "shell.execute_reply": "2022-06-08T11:53:09.774883Z"
    },
    "papermill": {
     "duration": 0.274754,
     "end_time": "2022-06-08T11:53:09.778438",
     "exception": false,
     "start_time": "2022-06-08T11:53:09.503684",
     "status": "completed"
    },
    "tags": []
   },
   "outputs": [],
   "source": [
    "pred = model.predict(test)\n",
    "submit['predict'] = pred"
   ]
  },
  {
   "cell_type": "code",
   "execution_count": 7,
   "id": "2c5c55be",
   "metadata": {
    "execution": {
     "iopub.execute_input": "2022-06-08T11:53:09.788058Z",
     "iopub.status.busy": "2022-06-08T11:53:09.787702Z",
     "iopub.status.idle": "2022-06-08T11:53:09.825121Z",
     "shell.execute_reply": "2022-06-08T11:53:09.824120Z"
    },
    "papermill": {
     "duration": 0.045481,
     "end_time": "2022-06-08T11:53:09.827980",
     "exception": false,
     "start_time": "2022-06-08T11:53:09.782499",
     "status": "completed"
    },
    "tags": []
   },
   "outputs": [],
   "source": [
    "submit.to_csv('result.csv', index=False)"
   ]
  },
  {
   "cell_type": "code",
   "execution_count": null,
   "id": "347187dc",
   "metadata": {
    "papermill": {
     "duration": 0.003723,
     "end_time": "2022-06-08T11:53:09.835839",
     "exception": false,
     "start_time": "2022-06-08T11:53:09.832116",
     "status": "completed"
    },
    "tags": []
   },
   "outputs": [],
   "source": []
  }
 ],
 "metadata": {
  "kernelspec": {
   "display_name": "Python 3",
   "language": "python",
   "name": "python3"
  },
  "language_info": {
   "codemirror_mode": {
    "name": "ipython",
    "version": 3
   },
   "file_extension": ".py",
   "mimetype": "text/x-python",
   "name": "python",
   "nbconvert_exporter": "python",
   "pygments_lexer": "ipython3",
   "version": "3.7.12"
  },
  "papermill": {
   "default_parameters": {},
   "duration": 31.378588,
   "end_time": "2022-06-08T11:53:10.763640",
   "environment_variables": {},
   "exception": null,
   "input_path": "__notebook__.ipynb",
   "output_path": "__notebook__.ipynb",
   "parameters": {},
   "start_time": "2022-06-08T11:52:39.385052",
   "version": "2.3.4"
  }
 },
 "nbformat": 4,
 "nbformat_minor": 5
}
