{
 "cells": [
  {
   "cell_type": "code",
   "execution_count": 1,
   "id": "ad9b032b",
   "metadata": {
    "_cell_guid": "b1076dfc-b9ad-4769-8c92-a6c4dae69d19",
    "_uuid": "8f2839f25d086af736a60e9eeb907d3b93b6e0e5",
    "execution": {
     "iopub.execute_input": "2022-06-13T12:09:48.712778Z",
     "iopub.status.busy": "2022-06-13T12:09:48.712184Z",
     "iopub.status.idle": "2022-06-13T12:09:48.728573Z",
     "shell.execute_reply": "2022-06-13T12:09:48.727596Z"
    },
    "papermill": {
     "duration": 0.024922,
     "end_time": "2022-06-13T12:09:48.731236",
     "exception": false,
     "start_time": "2022-06-13T12:09:48.706314",
     "status": "completed"
    },
    "tags": []
   },
   "outputs": [
    {
     "name": "stdout",
     "output_type": "stream",
     "text": [
      "/kaggle/input/2022-ml-finalexam-p5/train.csv\n",
      "/kaggle/input/2022-ml-finalexam-p5/test.csv\n",
      "/kaggle/input/2022-ml-finalexam-p5/sample_submit.csv\n"
     ]
    }
   ],
   "source": [
    "# This Python 3 environment comes with many helpful analytics libraries installed\n",
    "# It is defined by the kaggle/python Docker image: https://github.com/kaggle/docker-python\n",
    "# For example, here's several helpful packages to load\n",
    "\n",
    "import numpy as np # linear algebra\n",
    "import pandas as pd # data processing, CSV file I/O (e.g. pd.read_csv)\n",
    "\n",
    "# Input data files are available in the read-only \"../input/\" directory\n",
    "# For example, running this (by clicking run or pressing Shift+Enter) will list all files under the input directory\n",
    "\n",
    "import os\n",
    "for dirname, _, filenames in os.walk('/kaggle/input'):\n",
    "    for filename in filenames:\n",
    "        print(os.path.join(dirname, filename))\n",
    "# You can write up to 20GB to the current directory (/kaggle/working/) that gets preserved as output when you create a version using \"Save & Run All\" \n",
    "# You can also write temporary files to /kaggle/temp/, but they won't be saved outside of the current session"
   ]
  },
  {
   "cell_type": "code",
   "execution_count": 2,
   "id": "57b5a4b8",
   "metadata": {
    "execution": {
     "iopub.execute_input": "2022-06-13T12:09:48.739591Z",
     "iopub.status.busy": "2022-06-13T12:09:48.739241Z",
     "iopub.status.idle": "2022-06-13T12:09:48.771073Z",
     "shell.execute_reply": "2022-06-13T12:09:48.770031Z"
    },
    "papermill": {
     "duration": 0.038431,
     "end_time": "2022-06-13T12:09:48.773470",
     "exception": false,
     "start_time": "2022-06-13T12:09:48.735039",
     "status": "completed"
    },
    "tags": []
   },
   "outputs": [],
   "source": [
    "train = pd.read_csv('../input/2022-ml-finalexam-p5/train.csv')\n",
    "test = pd.read_csv('../input/2022-ml-finalexam-p5/test.csv')\n",
    "submit = pd.read_csv('../input/2022-ml-finalexam-p5/sample_submit.csv')"
   ]
  },
  {
   "cell_type": "code",
   "execution_count": 3,
   "id": "cb85e863",
   "metadata": {
    "execution": {
     "iopub.execute_input": "2022-06-13T12:09:48.782524Z",
     "iopub.status.busy": "2022-06-13T12:09:48.781790Z",
     "iopub.status.idle": "2022-06-13T12:09:48.797947Z",
     "shell.execute_reply": "2022-06-13T12:09:48.797113Z"
    },
    "papermill": {
     "duration": 0.023184,
     "end_time": "2022-06-13T12:09:48.800330",
     "exception": false,
     "start_time": "2022-06-13T12:09:48.777146",
     "status": "completed"
    },
    "tags": []
   },
   "outputs": [],
   "source": [
    "# 필요없는 정보와 null 값이 너무 많은 Cabin은 drop하고 X 데이터에 넣었다.\n",
    "\n",
    "trainX = train.drop(['PassengerId', 'Name', 'Age','Survived','Ticket','Cabin'], axis=1)\n",
    "testX = test.drop(['PassengerId', 'Name', 'Age','Ticket','Cabin'], axis=1)\n",
    "trainY = train['Survived']"
   ]
  },
  {
   "cell_type": "code",
   "execution_count": 4,
   "id": "4dc3ae1d",
   "metadata": {
    "execution": {
     "iopub.execute_input": "2022-06-13T12:09:48.809024Z",
     "iopub.status.busy": "2022-06-13T12:09:48.808330Z",
     "iopub.status.idle": "2022-06-13T12:09:49.832124Z",
     "shell.execute_reply": "2022-06-13T12:09:49.831266Z"
    },
    "papermill": {
     "duration": 1.030656,
     "end_time": "2022-06-13T12:09:49.834449",
     "exception": false,
     "start_time": "2022-06-13T12:09:48.803793",
     "status": "completed"
    },
    "tags": []
   },
   "outputs": [],
   "source": [
    "# Label Encoder를 이용하여 실수 형태로 변환해 준다.\n",
    "\n",
    "from sklearn.preprocessing import LabelEncoder\n",
    "le = LabelEncoder()\n",
    "\n",
    "trainX['Embarked'] = le.fit_transform(trainX['Embarked'])\n",
    "testX['Embarked'] = le.transform(testX['Embarked'])\n",
    "\n",
    "trainX['Sex'] = le.fit_transform(trainX['Sex'])\n",
    "testX['Sex'] = le.transform(testX['Sex'])"
   ]
  },
  {
   "cell_type": "code",
   "execution_count": 5,
   "id": "29585a2c",
   "metadata": {
    "execution": {
     "iopub.execute_input": "2022-06-13T12:09:49.845713Z",
     "iopub.status.busy": "2022-06-13T12:09:49.845096Z",
     "iopub.status.idle": "2022-06-13T12:09:50.293706Z",
     "shell.execute_reply": "2022-06-13T12:09:50.293008Z"
    },
    "papermill": {
     "duration": 0.457675,
     "end_time": "2022-06-13T12:09:50.295649",
     "exception": false,
     "start_time": "2022-06-13T12:09:49.837974",
     "status": "completed"
    },
    "tags": []
   },
   "outputs": [
    {
     "data": {
      "text/plain": [
       "RandomForestClassifier(random_state=1)"
      ]
     },
     "execution_count": 5,
     "metadata": {},
     "output_type": "execute_result"
    }
   ],
   "source": [
    "# 분류문제로 RandomForestClassifier를 사용하였다.\n",
    "# 그 다음 모델로 train 데이터를 학습 시켜준다.\n",
    "\n",
    "from sklearn.ensemble import RandomForestClassifier\n",
    "model = RandomForestClassifier(random_state=1)\n",
    "model.fit(trainX, trainY)"
   ]
  },
  {
   "cell_type": "code",
   "execution_count": 6,
   "id": "c3d1c7d9",
   "metadata": {
    "execution": {
     "iopub.execute_input": "2022-06-13T12:09:50.304664Z",
     "iopub.status.busy": "2022-06-13T12:09:50.303830Z",
     "iopub.status.idle": "2022-06-13T12:09:50.328216Z",
     "shell.execute_reply": "2022-06-13T12:09:50.327361Z"
    },
    "papermill": {
     "duration": 0.031323,
     "end_time": "2022-06-13T12:09:50.330466",
     "exception": false,
     "start_time": "2022-06-13T12:09:50.299143",
     "status": "completed"
    },
    "tags": []
   },
   "outputs": [],
   "source": [
    "# 예측한다.\n",
    "\n",
    "pre = model.predict(testX)"
   ]
  },
  {
   "cell_type": "code",
   "execution_count": 7,
   "id": "8db92c14",
   "metadata": {
    "execution": {
     "iopub.execute_input": "2022-06-13T12:09:50.339176Z",
     "iopub.status.busy": "2022-06-13T12:09:50.338297Z",
     "iopub.status.idle": "2022-06-13T12:09:50.346024Z",
     "shell.execute_reply": "2022-06-13T12:09:50.345341Z"
    },
    "papermill": {
     "duration": 0.014043,
     "end_time": "2022-06-13T12:09:50.347927",
     "exception": false,
     "start_time": "2022-06-13T12:09:50.333884",
     "status": "completed"
    },
    "tags": []
   },
   "outputs": [],
   "source": [
    "# csv 파일로 변환하여 제출한다.\n",
    "\n",
    "submit['Survived'] = pre\n",
    "submit.to_csv('result9.csv', index=False)"
   ]
  },
  {
   "cell_type": "code",
   "execution_count": null,
   "id": "bc5d6ac5",
   "metadata": {
    "papermill": {
     "duration": 0.003017,
     "end_time": "2022-06-13T12:09:50.354303",
     "exception": false,
     "start_time": "2022-06-13T12:09:50.351286",
     "status": "completed"
    },
    "tags": []
   },
   "outputs": [],
   "source": []
  }
 ],
 "metadata": {
  "kernelspec": {
   "display_name": "Python 3",
   "language": "python",
   "name": "python3"
  },
  "language_info": {
   "codemirror_mode": {
    "name": "ipython",
    "version": 3
   },
   "file_extension": ".py",
   "mimetype": "text/x-python",
   "name": "python",
   "nbconvert_exporter": "python",
   "pygments_lexer": "ipython3",
   "version": "3.7.12"
  },
  "papermill": {
   "default_parameters": {},
   "duration": 12.123693,
   "end_time": "2022-06-13T12:09:51.079087",
   "environment_variables": {},
   "exception": null,
   "input_path": "__notebook__.ipynb",
   "output_path": "__notebook__.ipynb",
   "parameters": {},
   "start_time": "2022-06-13T12:09:38.955394",
   "version": "2.3.4"
  }
 },
 "nbformat": 4,
 "nbformat_minor": 5
}
