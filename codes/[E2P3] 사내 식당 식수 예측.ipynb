{
 "cells": [
  {
   "cell_type": "code",
   "execution_count": 1,
   "id": "4615330e",
   "metadata": {
    "_cell_guid": "b1076dfc-b9ad-4769-8c92-a6c4dae69d19",
    "_uuid": "8f2839f25d086af736a60e9eeb907d3b93b6e0e5",
    "execution": {
     "iopub.execute_input": "2022-06-13T12:59:04.041553Z",
     "iopub.status.busy": "2022-06-13T12:59:04.040667Z",
     "iopub.status.idle": "2022-06-13T12:59:04.058110Z",
     "shell.execute_reply": "2022-06-13T12:59:04.056314Z"
    },
    "papermill": {
     "duration": 0.029989,
     "end_time": "2022-06-13T12:59:04.063241",
     "exception": false,
     "start_time": "2022-06-13T12:59:04.033252",
     "status": "completed"
    },
    "tags": []
   },
   "outputs": [
    {
     "name": "stdout",
     "output_type": "stream",
     "text": [
      "/kaggle/input/2022-ml-finalexam-p3/train.csv\n",
      "/kaggle/input/2022-ml-finalexam-p3/test.csv\n",
      "/kaggle/input/2022-ml-finalexam-p3/sample_submit.csv\n"
     ]
    }
   ],
   "source": [
    "# This Python 3 environment comes with many helpful analytics libraries installed\n",
    "# It is defined by the kaggle/python Docker image: https://github.com/kaggle/docker-python\n",
    "# For example, here's several helpful packages to load\n",
    "\n",
    "import numpy as np # linear algebra\n",
    "import pandas as pd # data processing, CSV file I/O (e.g. pd.read_csv)\n",
    "\n",
    "# Input data files are available in the read-only \"../input/\" directory\n",
    "# For example, running this (by clicking run or pressing Shift+Enter) will list all files under the input directory\n",
    "\n",
    "import os\n",
    "for dirname, _, filenames in os.walk('/kaggle/input'):\n",
    "    for filename in filenames:\n",
    "        print(os.path.join(dirname, filename))\n",
    "\n",
    "# You can write up to 20GB to the current directory (/kaggle/working/) that gets preserved as output when you create a version using \"Save & Run All\" \n",
    "# You can also write temporary files to /kaggle/temp/, but they won't be saved outside of the current session"
   ]
  },
  {
   "cell_type": "code",
   "execution_count": 2,
   "id": "9395bfd0",
   "metadata": {
    "execution": {
     "iopub.execute_input": "2022-06-13T12:59:04.074573Z",
     "iopub.status.busy": "2022-06-13T12:59:04.074078Z",
     "iopub.status.idle": "2022-06-13T12:59:04.123273Z",
     "shell.execute_reply": "2022-06-13T12:59:04.122318Z"
    },
    "papermill": {
     "duration": 0.057614,
     "end_time": "2022-06-13T12:59:04.125824",
     "exception": false,
     "start_time": "2022-06-13T12:59:04.068210",
     "status": "completed"
    },
    "tags": []
   },
   "outputs": [],
   "source": [
    "# data를 가져온다\n",
    "\n",
    "train = pd.read_csv('../input/2022-ml-finalexam-p3/train.csv')\n",
    "test = pd.read_csv('../input/2022-ml-finalexam-p3/test.csv')\n",
    "submit = pd.read_csv('../input/2022-ml-finalexam-p3/sample_submit.csv')"
   ]
  },
  {
   "cell_type": "code",
   "execution_count": 3,
   "id": "8b7ab39a",
   "metadata": {
    "execution": {
     "iopub.execute_input": "2022-06-13T12:59:04.136396Z",
     "iopub.status.busy": "2022-06-13T12:59:04.135991Z",
     "iopub.status.idle": "2022-06-13T12:59:04.155179Z",
     "shell.execute_reply": "2022-06-13T12:59:04.153936Z"
    },
    "papermill": {
     "duration": 0.027614,
     "end_time": "2022-06-13T12:59:04.157843",
     "exception": false,
     "start_time": "2022-06-13T12:59:04.130229",
     "status": "completed"
    },
    "tags": []
   },
   "outputs": [],
   "source": [
    "trainX = train.drop(['Unnamed: 0', '일자', '조식메뉴', '중식메뉴', '석식메뉴','중식계'], axis=1)\n",
    "trainY = train['중식계']\n",
    "testX = test.drop(['Unnamed: 0', '조식메뉴', '중식메뉴', '석식메뉴', '일자'], axis=1)"
   ]
  },
  {
   "cell_type": "code",
   "execution_count": 4,
   "id": "849b1c7a",
   "metadata": {
    "execution": {
     "iopub.execute_input": "2022-06-13T12:59:04.168183Z",
     "iopub.status.busy": "2022-06-13T12:59:04.167480Z",
     "iopub.status.idle": "2022-06-13T12:59:05.352293Z",
     "shell.execute_reply": "2022-06-13T12:59:05.351325Z"
    },
    "papermill": {
     "duration": 1.192698,
     "end_time": "2022-06-13T12:59:05.354843",
     "exception": false,
     "start_time": "2022-06-13T12:59:04.162145",
     "status": "completed"
    },
    "tags": []
   },
   "outputs": [],
   "source": [
    "# 라벨인코더를 통해 실수화한다.\n",
    "\n",
    "from sklearn.preprocessing import LabelEncoder\n",
    "le = LabelEncoder()\n",
    "\n",
    "trainX['요일'] = le.fit_transform(trainX['요일'])\n",
    "testX['요일'] = le.transform(testX['요일'])"
   ]
  },
  {
   "cell_type": "code",
   "execution_count": 5,
   "id": "07c110de",
   "metadata": {
    "execution": {
     "iopub.execute_input": "2022-06-13T12:59:05.364815Z",
     "iopub.status.busy": "2022-06-13T12:59:05.364383Z",
     "iopub.status.idle": "2022-06-13T12:59:05.372634Z",
     "shell.execute_reply": "2022-06-13T12:59:05.371555Z"
    },
    "papermill": {
     "duration": 0.015813,
     "end_time": "2022-06-13T12:59:05.374864",
     "exception": false,
     "start_time": "2022-06-13T12:59:05.359051",
     "status": "completed"
    },
    "tags": []
   },
   "outputs": [],
   "source": [
    "# 각각의 배열에 넣는다\n",
    "\n",
    "breakfast_train = [x for x in train['조식메뉴']]\n",
    "lunch_train = [x for x in train['중식메뉴']]\n",
    "dinner_train = [x for x in train['석식메뉴']]\n",
    "\n",
    "breakfast_test = [x for x in test['조식메뉴']]\n",
    "lunch_test = [x for x in test['중식메뉴']]\n",
    "dinner_test = [x for x in test['석식메뉴']]"
   ]
  },
  {
   "cell_type": "code",
   "execution_count": 6,
   "id": "22e21107",
   "metadata": {
    "execution": {
     "iopub.execute_input": "2022-06-13T12:59:05.384795Z",
     "iopub.status.busy": "2022-06-13T12:59:05.384387Z",
     "iopub.status.idle": "2022-06-13T12:59:05.593360Z",
     "shell.execute_reply": "2022-06-13T12:59:05.592590Z"
    },
    "papermill": {
     "duration": 0.216688,
     "end_time": "2022-06-13T12:59:05.595655",
     "exception": false,
     "start_time": "2022-06-13T12:59:05.378967",
     "status": "completed"
    },
    "tags": []
   },
   "outputs": [],
   "source": [
    "# CountVectorizer를 이용하여 text를 분류한다.\n",
    "\n",
    "from sklearn.feature_extraction.text import CountVectorizer\n",
    "vec = CountVectorizer()\n",
    "\n",
    "vec.fit(breakfast_train + breakfast_test + lunch_train+ lunch_test + dinner_train + dinner_test)\n",
    "\n",
    "breakfast_train = vec.transform(breakfast_train).toarray()\n",
    "breakfast_test = vec.transform(breakfast_test).toarray()\n",
    "\n",
    "lunch_train = vec.transform(lunch_train).toarray()\n",
    "lunch_test = vec.transform(lunch_test).toarray()\n",
    "\n",
    "dinner_train = vec.transform(dinner_train).toarray()\n",
    "dinner_test = vec.transform(dinner_test).toarray()"
   ]
  },
  {
   "cell_type": "code",
   "execution_count": 7,
   "id": "f2c420b0",
   "metadata": {
    "execution": {
     "iopub.execute_input": "2022-06-13T12:59:05.609156Z",
     "iopub.status.busy": "2022-06-13T12:59:05.607439Z",
     "iopub.status.idle": "2022-06-13T12:59:05.677593Z",
     "shell.execute_reply": "2022-06-13T12:59:05.676704Z"
    },
    "papermill": {
     "duration": 0.079473,
     "end_time": "2022-06-13T12:59:05.679908",
     "exception": false,
     "start_time": "2022-06-13T12:59:05.600435",
     "status": "completed"
    },
    "tags": []
   },
   "outputs": [],
   "source": [
    "x_train = pd.concat([trainX, pd.DataFrame(breakfast_train), pd.DataFrame(lunch_train), pd.DataFrame(dinner_train)], axis=1)\n",
    "x_test = pd.concat([testX, pd.DataFrame(breakfast_test), pd.DataFrame(lunch_test), pd.DataFrame(dinner_test)], axis=1)"
   ]
  },
  {
   "cell_type": "code",
   "execution_count": 8,
   "id": "497346d1",
   "metadata": {
    "execution": {
     "iopub.execute_input": "2022-06-13T12:59:05.689449Z",
     "iopub.status.busy": "2022-06-13T12:59:05.689064Z",
     "iopub.status.idle": "2022-06-13T12:59:17.728132Z",
     "shell.execute_reply": "2022-06-13T12:59:17.727401Z"
    },
    "papermill": {
     "duration": 12.046087,
     "end_time": "2022-06-13T12:59:17.730051",
     "exception": false,
     "start_time": "2022-06-13T12:59:05.683964",
     "status": "completed"
    },
    "tags": []
   },
   "outputs": [
    {
     "name": "stderr",
     "output_type": "stream",
     "text": [
      "/opt/conda/lib/python3.7/site-packages/sklearn/utils/validation.py:1692: FutureWarning: Feature names only support names that are all strings. Got feature names with dtypes: ['int', 'str']. An error will be raised in 1.2.\n",
      "  FutureWarning,\n"
     ]
    },
    {
     "data": {
      "text/plain": [
       "RandomForestRegressor(random_state=1)"
      ]
     },
     "execution_count": 8,
     "metadata": {},
     "output_type": "execute_result"
    }
   ],
   "source": [
    "# 회귀문제로 RandomForestRegressor를 사용하였다.\n",
    "# 그 다음 모델로 train 데이터를 학습 시켜준다.\n",
    "\n",
    "from sklearn.ensemble import RandomForestRegressor\n",
    "model = RandomForestRegressor(random_state=1)\n",
    "model.fit(x_train, trainY)"
   ]
  },
  {
   "cell_type": "code",
   "execution_count": 9,
   "id": "e9ff167e",
   "metadata": {
    "execution": {
     "iopub.execute_input": "2022-06-13T12:59:17.740878Z",
     "iopub.status.busy": "2022-06-13T12:59:17.740360Z",
     "iopub.status.idle": "2022-06-13T12:59:17.875937Z",
     "shell.execute_reply": "2022-06-13T12:59:17.874812Z"
    },
    "papermill": {
     "duration": 0.144485,
     "end_time": "2022-06-13T12:59:17.879084",
     "exception": false,
     "start_time": "2022-06-13T12:59:17.734599",
     "status": "completed"
    },
    "tags": []
   },
   "outputs": [
    {
     "name": "stderr",
     "output_type": "stream",
     "text": [
      "/opt/conda/lib/python3.7/site-packages/sklearn/utils/validation.py:1692: FutureWarning: Feature names only support names that are all strings. Got feature names with dtypes: ['int', 'str']. An error will be raised in 1.2.\n",
      "  FutureWarning,\n"
     ]
    }
   ],
   "source": [
    "pred = model.predict(x_test)\n",
    "submit['중식계'] = pred"
   ]
  },
  {
   "cell_type": "code",
   "execution_count": 10,
   "id": "7b179ce7",
   "metadata": {
    "execution": {
     "iopub.execute_input": "2022-06-13T12:59:17.889523Z",
     "iopub.status.busy": "2022-06-13T12:59:17.888672Z",
     "iopub.status.idle": "2022-06-13T12:59:17.897252Z",
     "shell.execute_reply": "2022-06-13T12:59:17.896260Z"
    },
    "papermill": {
     "duration": 0.016243,
     "end_time": "2022-06-13T12:59:17.899591",
     "exception": false,
     "start_time": "2022-06-13T12:59:17.883348",
     "status": "completed"
    },
    "tags": []
   },
   "outputs": [],
   "source": [
    "submit.to_csv('result4.csv', index=False)"
   ]
  },
  {
   "cell_type": "code",
   "execution_count": null,
   "id": "c95ae376",
   "metadata": {
    "papermill": {
     "duration": 0.003955,
     "end_time": "2022-06-13T12:59:17.908125",
     "exception": false,
     "start_time": "2022-06-13T12:59:17.904170",
     "status": "completed"
    },
    "tags": []
   },
   "outputs": [],
   "source": []
  }
 ],
 "metadata": {
  "kernelspec": {
   "display_name": "Python 3",
   "language": "python",
   "name": "python3"
  },
  "language_info": {
   "codemirror_mode": {
    "name": "ipython",
    "version": 3
   },
   "file_extension": ".py",
   "mimetype": "text/x-python",
   "name": "python",
   "nbconvert_exporter": "python",
   "pygments_lexer": "ipython3",
   "version": "3.7.12"
  },
  "papermill": {
   "default_parameters": {},
   "duration": 25.207742,
   "end_time": "2022-06-13T12:59:18.735653",
   "environment_variables": {},
   "exception": null,
   "input_path": "__notebook__.ipynb",
   "output_path": "__notebook__.ipynb",
   "parameters": {},
   "start_time": "2022-06-13T12:58:53.527911",
   "version": "2.3.4"
  }
 },
 "nbformat": 4,
 "nbformat_minor": 5
}
