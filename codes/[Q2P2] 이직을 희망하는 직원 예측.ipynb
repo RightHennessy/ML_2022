{
 "cells": [
  {
   "cell_type": "code",
   "execution_count": 1,
   "id": "68cdb7d1",
   "metadata": {
    "_cell_guid": "b1076dfc-b9ad-4769-8c92-a6c4dae69d19",
    "_uuid": "8f2839f25d086af736a60e9eeb907d3b93b6e0e5",
    "execution": {
     "iopub.execute_input": "2022-06-08T11:29:59.270176Z",
     "iopub.status.busy": "2022-06-08T11:29:59.269487Z",
     "iopub.status.idle": "2022-06-08T11:29:59.285862Z",
     "shell.execute_reply": "2022-06-08T11:29:59.284817Z"
    },
    "papermill": {
     "duration": 0.031429,
     "end_time": "2022-06-08T11:29:59.288648",
     "exception": false,
     "start_time": "2022-06-08T11:29:59.257219",
     "status": "completed"
    },
    "tags": []
   },
   "outputs": [
    {
     "name": "stdout",
     "output_type": "stream",
     "text": [
      "/kaggle/input/2022-ml-quiz2-p2/train.csv\n",
      "/kaggle/input/2022-ml-quiz2-p2/test.csv\n",
      "/kaggle/input/2022-ml-quiz2-p2/sample_submit.csv\n"
     ]
    }
   ],
   "source": [
    "# This Python 3 environment comes with many helpful analytics libraries installed\n",
    "# It is defined by the kaggle/python Docker image: https://github.com/kaggle/docker-python\n",
    "# For example, here's several helpful packages to load\n",
    "\n",
    "import numpy as np # linear algebra\n",
    "import pandas as pd # data processing, CSV file I/O (e.g. pd.read_csv)\n",
    "\n",
    "# Input data files are available in the read-only \"../input/\" directory\n",
    "# For example, running this (by clicking run or pressing Shift+Enter) will list all files under the input directory\n",
    "\n",
    "import os\n",
    "for dirname, _, filenames in os.walk('/kaggle/input'):\n",
    "    for filename in filenames:\n",
    "        print(os.path.join(dirname, filename))\n",
    "\n",
    "# You can write up to 20GB to the current directory (/kaggle/working/) that gets preserved as output when you create a version using \"Save & Run All\" \n",
    "# You can also write temporary files to /kaggle/temp/, but they won't be saved outside of the current session"
   ]
  },
  {
   "cell_type": "code",
   "execution_count": 2,
   "id": "e481a7f9",
   "metadata": {
    "execution": {
     "iopub.execute_input": "2022-06-08T11:29:59.302795Z",
     "iopub.status.busy": "2022-06-08T11:29:59.302328Z",
     "iopub.status.idle": "2022-06-08T11:29:59.418633Z",
     "shell.execute_reply": "2022-06-08T11:29:59.417684Z"
    },
    "papermill": {
     "duration": 0.126242,
     "end_time": "2022-06-08T11:29:59.421238",
     "exception": false,
     "start_time": "2022-06-08T11:29:59.294996",
     "status": "completed"
    },
    "tags": []
   },
   "outputs": [],
   "source": [
    "train = pd.read_csv('../input/2022-ml-quiz2-p2/train.csv')\n",
    "test = pd.read_csv('../input/2022-ml-quiz2-p2/test.csv')\n",
    "submit = pd.read_csv('../input/2022-ml-quiz2-p2/sample_submit.csv')"
   ]
  },
  {
   "cell_type": "code",
   "execution_count": 3,
   "id": "1d219ef4",
   "metadata": {
    "execution": {
     "iopub.execute_input": "2022-06-08T11:29:59.435758Z",
     "iopub.status.busy": "2022-06-08T11:29:59.434744Z",
     "iopub.status.idle": "2022-06-08T11:29:59.454215Z",
     "shell.execute_reply": "2022-06-08T11:29:59.452982Z"
    },
    "papermill": {
     "duration": 0.029415,
     "end_time": "2022-06-08T11:29:59.456875",
     "exception": false,
     "start_time": "2022-06-08T11:29:59.427460",
     "status": "completed"
    },
    "tags": []
   },
   "outputs": [],
   "source": [
    "trainX = train.drop(['index', 'enrollee_id', 'city', 'target'], axis=1)\n",
    "trainY = train['target']\n",
    "testX = test.drop(['index', 'enrollee_id', 'city'], axis=1)"
   ]
  },
  {
   "cell_type": "code",
   "execution_count": 4,
   "id": "96ebf744",
   "metadata": {
    "execution": {
     "iopub.execute_input": "2022-06-08T11:29:59.471466Z",
     "iopub.status.busy": "2022-06-08T11:29:59.469835Z",
     "iopub.status.idle": "2022-06-08T11:30:00.669297Z",
     "shell.execute_reply": "2022-06-08T11:30:00.668279Z"
    },
    "papermill": {
     "duration": 1.209551,
     "end_time": "2022-06-08T11:30:00.672112",
     "exception": false,
     "start_time": "2022-06-08T11:29:59.462561",
     "status": "completed"
    },
    "tags": []
   },
   "outputs": [],
   "source": [
    "from sklearn.preprocessing import LabelEncoder\n",
    "\n",
    "le = LabelEncoder()\n",
    "\n",
    "trainX['gender'] = le.fit_transform(trainX['gender'])\n",
    "testX['gender'] = le.transform(testX['gender'])\n",
    "\n",
    "trainX['relevent_experience'] = le.fit_transform(trainX['relevent_experience'])\n",
    "testX['relevent_experience'] = le.transform(testX['relevent_experience'])\n",
    "\n",
    "trainX['enrolled_university'] = le.fit_transform(trainX['enrolled_university'])\n",
    "testX['enrolled_university'] = le.transform(testX['enrolled_university'])\n",
    "\n",
    "trainX['education_level'] = le.fit_transform(trainX['education_level'])\n",
    "testX['education_level'] = le.transform(testX['education_level'])\n",
    "\n",
    "trainX['education_level'] = le.fit_transform(trainX['education_level'])\n",
    "testX['education_level'] = le.transform(testX['education_level'])\n",
    "\n",
    "trainX['major_discipline'] = le.fit_transform(trainX['major_discipline'])\n",
    "testX['major_discipline'] = le.transform(testX['major_discipline'])\n",
    "\n",
    "trainX['company_type'] = le.fit_transform(trainX['company_type'])\n",
    "testX['company_type'] = le.transform(testX['company_type'])"
   ]
  },
  {
   "cell_type": "code",
   "execution_count": 5,
   "id": "5a81c612",
   "metadata": {
    "execution": {
     "iopub.execute_input": "2022-06-08T11:30:00.687609Z",
     "iopub.status.busy": "2022-06-08T11:30:00.686937Z",
     "iopub.status.idle": "2022-06-08T11:30:00.697921Z",
     "shell.execute_reply": "2022-06-08T11:30:00.697271Z"
    },
    "papermill": {
     "duration": 0.020839,
     "end_time": "2022-06-08T11:30:00.700501",
     "exception": false,
     "start_time": "2022-06-08T11:30:00.679662",
     "status": "completed"
    },
    "tags": []
   },
   "outputs": [
    {
     "data": {
      "text/plain": [
       "array(['>20', '15', '<1', '11', '5', '13', '7', '2', '1', '4', '10', '18',\n",
       "       '19', '12', '3', '16', '6', '9', '14', '8', '20', nan, '17'],\n",
       "      dtype=object)"
      ]
     },
     "execution_count": 5,
     "metadata": {},
     "output_type": "execute_result"
    }
   ],
   "source": [
    "trainX['experience'].unique()"
   ]
  },
  {
   "cell_type": "code",
   "execution_count": 6,
   "id": "f98a3d40",
   "metadata": {
    "execution": {
     "iopub.execute_input": "2022-06-08T11:30:00.715390Z",
     "iopub.status.busy": "2022-06-08T11:30:00.714802Z",
     "iopub.status.idle": "2022-06-08T11:30:00.746261Z",
     "shell.execute_reply": "2022-06-08T11:30:00.745442Z"
    },
    "papermill": {
     "duration": 0.041998,
     "end_time": "2022-06-08T11:30:00.748925",
     "exception": false,
     "start_time": "2022-06-08T11:30:00.706927",
     "status": "completed"
    },
    "tags": []
   },
   "outputs": [],
   "source": [
    "tmp = trainX['experience'].copy()\n",
    "tmp[tmp == '>20' ] = 21\n",
    "tmp[tmp == '<1'] = 0\n",
    "tmp[tmp.isnull()] = -1\n",
    "trainX['experience'] = tmp\n",
    "trainX['experience'] = trainX['experience'].astype('int64')\n",
    "\n",
    "tmp = testX['experience'].copy()\n",
    "tmp[tmp == '>20' ] = 21\n",
    "tmp[tmp == '<1'] = 0\n",
    "tmp[tmp.isnull()] = -1\n",
    "testX['experience'] = tmp\n",
    "testX['experience'] = trainX['experience'].astype('int64')"
   ]
  },
  {
   "cell_type": "code",
   "execution_count": 7,
   "id": "b66030b8",
   "metadata": {
    "execution": {
     "iopub.execute_input": "2022-06-08T11:30:00.763242Z",
     "iopub.status.busy": "2022-06-08T11:30:00.762545Z",
     "iopub.status.idle": "2022-06-08T11:30:00.770344Z",
     "shell.execute_reply": "2022-06-08T11:30:00.769434Z"
    },
    "papermill": {
     "duration": 0.017791,
     "end_time": "2022-06-08T11:30:00.772840",
     "exception": false,
     "start_time": "2022-06-08T11:30:00.755049",
     "status": "completed"
    },
    "tags": []
   },
   "outputs": [
    {
     "data": {
      "text/plain": [
       "array([nan, '50-99', '<10', '1000-4999', '10000+', '100-500', '5000-9999',\n",
       "       '10/49', '500-999'], dtype=object)"
      ]
     },
     "execution_count": 7,
     "metadata": {},
     "output_type": "execute_result"
    }
   ],
   "source": [
    "trainX['company_size'].unique()"
   ]
  },
  {
   "cell_type": "code",
   "execution_count": 8,
   "id": "38eb5b76",
   "metadata": {
    "execution": {
     "iopub.execute_input": "2022-06-08T11:30:00.787319Z",
     "iopub.status.busy": "2022-06-08T11:30:00.786668Z",
     "iopub.status.idle": "2022-06-08T11:30:00.849686Z",
     "shell.execute_reply": "2022-06-08T11:30:00.848675Z"
    },
    "papermill": {
     "duration": 0.07385,
     "end_time": "2022-06-08T11:30:00.852812",
     "exception": false,
     "start_time": "2022-06-08T11:30:00.778962",
     "status": "completed"
    },
    "tags": []
   },
   "outputs": [],
   "source": [
    "tmp = trainX['company_size'].copy()\n",
    "tmp[tmp == '10000+'] = 10000\n",
    "tmp[tmp == '5000-9999' ] = 5000\n",
    "tmp[tmp == '1000-4999'] = 10000\n",
    "tmp[tmp == '500-999'] = 500\n",
    "tmp[tmp == '100-500'] = 100\n",
    "tmp[tmp == '50-99'] = 50\n",
    "tmp[tmp == '10/49'] = 10\n",
    "tmp[tmp == '<10'] = 0\n",
    "tmp[tmp.isnull()] = -1\n",
    "trainX['company_size'] = tmp.astype('int64')\n",
    "\n",
    "tmp = testX['company_size'].copy()\n",
    "tmp[tmp == '10000+'] = 10000\n",
    "tmp[tmp == '5000-9999' ] = 5000\n",
    "tmp[tmp == '1000-4999'] = 10000\n",
    "tmp[tmp == '500-999'] = 500\n",
    "tmp[tmp == '100-500'] = 100\n",
    "tmp[tmp == '50-99'] = 50\n",
    "tmp[tmp == '10/49'] = 10\n",
    "tmp[tmp == '<10'] = 0\n",
    "tmp[tmp.isnull()] = -1\n",
    "testX['company_size'] = tmp.astype('int64')"
   ]
  },
  {
   "cell_type": "code",
   "execution_count": 9,
   "id": "0823d092",
   "metadata": {
    "execution": {
     "iopub.execute_input": "2022-06-08T11:30:00.867931Z",
     "iopub.status.busy": "2022-06-08T11:30:00.867495Z",
     "iopub.status.idle": "2022-06-08T11:30:00.876402Z",
     "shell.execute_reply": "2022-06-08T11:30:00.875208Z"
    },
    "papermill": {
     "duration": 0.019281,
     "end_time": "2022-06-08T11:30:00.878742",
     "exception": false,
     "start_time": "2022-06-08T11:30:00.859461",
     "status": "completed"
    },
    "tags": []
   },
   "outputs": [
    {
     "data": {
      "text/plain": [
       "array(['1', '>4', 'never', '4', '3', '2', nan], dtype=object)"
      ]
     },
     "execution_count": 9,
     "metadata": {},
     "output_type": "execute_result"
    }
   ],
   "source": [
    "trainX['last_new_job'].unique()"
   ]
  },
  {
   "cell_type": "code",
   "execution_count": 10,
   "id": "95c96287",
   "metadata": {
    "execution": {
     "iopub.execute_input": "2022-06-08T11:30:00.892589Z",
     "iopub.status.busy": "2022-06-08T11:30:00.892101Z",
     "iopub.status.idle": "2022-06-08T11:30:00.924699Z",
     "shell.execute_reply": "2022-06-08T11:30:00.923529Z"
    },
    "papermill": {
     "duration": 0.042492,
     "end_time": "2022-06-08T11:30:00.927243",
     "exception": false,
     "start_time": "2022-06-08T11:30:00.884751",
     "status": "completed"
    },
    "tags": []
   },
   "outputs": [],
   "source": [
    "tmp = trainX['last_new_job'].copy()\n",
    "tmp[tmp == '>4'] = 5\n",
    "tmp[tmp == 'never' ] = 0\n",
    "tmp[tmp.isnull()] = -1\n",
    "trainX['last_new_job'] = tmp.astype('int64')\n",
    "\n",
    "tmp = testX['last_new_job'].copy()\n",
    "tmp[tmp == '>4'] = 5\n",
    "tmp[tmp == 'never' ] = 0\n",
    "tmp[tmp.isnull()] = -1\n",
    "testX['last_new_job'] = tmp.astype('int64')"
   ]
  },
  {
   "cell_type": "code",
   "execution_count": 11,
   "id": "8bc592f4",
   "metadata": {
    "execution": {
     "iopub.execute_input": "2022-06-08T11:30:00.941468Z",
     "iopub.status.busy": "2022-06-08T11:30:00.940975Z",
     "iopub.status.idle": "2022-06-08T11:30:00.967007Z",
     "shell.execute_reply": "2022-06-08T11:30:00.966065Z"
    },
    "papermill": {
     "duration": 0.035687,
     "end_time": "2022-06-08T11:30:00.969255",
     "exception": false,
     "start_time": "2022-06-08T11:30:00.933568",
     "status": "completed"
    },
    "tags": []
   },
   "outputs": [
    {
     "data": {
      "text/html": [
       "<div>\n",
       "<style scoped>\n",
       "    .dataframe tbody tr th:only-of-type {\n",
       "        vertical-align: middle;\n",
       "    }\n",
       "\n",
       "    .dataframe tbody tr th {\n",
       "        vertical-align: top;\n",
       "    }\n",
       "\n",
       "    .dataframe thead th {\n",
       "        text-align: right;\n",
       "    }\n",
       "</style>\n",
       "<table border=\"1\" class=\"dataframe\">\n",
       "  <thead>\n",
       "    <tr style=\"text-align: right;\">\n",
       "      <th></th>\n",
       "      <th>city_development_index</th>\n",
       "      <th>gender</th>\n",
       "      <th>relevent_experience</th>\n",
       "      <th>enrolled_university</th>\n",
       "      <th>education_level</th>\n",
       "      <th>major_discipline</th>\n",
       "      <th>experience</th>\n",
       "      <th>company_size</th>\n",
       "      <th>company_type</th>\n",
       "      <th>last_new_job</th>\n",
       "      <th>training_hours</th>\n",
       "    </tr>\n",
       "  </thead>\n",
       "  <tbody>\n",
       "    <tr>\n",
       "      <th>0</th>\n",
       "      <td>0.624</td>\n",
       "      <td>3</td>\n",
       "      <td>1</td>\n",
       "      <td>0</td>\n",
       "      <td>0</td>\n",
       "      <td>5</td>\n",
       "      <td>21</td>\n",
       "      <td>-1</td>\n",
       "      <td>6</td>\n",
       "      <td>0</td>\n",
       "      <td>83</td>\n",
       "    </tr>\n",
       "    <tr>\n",
       "      <th>1</th>\n",
       "      <td>0.920</td>\n",
       "      <td>3</td>\n",
       "      <td>0</td>\n",
       "      <td>2</td>\n",
       "      <td>0</td>\n",
       "      <td>5</td>\n",
       "      <td>15</td>\n",
       "      <td>10000</td>\n",
       "      <td>5</td>\n",
       "      <td>5</td>\n",
       "      <td>123</td>\n",
       "    </tr>\n",
       "    <tr>\n",
       "      <th>2</th>\n",
       "      <td>0.624</td>\n",
       "      <td>3</td>\n",
       "      <td>1</td>\n",
       "      <td>0</td>\n",
       "      <td>1</td>\n",
       "      <td>6</td>\n",
       "      <td>0</td>\n",
       "      <td>-1</td>\n",
       "      <td>6</td>\n",
       "      <td>0</td>\n",
       "      <td>32</td>\n",
       "    </tr>\n",
       "    <tr>\n",
       "      <th>3</th>\n",
       "      <td>0.920</td>\n",
       "      <td>1</td>\n",
       "      <td>0</td>\n",
       "      <td>2</td>\n",
       "      <td>0</td>\n",
       "      <td>5</td>\n",
       "      <td>21</td>\n",
       "      <td>5000</td>\n",
       "      <td>5</td>\n",
       "      <td>1</td>\n",
       "      <td>108</td>\n",
       "    </tr>\n",
       "    <tr>\n",
       "      <th>4</th>\n",
       "      <td>0.926</td>\n",
       "      <td>1</td>\n",
       "      <td>0</td>\n",
       "      <td>2</td>\n",
       "      <td>0</td>\n",
       "      <td>5</td>\n",
       "      <td>11</td>\n",
       "      <td>10</td>\n",
       "      <td>5</td>\n",
       "      <td>5</td>\n",
       "      <td>18</td>\n",
       "    </tr>\n",
       "    <tr>\n",
       "      <th>...</th>\n",
       "      <td>...</td>\n",
       "      <td>...</td>\n",
       "      <td>...</td>\n",
       "      <td>...</td>\n",
       "      <td>...</td>\n",
       "      <td>...</td>\n",
       "      <td>...</td>\n",
       "      <td>...</td>\n",
       "      <td>...</td>\n",
       "      <td>...</td>\n",
       "      <td>...</td>\n",
       "    </tr>\n",
       "    <tr>\n",
       "      <th>3827</th>\n",
       "      <td>0.887</td>\n",
       "      <td>3</td>\n",
       "      <td>1</td>\n",
       "      <td>0</td>\n",
       "      <td>2</td>\n",
       "      <td>5</td>\n",
       "      <td>12</td>\n",
       "      <td>-1</td>\n",
       "      <td>4</td>\n",
       "      <td>1</td>\n",
       "      <td>30</td>\n",
       "    </tr>\n",
       "    <tr>\n",
       "      <th>3828</th>\n",
       "      <td>0.893</td>\n",
       "      <td>1</td>\n",
       "      <td>0</td>\n",
       "      <td>2</td>\n",
       "      <td>0</td>\n",
       "      <td>5</td>\n",
       "      <td>19</td>\n",
       "      <td>500</td>\n",
       "      <td>5</td>\n",
       "      <td>1</td>\n",
       "      <td>67</td>\n",
       "    </tr>\n",
       "    <tr>\n",
       "      <th>3829</th>\n",
       "      <td>0.802</td>\n",
       "      <td>1</td>\n",
       "      <td>0</td>\n",
       "      <td>2</td>\n",
       "      <td>0</td>\n",
       "      <td>5</td>\n",
       "      <td>21</td>\n",
       "      <td>50</td>\n",
       "      <td>4</td>\n",
       "      <td>2</td>\n",
       "      <td>136</td>\n",
       "    </tr>\n",
       "    <tr>\n",
       "      <th>3830</th>\n",
       "      <td>0.920</td>\n",
       "      <td>1</td>\n",
       "      <td>0</td>\n",
       "      <td>2</td>\n",
       "      <td>2</td>\n",
       "      <td>5</td>\n",
       "      <td>11</td>\n",
       "      <td>50</td>\n",
       "      <td>5</td>\n",
       "      <td>1</td>\n",
       "      <td>36</td>\n",
       "    </tr>\n",
       "    <tr>\n",
       "      <th>3831</th>\n",
       "      <td>0.920</td>\n",
       "      <td>1</td>\n",
       "      <td>0</td>\n",
       "      <td>2</td>\n",
       "      <td>0</td>\n",
       "      <td>5</td>\n",
       "      <td>14</td>\n",
       "      <td>50</td>\n",
       "      <td>5</td>\n",
       "      <td>4</td>\n",
       "      <td>44</td>\n",
       "    </tr>\n",
       "  </tbody>\n",
       "</table>\n",
       "<p>3832 rows × 11 columns</p>\n",
       "</div>"
      ],
      "text/plain": [
       "      city_development_index  gender  relevent_experience  \\\n",
       "0                      0.624       3                    1   \n",
       "1                      0.920       3                    0   \n",
       "2                      0.624       3                    1   \n",
       "3                      0.920       1                    0   \n",
       "4                      0.926       1                    0   \n",
       "...                      ...     ...                  ...   \n",
       "3827                   0.887       3                    1   \n",
       "3828                   0.893       1                    0   \n",
       "3829                   0.802       1                    0   \n",
       "3830                   0.920       1                    0   \n",
       "3831                   0.920       1                    0   \n",
       "\n",
       "      enrolled_university  education_level  major_discipline  experience  \\\n",
       "0                       0                0                 5          21   \n",
       "1                       2                0                 5          15   \n",
       "2                       0                1                 6           0   \n",
       "3                       2                0                 5          21   \n",
       "4                       2                0                 5          11   \n",
       "...                   ...              ...               ...         ...   \n",
       "3827                    0                2                 5          12   \n",
       "3828                    2                0                 5          19   \n",
       "3829                    2                0                 5          21   \n",
       "3830                    2                2                 5          11   \n",
       "3831                    2                0                 5          14   \n",
       "\n",
       "      company_size  company_type  last_new_job  training_hours  \n",
       "0               -1             6             0              83  \n",
       "1            10000             5             5             123  \n",
       "2               -1             6             0              32  \n",
       "3             5000             5             1             108  \n",
       "4               10             5             5              18  \n",
       "...            ...           ...           ...             ...  \n",
       "3827            -1             4             1              30  \n",
       "3828           500             5             1              67  \n",
       "3829            50             4             2             136  \n",
       "3830            50             5             1              36  \n",
       "3831            50             5             4              44  \n",
       "\n",
       "[3832 rows x 11 columns]"
      ]
     },
     "execution_count": 11,
     "metadata": {},
     "output_type": "execute_result"
    }
   ],
   "source": [
    "testX"
   ]
  },
  {
   "cell_type": "code",
   "execution_count": 12,
   "id": "38d01b70",
   "metadata": {
    "execution": {
     "iopub.execute_input": "2022-06-08T11:30:00.984076Z",
     "iopub.status.busy": "2022-06-08T11:30:00.983464Z",
     "iopub.status.idle": "2022-06-08T11:30:00.988831Z",
     "shell.execute_reply": "2022-06-08T11:30:00.987784Z"
    },
    "papermill": {
     "duration": 0.015888,
     "end_time": "2022-06-08T11:30:00.991497",
     "exception": false,
     "start_time": "2022-06-08T11:30:00.975609",
     "status": "completed"
    },
    "tags": []
   },
   "outputs": [],
   "source": [
    "trainY = trainY.astype('int64')"
   ]
  },
  {
   "cell_type": "code",
   "execution_count": 13,
   "id": "35a868c7",
   "metadata": {
    "execution": {
     "iopub.execute_input": "2022-06-08T11:30:01.009355Z",
     "iopub.status.busy": "2022-06-08T11:30:01.008743Z",
     "iopub.status.idle": "2022-06-08T11:30:02.964561Z",
     "shell.execute_reply": "2022-06-08T11:30:02.963489Z"
    },
    "papermill": {
     "duration": 1.968479,
     "end_time": "2022-06-08T11:30:02.967006",
     "exception": false,
     "start_time": "2022-06-08T11:30:00.998527",
     "status": "completed"
    },
    "tags": []
   },
   "outputs": [
    {
     "data": {
      "text/plain": [
       "RandomForestClassifier()"
      ]
     },
     "execution_count": 13,
     "metadata": {},
     "output_type": "execute_result"
    }
   ],
   "source": [
    "from sklearn.ensemble import RandomForestClassifier\n",
    "model = RandomForestClassifier()\n",
    "model.fit(trainX, trainY)"
   ]
  },
  {
   "cell_type": "code",
   "execution_count": 14,
   "id": "8735eb31",
   "metadata": {
    "execution": {
     "iopub.execute_input": "2022-06-08T11:30:02.982088Z",
     "iopub.status.busy": "2022-06-08T11:30:02.981555Z",
     "iopub.status.idle": "2022-06-08T11:30:03.108754Z",
     "shell.execute_reply": "2022-06-08T11:30:03.107459Z"
    },
    "papermill": {
     "duration": 0.13795,
     "end_time": "2022-06-08T11:30:03.111594",
     "exception": false,
     "start_time": "2022-06-08T11:30:02.973644",
     "status": "completed"
    },
    "tags": []
   },
   "outputs": [],
   "source": [
    "pred = model.predict(testX)"
   ]
  },
  {
   "cell_type": "code",
   "execution_count": 15,
   "id": "facf78ea",
   "metadata": {
    "execution": {
     "iopub.execute_input": "2022-06-08T11:30:03.127024Z",
     "iopub.status.busy": "2022-06-08T11:30:03.126626Z",
     "iopub.status.idle": "2022-06-08T11:30:03.132005Z",
     "shell.execute_reply": "2022-06-08T11:30:03.130914Z"
    },
    "papermill": {
     "duration": 0.016228,
     "end_time": "2022-06-08T11:30:03.134684",
     "exception": false,
     "start_time": "2022-06-08T11:30:03.118456",
     "status": "completed"
    },
    "tags": []
   },
   "outputs": [],
   "source": [
    "submit['target'] = pred"
   ]
  },
  {
   "cell_type": "code",
   "execution_count": 16,
   "id": "094f1761",
   "metadata": {
    "execution": {
     "iopub.execute_input": "2022-06-08T11:30:03.150834Z",
     "iopub.status.busy": "2022-06-08T11:30:03.149508Z",
     "iopub.status.idle": "2022-06-08T11:30:03.164847Z",
     "shell.execute_reply": "2022-06-08T11:30:03.163922Z"
    },
    "papermill": {
     "duration": 0.025694,
     "end_time": "2022-06-08T11:30:03.167294",
     "exception": false,
     "start_time": "2022-06-08T11:30:03.141600",
     "status": "completed"
    },
    "tags": []
   },
   "outputs": [],
   "source": [
    "submit.to_csv('result6.csv', index=False)"
   ]
  },
  {
   "cell_type": "code",
   "execution_count": null,
   "id": "1eaaa16f",
   "metadata": {
    "papermill": {
     "duration": 0.006548,
     "end_time": "2022-06-08T11:30:03.180581",
     "exception": false,
     "start_time": "2022-06-08T11:30:03.174033",
     "status": "completed"
    },
    "tags": []
   },
   "outputs": [],
   "source": []
  }
 ],
 "metadata": {
  "kernelspec": {
   "display_name": "Python 3",
   "language": "python",
   "name": "python3"
  },
  "language_info": {
   "codemirror_mode": {
    "name": "ipython",
    "version": 3
   },
   "file_extension": ".py",
   "mimetype": "text/x-python",
   "name": "python",
   "nbconvert_exporter": "python",
   "pygments_lexer": "ipython3",
   "version": "3.7.12"
  },
  "papermill": {
   "default_parameters": {},
   "duration": 15.93786,
   "end_time": "2022-06-08T11:30:04.110461",
   "environment_variables": {},
   "exception": null,
   "input_path": "__notebook__.ipynb",
   "output_path": "__notebook__.ipynb",
   "parameters": {},
   "start_time": "2022-06-08T11:29:48.172601",
   "version": "2.3.4"
  }
 },
 "nbformat": 4,
 "nbformat_minor": 5
}
