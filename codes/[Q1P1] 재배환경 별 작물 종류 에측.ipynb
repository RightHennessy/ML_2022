{
 "cells": [
  {
   "cell_type": "code",
   "execution_count": 1,
   "id": "f2557050",
   "metadata": {
    "_cell_guid": "b1076dfc-b9ad-4769-8c92-a6c4dae69d19",
    "_uuid": "8f2839f25d086af736a60e9eeb907d3b93b6e0e5",
    "execution": {
     "iopub.execute_input": "2022-04-11T11:11:36.057260Z",
     "iopub.status.busy": "2022-04-11T11:11:36.056293Z",
     "iopub.status.idle": "2022-04-11T11:11:36.064737Z",
     "shell.execute_reply": "2022-04-11T11:11:36.063895Z",
     "shell.execute_reply.started": "2022-04-11T11:11:03.805626Z"
    },
    "papermill": {
     "duration": 0.038474,
     "end_time": "2022-04-11T11:11:36.064949",
     "exception": false,
     "start_time": "2022-04-11T11:11:36.026475",
     "status": "completed"
    },
    "tags": []
   },
   "outputs": [
    {
     "name": "stdout",
     "output_type": "stream",
     "text": [
      "/kaggle/input/2022-ml-quiz-p1/sample.csv\n",
      "/kaggle/input/2022-ml-quiz-p1/train.csv\n",
      "/kaggle/input/2022-ml-quiz-p1/test.csv\n"
     ]
    }
   ],
   "source": [
    "# This Python 3 environment comes with many helpful analytics libraries installed\n",
    "# It is defined by the kaggle/python Docker image: https://github.com/kaggle/docker-python\n",
    "# For example, here's several helpful packages to load\n",
    "\n",
    "import numpy as np # linear algebra\n",
    "import pandas as pd # data processing, CSV file I/O (e.g. pd.read_csv)\n",
    "\n",
    "# Input data files are available in the read-only \"../input/\" directory\n",
    "# For example, running this (by clicking run or pressing Shift+Enter) will list all files under the input directory\n",
    "\n",
    "import os\n",
    "for dirname, _, filenames in os.walk('/kaggle/input'):\n",
    "    for filename in filenames:\n",
    "        print(os.path.join(dirname, filename))\n",
    "\n",
    "# You can write up to 20GB to the current directory (/kaggle/working/) that gets preserved as output when you create a version using \"Save & Run All\" \n",
    "# You can also write temporary files to /kaggle/temp/, but they won't be saved outside of the current session"
   ]
  },
  {
   "cell_type": "code",
   "execution_count": 2,
   "id": "e3c256da",
   "metadata": {
    "execution": {
     "iopub.execute_input": "2022-04-11T11:11:36.099664Z",
     "iopub.status.busy": "2022-04-11T11:11:36.098778Z",
     "iopub.status.idle": "2022-04-11T11:11:36.102133Z",
     "shell.execute_reply": "2022-04-11T11:11:36.101518Z",
     "shell.execute_reply.started": "2022-04-11T11:11:03.820193Z"
    },
    "papermill": {
     "duration": 0.022733,
     "end_time": "2022-04-11T11:11:36.102368",
     "exception": false,
     "start_time": "2022-04-11T11:11:36.079635",
     "status": "completed"
    },
    "tags": []
   },
   "outputs": [],
   "source": [
    "import random\n",
    "import os\n",
    "seed = 42\n",
    "random.seed(seed)\n",
    "np.random.seed(seed)\n",
    "os.environ[\"PYTHONHASHSEED\"] = str(seed)"
   ]
  },
  {
   "cell_type": "code",
   "execution_count": 3,
   "id": "2ec43012",
   "metadata": {
    "execution": {
     "iopub.execute_input": "2022-04-11T11:11:36.130374Z",
     "iopub.status.busy": "2022-04-11T11:11:36.129385Z",
     "iopub.status.idle": "2022-04-11T11:11:36.163353Z",
     "shell.execute_reply": "2022-04-11T11:11:36.162679Z",
     "shell.execute_reply.started": "2022-04-11T11:11:03.835481Z"
    },
    "papermill": {
     "duration": 0.049163,
     "end_time": "2022-04-11T11:11:36.163523",
     "exception": false,
     "start_time": "2022-04-11T11:11:36.114360",
     "status": "completed"
    },
    "tags": []
   },
   "outputs": [],
   "source": [
    "sample = pd.read_csv('../input/2022-ml-quiz-p1/sample.csv')\n",
    "test = pd.read_csv('../input/2022-ml-quiz-p1/test.csv')\n",
    "train = pd.read_csv('../input/2022-ml-quiz-p1/train.csv')"
   ]
  },
  {
   "cell_type": "code",
   "execution_count": 4,
   "id": "cce12a66",
   "metadata": {
    "execution": {
     "iopub.execute_input": "2022-04-11T11:11:36.198501Z",
     "iopub.status.busy": "2022-04-11T11:11:36.197696Z",
     "iopub.status.idle": "2022-04-11T11:11:36.207904Z",
     "shell.execute_reply": "2022-04-11T11:11:36.208496Z",
     "shell.execute_reply.started": "2022-04-11T11:11:03.865527Z"
    },
    "papermill": {
     "duration": 0.033481,
     "end_time": "2022-04-11T11:11:36.208743",
     "exception": false,
     "start_time": "2022-04-11T11:11:36.175262",
     "status": "completed"
    },
    "tags": []
   },
   "outputs": [],
   "source": [
    "x_train = train.drop(['label'], axis=1)\n",
    "y_train = train['label']"
   ]
  },
  {
   "cell_type": "code",
   "execution_count": 5,
   "id": "4260da95",
   "metadata": {
    "execution": {
     "iopub.execute_input": "2022-04-11T11:11:36.240293Z",
     "iopub.status.busy": "2022-04-11T11:11:36.239447Z",
     "iopub.status.idle": "2022-04-11T11:11:37.643039Z",
     "shell.execute_reply": "2022-04-11T11:11:37.643565Z",
     "shell.execute_reply.started": "2022-04-11T11:11:03.884332Z"
    },
    "papermill": {
     "duration": 1.422917,
     "end_time": "2022-04-11T11:11:37.643788",
     "exception": false,
     "start_time": "2022-04-11T11:11:36.220871",
     "status": "completed"
    },
    "tags": []
   },
   "outputs": [
    {
     "data": {
      "text/plain": [
       "KNeighborsClassifier(p=1, weights='distance')"
      ]
     },
     "execution_count": 5,
     "metadata": {},
     "output_type": "execute_result"
    }
   ],
   "source": [
    "from sklearn.neighbors import KNeighborsClassifier\n",
    "\n",
    "knn = KNeighborsClassifier(p=1, weights='distance')\n",
    "knn.fit(x_train, y_train)"
   ]
  },
  {
   "cell_type": "code",
   "execution_count": 6,
   "id": "66cb101b",
   "metadata": {
    "execution": {
     "iopub.execute_input": "2022-04-11T11:11:37.676439Z",
     "iopub.status.busy": "2022-04-11T11:11:37.675791Z",
     "iopub.status.idle": "2022-04-11T11:11:37.683838Z",
     "shell.execute_reply": "2022-04-11T11:11:37.684409Z",
     "shell.execute_reply.started": "2022-04-11T11:11:03.904468Z"
    },
    "papermill": {
     "duration": 0.027442,
     "end_time": "2022-04-11T11:11:37.684623",
     "exception": false,
     "start_time": "2022-04-11T11:11:37.657181",
     "status": "completed"
    },
    "tags": []
   },
   "outputs": [],
   "source": [
    "test_pred = knn.predict(test)"
   ]
  },
  {
   "cell_type": "code",
   "execution_count": 7,
   "id": "c65e31e7",
   "metadata": {
    "execution": {
     "iopub.execute_input": "2022-04-11T11:11:37.713146Z",
     "iopub.status.busy": "2022-04-11T11:11:37.711200Z",
     "iopub.status.idle": "2022-04-11T11:11:37.715605Z",
     "shell.execute_reply": "2022-04-11T11:11:37.716180Z",
     "shell.execute_reply.started": "2022-04-11T11:11:03.918628Z"
    },
    "papermill": {
     "duration": 0.020188,
     "end_time": "2022-04-11T11:11:37.716362",
     "exception": false,
     "start_time": "2022-04-11T11:11:37.696174",
     "status": "completed"
    },
    "tags": []
   },
   "outputs": [],
   "source": [
    "sample['label'] = test_pred"
   ]
  },
  {
   "cell_type": "code",
   "execution_count": 8,
   "id": "a9473596",
   "metadata": {
    "execution": {
     "iopub.execute_input": "2022-04-11T11:11:37.743992Z",
     "iopub.status.busy": "2022-04-11T11:11:37.741952Z",
     "iopub.status.idle": "2022-04-11T11:11:37.751496Z",
     "shell.execute_reply": "2022-04-11T11:11:37.750835Z",
     "shell.execute_reply.started": "2022-04-11T11:11:03.924574Z"
    },
    "papermill": {
     "duration": 0.024118,
     "end_time": "2022-04-11T11:11:37.751666",
     "exception": false,
     "start_time": "2022-04-11T11:11:37.727548",
     "status": "completed"
    },
    "tags": []
   },
   "outputs": [],
   "source": [
    "sample.to_csv('result_q1p1', index=False)"
   ]
  },
  {
   "cell_type": "code",
   "execution_count": null,
   "id": "a74f5263",
   "metadata": {
    "papermill": {
     "duration": 0.011404,
     "end_time": "2022-04-11T11:11:37.775383",
     "exception": false,
     "start_time": "2022-04-11T11:11:37.763979",
     "status": "completed"
    },
    "tags": []
   },
   "outputs": [],
   "source": []
  }
 ],
 "metadata": {
  "kernelspec": {
   "display_name": "Python 3",
   "language": "python",
   "name": "python3"
  },
  "language_info": {
   "codemirror_mode": {
    "name": "ipython",
    "version": 3
   },
   "file_extension": ".py",
   "mimetype": "text/x-python",
   "name": "python",
   "nbconvert_exporter": "python",
   "pygments_lexer": "ipython3",
   "version": "3.7.12"
  },
  "papermill": {
   "default_parameters": {},
   "duration": 13.585426,
   "end_time": "2022-04-11T11:11:38.498747",
   "environment_variables": {},
   "exception": null,
   "input_path": "__notebook__.ipynb",
   "output_path": "__notebook__.ipynb",
   "parameters": {},
   "start_time": "2022-04-11T11:11:24.913321",
   "version": "2.3.3"
  }
 },
 "nbformat": 4,
 "nbformat_minor": 5
}
