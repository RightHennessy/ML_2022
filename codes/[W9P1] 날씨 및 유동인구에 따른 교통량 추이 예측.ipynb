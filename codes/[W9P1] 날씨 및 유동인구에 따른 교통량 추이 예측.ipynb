{
 "cells": [
  {
   "cell_type": "code",
   "execution_count": 1,
   "id": "94d9ac6c",
   "metadata": {
    "_cell_guid": "b1076dfc-b9ad-4769-8c92-a6c4dae69d19",
    "_uuid": "8f2839f25d086af736a60e9eeb907d3b93b6e0e5",
    "execution": {
     "iopub.execute_input": "2022-05-07T07:43:15.425596Z",
     "iopub.status.busy": "2022-05-07T07:43:15.425249Z",
     "iopub.status.idle": "2022-05-07T07:43:15.440131Z",
     "shell.execute_reply": "2022-05-07T07:43:15.439461Z"
    },
    "papermill": {
     "duration": 0.032623,
     "end_time": "2022-05-07T07:43:15.442746",
     "exception": false,
     "start_time": "2022-05-07T07:43:15.410123",
     "status": "completed"
    },
    "tags": []
   },
   "outputs": [
    {
     "name": "stdout",
     "output_type": "stream",
     "text": [
      "/kaggle/input/2022-ml-w9p1/x_test.csv\n",
      "/kaggle/input/2022-ml-w9p1/y_train.csv\n",
      "/kaggle/input/2022-ml-w9p1/x_train.csv\n",
      "/kaggle/input/2022-ml-w9p1/submit.csv\n"
     ]
    }
   ],
   "source": [
    "# This Python 3 environment comes with many helpful analytics libraries installed\n",
    "# It is defined by the kaggle/python Docker image: https://github.com/kaggle/docker-python\n",
    "# For example, here's several helpful packages to load\n",
    "\n",
    "import numpy as np # linear algebra\n",
    "import pandas as pd # data processing, CSV file I/O (e.g. pd.read_csv)\n",
    "\n",
    "# Input data files are available in the read-only \"../input/\" directory\n",
    "# For example, running this (by clicking run or pressing Shift+Enter) will list all files under the input directory\n",
    "\n",
    "import os\n",
    "for dirname, _, filenames in os.walk('/kaggle/input'):\n",
    "    for filename in filenames:\n",
    "        print(os.path.join(dirname, filename))\n",
    "\n",
    "# You can write up to 20GB to the current directory (/kaggle/working/) that gets preserved as output when you create a version using \"Save & Run All\" \n",
    "# You can also write temporary files to /kaggle/temp/, but they won't be saved outside of the current session"
   ]
  },
  {
   "cell_type": "code",
   "execution_count": 2,
   "id": "24c958c7",
   "metadata": {
    "execution": {
     "iopub.execute_input": "2022-05-07T07:43:15.470184Z",
     "iopub.status.busy": "2022-05-07T07:43:15.469849Z",
     "iopub.status.idle": "2022-05-07T07:43:15.474580Z",
     "shell.execute_reply": "2022-05-07T07:43:15.473962Z"
    },
    "papermill": {
     "duration": 0.020245,
     "end_time": "2022-05-07T07:43:15.476448",
     "exception": false,
     "start_time": "2022-05-07T07:43:15.456203",
     "status": "completed"
    },
    "tags": []
   },
   "outputs": [],
   "source": [
    "import random\n",
    "import os\n",
    "seed = 42\n",
    "random.seed(seed)\n",
    "np.random.seed(seed)\n",
    "os.environ[\"PYTHONHASHSEED\"] = str(seed)"
   ]
  },
  {
   "cell_type": "code",
   "execution_count": 3,
   "id": "cf20e08d",
   "metadata": {
    "execution": {
     "iopub.execute_input": "2022-05-07T07:43:15.503092Z",
     "iopub.status.busy": "2022-05-07T07:43:15.502607Z",
     "iopub.status.idle": "2022-05-07T07:43:16.330612Z",
     "shell.execute_reply": "2022-05-07T07:43:16.329435Z"
    },
    "papermill": {
     "duration": 0.844575,
     "end_time": "2022-05-07T07:43:16.333481",
     "exception": false,
     "start_time": "2022-05-07T07:43:15.488906",
     "status": "completed"
    },
    "tags": []
   },
   "outputs": [],
   "source": [
    "x_test = pd.read_csv('../input/2022-ml-w9p1/x_test.csv',engine='python',encoding='CP949')\n",
    "y_train = pd.read_csv('../input/2022-ml-w9p1/y_train.csv',engine='python',encoding='CP949')\n",
    "x_train = pd.read_csv('../input/2022-ml-w9p1/x_train.csv',engine='python',encoding='CP949')\n",
    "submit = pd.read_csv('../input/2022-ml-w9p1/submit.csv')"
   ]
  },
  {
   "cell_type": "code",
   "execution_count": 4,
   "id": "85fed7b8",
   "metadata": {
    "execution": {
     "iopub.execute_input": "2022-05-07T07:43:16.360453Z",
     "iopub.status.busy": "2022-05-07T07:43:16.359827Z",
     "iopub.status.idle": "2022-05-07T07:43:17.303315Z",
     "shell.execute_reply": "2022-05-07T07:43:17.302170Z"
    },
    "papermill": {
     "duration": 0.959677,
     "end_time": "2022-05-07T07:43:17.306007",
     "exception": false,
     "start_time": "2022-05-07T07:43:16.346330",
     "status": "completed"
    },
    "tags": []
   },
   "outputs": [],
   "source": [
    "from sklearn.preprocessing import StandardScaler\n",
    "scaler = StandardScaler()\n",
    "x_train = scaler.fit_transform(x_train)\n",
    "x_test = scaler.transform(x_test)"
   ]
  },
  {
   "cell_type": "code",
   "execution_count": 5,
   "id": "87711669",
   "metadata": {
    "execution": {
     "iopub.execute_input": "2022-05-07T07:43:17.325981Z",
     "iopub.status.busy": "2022-05-07T07:43:17.325440Z",
     "iopub.status.idle": "2022-05-07T07:43:59.697884Z",
     "shell.execute_reply": "2022-05-07T07:43:59.696365Z"
    },
    "papermill": {
     "duration": 42.392487,
     "end_time": "2022-05-07T07:43:59.708161",
     "exception": false,
     "start_time": "2022-05-07T07:43:17.315674",
     "status": "completed"
    },
    "tags": []
   },
   "outputs": [
    {
     "data": {
      "text/plain": [
       "SVR(C=100.0, gamma=0.01, kernel='linear')"
      ]
     },
     "execution_count": 5,
     "metadata": {},
     "output_type": "execute_result"
    }
   ],
   "source": [
    "from sklearn.svm import SVR\n",
    "svm = SVR(kernel='linear',C=100.0, gamma=0.01)\n",
    "svm.fit(x_train, y_train['교통량'])"
   ]
  },
  {
   "cell_type": "code",
   "execution_count": 6,
   "id": "3d9ce14d",
   "metadata": {
    "execution": {
     "iopub.execute_input": "2022-05-07T07:43:59.728397Z",
     "iopub.status.busy": "2022-05-07T07:43:59.727912Z",
     "iopub.status.idle": "2022-05-07T07:44:08.008049Z",
     "shell.execute_reply": "2022-05-07T07:44:08.007255Z"
    },
    "papermill": {
     "duration": 8.293663,
     "end_time": "2022-05-07T07:44:08.010593",
     "exception": false,
     "start_time": "2022-05-07T07:43:59.716930",
     "status": "completed"
    },
    "tags": []
   },
   "outputs": [],
   "source": [
    "pred = svm.predict(x_test)"
   ]
  },
  {
   "cell_type": "code",
   "execution_count": 7,
   "id": "ed5837ab",
   "metadata": {
    "execution": {
     "iopub.execute_input": "2022-05-07T07:44:08.040469Z",
     "iopub.status.busy": "2022-05-07T07:44:08.039413Z",
     "iopub.status.idle": "2022-05-07T07:44:08.045820Z",
     "shell.execute_reply": "2022-05-07T07:44:08.044461Z"
    },
    "papermill": {
     "duration": 0.023792,
     "end_time": "2022-05-07T07:44:08.047919",
     "exception": false,
     "start_time": "2022-05-07T07:44:08.024127",
     "status": "completed"
    },
    "tags": []
   },
   "outputs": [],
   "source": [
    "submit['predict'] = pred"
   ]
  },
  {
   "cell_type": "code",
   "execution_count": 8,
   "id": "1b083517",
   "metadata": {
    "execution": {
     "iopub.execute_input": "2022-05-07T07:44:08.067898Z",
     "iopub.status.busy": "2022-05-07T07:44:08.067347Z",
     "iopub.status.idle": "2022-05-07T07:44:08.104732Z",
     "shell.execute_reply": "2022-05-07T07:44:08.103432Z"
    },
    "papermill": {
     "duration": 0.050565,
     "end_time": "2022-05-07T07:44:08.107561",
     "exception": false,
     "start_time": "2022-05-07T07:44:08.056996",
     "status": "completed"
    },
    "tags": []
   },
   "outputs": [],
   "source": [
    "submit.to_csv('result', index=False)"
   ]
  }
 ],
 "metadata": {
  "kernelspec": {
   "display_name": "Python 3",
   "language": "python",
   "name": "python3"
  },
  "language_info": {
   "codemirror_mode": {
    "name": "ipython",
    "version": 3
   },
   "file_extension": ".py",
   "mimetype": "text/x-python",
   "name": "python",
   "nbconvert_exporter": "python",
   "pygments_lexer": "ipython3",
   "version": "3.7.12"
  },
  "papermill": {
   "default_parameters": {},
   "duration": 64.485006,
   "end_time": "2022-05-07T07:44:08.938323",
   "environment_variables": {},
   "exception": null,
   "input_path": "__notebook__.ipynb",
   "output_path": "__notebook__.ipynb",
   "parameters": {},
   "start_time": "2022-05-07T07:43:04.453317",
   "version": "2.3.4"
  }
 },
 "nbformat": 4,
 "nbformat_minor": 5
}
