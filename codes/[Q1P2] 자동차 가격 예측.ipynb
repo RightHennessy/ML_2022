{
 "cells": [
  {
   "cell_type": "code",
   "execution_count": 1,
   "id": "391f7575",
   "metadata": {
    "_cell_guid": "b1076dfc-b9ad-4769-8c92-a6c4dae69d19",
    "_uuid": "8f2839f25d086af736a60e9eeb907d3b93b6e0e5",
    "execution": {
     "iopub.execute_input": "2022-04-11T11:18:04.204829Z",
     "iopub.status.busy": "2022-04-11T11:18:04.204021Z",
     "iopub.status.idle": "2022-04-11T11:18:04.212146Z",
     "shell.execute_reply": "2022-04-11T11:18:04.211264Z",
     "shell.execute_reply.started": "2022-04-11T10:58:11.957549Z"
    },
    "papermill": {
     "duration": 0.03438,
     "end_time": "2022-04-11T11:18:04.212333",
     "exception": false,
     "start_time": "2022-04-11T11:18:04.177953",
     "status": "completed"
    },
    "tags": []
   },
   "outputs": [
    {
     "name": "stdout",
     "output_type": "stream",
     "text": [
      "/kaggle/input/2022-ml-quiz-p2/submit.csv\n",
      "/kaggle/input/2022-ml-quiz-p2/train.csv\n",
      "/kaggle/input/2022-ml-quiz-p2/test.csv\n"
     ]
    }
   ],
   "source": [
    "# This Python 3 environment comes with many helpful analytics libraries installed\n",
    "# It is defined by the kaggle/python Docker image: https://github.com/kaggle/docker-python\n",
    "# For example, here's several helpful packages to load\n",
    "\n",
    "import numpy as np # linear algebra\n",
    "import pandas as pd # data processing, CSV file I/O (e.g. pd.read_csv)\n",
    "\n",
    "# Input data files are available in the read-only \"../input/\" directory\n",
    "# For example, running this (by clicking run or pressing Shift+Enter) will list all files under the input directory\n",
    "\n",
    "import os\n",
    "for dirname, _, filenames in os.walk('/kaggle/input'):\n",
    "    for filename in filenames:\n",
    "        print(os.path.join(dirname, filename))\n",
    "\n",
    "# You can write up to 20GB to the current directory (/kaggle/working/) that gets preserved as output when you create a version using \"Save & Run All\" \n",
    "# You can also write temporary files to /kaggle/temp/, but they won't be saved outside of the current session"
   ]
  },
  {
   "cell_type": "code",
   "execution_count": 2,
   "id": "6c663418",
   "metadata": {
    "execution": {
     "iopub.execute_input": "2022-04-11T11:18:04.244223Z",
     "iopub.status.busy": "2022-04-11T11:18:04.243542Z",
     "iopub.status.idle": "2022-04-11T11:18:04.366133Z",
     "shell.execute_reply": "2022-04-11T11:18:04.365525Z",
     "shell.execute_reply.started": "2022-04-11T10:58:14.568854Z"
    },
    "papermill": {
     "duration": 0.140317,
     "end_time": "2022-04-11T11:18:04.366279",
     "exception": false,
     "start_time": "2022-04-11T11:18:04.225962",
     "status": "completed"
    },
    "tags": []
   },
   "outputs": [],
   "source": [
    "submit = pd.read_csv('../input/2022-ml-quiz-p2/submit.csv')\n",
    "test = pd.read_csv('../input/2022-ml-quiz-p2/test.csv')\n",
    "train = pd.read_csv('../input/2022-ml-quiz-p2/train.csv')"
   ]
  },
  {
   "cell_type": "code",
   "execution_count": 3,
   "id": "da5b8e6a",
   "metadata": {
    "execution": {
     "iopub.execute_input": "2022-04-11T11:18:04.398543Z",
     "iopub.status.busy": "2022-04-11T11:18:04.397394Z",
     "iopub.status.idle": "2022-04-11T11:18:04.400232Z",
     "shell.execute_reply": "2022-04-11T11:18:04.399600Z",
     "shell.execute_reply.started": "2022-04-11T10:58:15.57028Z"
    },
    "papermill": {
     "duration": 0.021499,
     "end_time": "2022-04-11T11:18:04.400406",
     "exception": false,
     "start_time": "2022-04-11T11:18:04.378907",
     "status": "completed"
    },
    "tags": []
   },
   "outputs": [],
   "source": [
    "import random\n",
    "import os\n",
    "seed = 42\n",
    "random.seed(seed)\n",
    "np.random.seed(seed)\n",
    "os.environ[\"PYTHONHASHSEED\"] = str(seed)"
   ]
  },
  {
   "cell_type": "code",
   "execution_count": 4,
   "id": "249d8e47",
   "metadata": {
    "execution": {
     "iopub.execute_input": "2022-04-11T11:18:04.429989Z",
     "iopub.status.busy": "2022-04-11T11:18:04.428905Z",
     "iopub.status.idle": "2022-04-11T11:18:04.445772Z",
     "shell.execute_reply": "2022-04-11T11:18:04.446354Z",
     "shell.execute_reply.started": "2022-04-11T10:59:58.233705Z"
    },
    "papermill": {
     "duration": 0.03346,
     "end_time": "2022-04-11T11:18:04.446535",
     "exception": false,
     "start_time": "2022-04-11T11:18:04.413075",
     "status": "completed"
    },
    "tags": []
   },
   "outputs": [],
   "source": [
    "x_train = train.drop(['ID', 'price'], axis=1)\n",
    "y_train = train['price']\n",
    "x_test = test.drop(['ID'], axis=1)"
   ]
  },
  {
   "cell_type": "code",
   "execution_count": 5,
   "id": "1ac999ad",
   "metadata": {
    "execution": {
     "iopub.execute_input": "2022-04-11T11:18:04.476000Z",
     "iopub.status.busy": "2022-04-11T11:18:04.474949Z",
     "iopub.status.idle": "2022-04-11T11:18:05.706261Z",
     "shell.execute_reply": "2022-04-11T11:18:05.705138Z",
     "shell.execute_reply.started": "2022-04-11T11:00:09.019593Z"
    },
    "papermill": {
     "duration": 1.247261,
     "end_time": "2022-04-11T11:18:05.706452",
     "exception": false,
     "start_time": "2022-04-11T11:18:04.459191",
     "status": "completed"
    },
    "tags": []
   },
   "outputs": [],
   "source": [
    "from sklearn.preprocessing import LabelEncoder\n",
    "le = LabelEncoder()\n",
    "x_train['model'] = le.fit_transform(x_train['model'])\n",
    "x_test['model'] = le.transform(test['model'])"
   ]
  },
  {
   "cell_type": "code",
   "execution_count": 6,
   "id": "a747069a",
   "metadata": {
    "execution": {
     "iopub.execute_input": "2022-04-11T11:18:05.738556Z",
     "iopub.status.busy": "2022-04-11T11:18:05.737717Z",
     "iopub.status.idle": "2022-04-11T11:18:05.760706Z",
     "shell.execute_reply": "2022-04-11T11:18:05.761292Z",
     "shell.execute_reply.started": "2022-04-11T11:05:47.423468Z"
    },
    "papermill": {
     "duration": 0.039516,
     "end_time": "2022-04-11T11:18:05.761500",
     "exception": false,
     "start_time": "2022-04-11T11:18:05.721984",
     "status": "completed"
    },
    "tags": []
   },
   "outputs": [],
   "source": [
    "from sklearn.preprocessing import StandardScaler\n",
    "scaler = StandardScaler()\n",
    "x_train_sc = scaler.fit_transform(x_train)\n",
    "x_test_sc = scaler.transform(x_test)"
   ]
  },
  {
   "cell_type": "code",
   "execution_count": 7,
   "id": "20a25d02",
   "metadata": {
    "execution": {
     "iopub.execute_input": "2022-04-11T11:18:05.790741Z",
     "iopub.status.busy": "2022-04-11T11:18:05.789837Z",
     "iopub.status.idle": "2022-04-11T11:18:06.051480Z",
     "shell.execute_reply": "2022-04-11T11:18:06.050855Z",
     "shell.execute_reply.started": "2022-04-11T11:17:29.371696Z"
    },
    "papermill": {
     "duration": 0.277406,
     "end_time": "2022-04-11T11:18:06.051631",
     "exception": false,
     "start_time": "2022-04-11T11:18:05.774225",
     "status": "completed"
    },
    "tags": []
   },
   "outputs": [
    {
     "data": {
      "text/plain": [
       "KNeighborsRegressor(n_neighbors=7, p=1, weights='distance')"
      ]
     },
     "execution_count": 7,
     "metadata": {},
     "output_type": "execute_result"
    }
   ],
   "source": [
    "from sklearn.neighbors import KNeighborsRegressor\n",
    "knn = KNeighborsRegressor(p=1,n_neighbors=7,weights='distance')\n",
    "\n",
    "knn.fit(x_train_sc, y_train)"
   ]
  },
  {
   "cell_type": "code",
   "execution_count": 8,
   "id": "65a35655",
   "metadata": {
    "execution": {
     "iopub.execute_input": "2022-04-11T11:18:06.084871Z",
     "iopub.status.busy": "2022-04-11T11:18:06.084060Z",
     "iopub.status.idle": "2022-04-11T11:18:06.875999Z",
     "shell.execute_reply": "2022-04-11T11:18:06.876599Z",
     "shell.execute_reply.started": "2022-04-11T11:05:53.608357Z"
    },
    "papermill": {
     "duration": 0.811638,
     "end_time": "2022-04-11T11:18:06.876789",
     "exception": false,
     "start_time": "2022-04-11T11:18:06.065151",
     "status": "completed"
    },
    "tags": []
   },
   "outputs": [],
   "source": [
    "x_test_pred = knn.predict(x_test_sc)"
   ]
  },
  {
   "cell_type": "code",
   "execution_count": 9,
   "id": "4afdac2c",
   "metadata": {
    "execution": {
     "iopub.execute_input": "2022-04-11T11:18:06.910765Z",
     "iopub.status.busy": "2022-04-11T11:18:06.910034Z",
     "iopub.status.idle": "2022-04-11T11:18:06.914366Z",
     "shell.execute_reply": "2022-04-11T11:18:06.913778Z",
     "shell.execute_reply.started": "2022-04-11T11:05:55.839775Z"
    },
    "papermill": {
     "duration": 0.024523,
     "end_time": "2022-04-11T11:18:06.914525",
     "exception": false,
     "start_time": "2022-04-11T11:18:06.890002",
     "status": "completed"
    },
    "tags": []
   },
   "outputs": [],
   "source": [
    "submit['price'] = x_test_pred"
   ]
  },
  {
   "cell_type": "code",
   "execution_count": 10,
   "id": "cbe1f645",
   "metadata": {
    "execution": {
     "iopub.execute_input": "2022-04-11T11:18:06.946178Z",
     "iopub.status.busy": "2022-04-11T11:18:06.943989Z",
     "iopub.status.idle": "2022-04-11T11:18:07.006864Z",
     "shell.execute_reply": "2022-04-11T11:18:07.007466Z",
     "shell.execute_reply.started": "2022-04-11T11:05:56.118024Z"
    },
    "papermill": {
     "duration": 0.079973,
     "end_time": "2022-04-11T11:18:07.007663",
     "exception": false,
     "start_time": "2022-04-11T11:18:06.927690",
     "status": "completed"
    },
    "tags": []
   },
   "outputs": [],
   "source": [
    "submit.to_csv('result_q1p2', index=False)"
   ]
  },
  {
   "cell_type": "code",
   "execution_count": null,
   "id": "46d2232c",
   "metadata": {
    "papermill": {
     "duration": 0.013156,
     "end_time": "2022-04-11T11:18:07.033956",
     "exception": false,
     "start_time": "2022-04-11T11:18:07.020800",
     "status": "completed"
    },
    "tags": []
   },
   "outputs": [],
   "source": []
  }
 ],
 "metadata": {
  "kernelspec": {
   "display_name": "Python 3",
   "language": "python",
   "name": "python3"
  },
  "language_info": {
   "codemirror_mode": {
    "name": "ipython",
    "version": 3
   },
   "file_extension": ".py",
   "mimetype": "text/x-python",
   "name": "python",
   "nbconvert_exporter": "python",
   "pygments_lexer": "ipython3",
   "version": "3.7.12"
  },
  "papermill": {
   "default_parameters": {},
   "duration": 15.676618,
   "end_time": "2022-04-11T11:18:07.858614",
   "environment_variables": {},
   "exception": null,
   "input_path": "__notebook__.ipynb",
   "output_path": "__notebook__.ipynb",
   "parameters": {},
   "start_time": "2022-04-11T11:17:52.181996",
   "version": "2.3.3"
  }
 },
 "nbformat": 4,
 "nbformat_minor": 5
}
