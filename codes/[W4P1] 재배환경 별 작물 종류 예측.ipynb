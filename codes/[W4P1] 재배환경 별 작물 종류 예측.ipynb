{
 "cells": [
  {
   "cell_type": "code",
   "execution_count": 1,
   "id": "757b8073",
   "metadata": {
    "_cell_guid": "b1076dfc-b9ad-4769-8c92-a6c4dae69d19",
    "_uuid": "8f2839f25d086af736a60e9eeb907d3b93b6e0e5",
    "execution": {
     "iopub.execute_input": "2022-04-03T11:09:58.287764Z",
     "iopub.status.busy": "2022-04-03T11:09:58.286490Z",
     "iopub.status.idle": "2022-04-03T11:10:00.990719Z",
     "shell.execute_reply": "2022-04-03T11:10:00.989955Z",
     "shell.execute_reply.started": "2022-04-03T05:24:14.237394Z"
    },
    "papermill": {
     "duration": 2.719113,
     "end_time": "2022-04-03T11:10:00.990898",
     "exception": false,
     "start_time": "2022-04-03T11:09:58.271785",
     "status": "completed"
    },
    "tags": []
   },
   "outputs": [
    {
     "name": "stdout",
     "output_type": "stream",
     "text": [
      "/kaggle/input/2022-ml-w4p1/sample.csv\n",
      "/kaggle/input/2022-ml-w4p1/train.csv\n",
      "/kaggle/input/2022-ml-w4p1/test.csv\n"
     ]
    }
   ],
   "source": [
    "# This Python 3 environment comes with many helpful analytics libraries installed\n",
    "# It is defined by the kaggle/python Docker image: https://github.com/kaggle/docker-python\n",
    "# For example, here's several helpful packages to load\n",
    "\n",
    "import numpy as np # linear algebra\n",
    "import pandas as pd # data processing, CSV file I/O (e.g. pd.read_csv)\n",
    "import pandas_profiling\n",
    "\n",
    "# Input data files are available in the read-only \"../input/\" directory\n",
    "# For example, running this (by clicking run or pressing Shift+Enter) will list all files under the input directory\n",
    "\n",
    "import os\n",
    "for dirname, _, filenames in os.walk('/kaggle/input'):\n",
    "    for filename in filenames:\n",
    "        print(os.path.join(dirname, filename))\n",
    "\n",
    "# You can write up to 20GB to the current directory (/kaggle/working/) that gets preserved as output when you create a version using \"Save & Run All\" \n",
    "# You can also write temporary files to /kaggle/temp/, but they won't be saved outside of the current session"
   ]
  },
  {
   "cell_type": "code",
   "execution_count": 2,
   "id": "b9bce3c9",
   "metadata": {
    "execution": {
     "iopub.execute_input": "2022-04-03T11:10:01.020239Z",
     "iopub.status.busy": "2022-04-03T11:10:01.019521Z",
     "iopub.status.idle": "2022-04-03T11:10:01.022897Z",
     "shell.execute_reply": "2022-04-03T11:10:01.022174Z",
     "shell.execute_reply.started": "2022-04-03T05:24:16.651758Z"
    },
    "papermill": {
     "duration": 0.020419,
     "end_time": "2022-04-03T11:10:01.023063",
     "exception": false,
     "start_time": "2022-04-03T11:10:01.002644",
     "status": "completed"
    },
    "tags": []
   },
   "outputs": [],
   "source": [
    "import random\n",
    "import os\n",
    "seed = 42\n",
    "random.seed(seed)\n",
    "np.random.seed(seed)\n",
    "os.environ[\"PYTHONHASHSEED\"] = str(seed)"
   ]
  },
  {
   "cell_type": "code",
   "execution_count": 3,
   "id": "2b09ae53",
   "metadata": {
    "execution": {
     "iopub.execute_input": "2022-04-03T11:10:01.050263Z",
     "iopub.status.busy": "2022-04-03T11:10:01.049534Z",
     "iopub.status.idle": "2022-04-03T11:10:01.095144Z",
     "shell.execute_reply": "2022-04-03T11:10:01.094570Z",
     "shell.execute_reply.started": "2022-04-03T05:24:16.657944Z"
    },
    "papermill": {
     "duration": 0.060924,
     "end_time": "2022-04-03T11:10:01.095303",
     "exception": false,
     "start_time": "2022-04-03T11:10:01.034379",
     "status": "completed"
    },
    "tags": []
   },
   "outputs": [],
   "source": [
    "sample = pd.read_csv('../input/2022-ml-w4p1/sample.csv')\n",
    "test = pd.read_csv('../input/2022-ml-w4p1/test.csv')\n",
    "train = pd.read_csv('../input/2022-ml-w4p1/train.csv')"
   ]
  },
  {
   "cell_type": "code",
   "execution_count": 4,
   "id": "29634d00",
   "metadata": {
    "execution": {
     "iopub.execute_input": "2022-04-03T11:10:01.128001Z",
     "iopub.status.busy": "2022-04-03T11:10:01.126996Z",
     "iopub.status.idle": "2022-04-03T11:10:01.138426Z",
     "shell.execute_reply": "2022-04-03T11:10:01.138968Z",
     "shell.execute_reply.started": "2022-04-03T05:24:16.698399Z"
    },
    "papermill": {
     "duration": 0.032477,
     "end_time": "2022-04-03T11:10:01.139149",
     "exception": false,
     "start_time": "2022-04-03T11:10:01.106672",
     "status": "completed"
    },
    "tags": []
   },
   "outputs": [],
   "source": [
    "x = train.drop(['label'], axis=1)\n",
    "y = train['label']"
   ]
  },
  {
   "cell_type": "code",
   "execution_count": 5,
   "id": "1f3a8ac4",
   "metadata": {
    "execution": {
     "iopub.execute_input": "2022-04-03T11:10:01.165779Z",
     "iopub.status.busy": "2022-04-03T11:10:01.165099Z",
     "iopub.status.idle": "2022-04-03T11:10:01.473894Z",
     "shell.execute_reply": "2022-04-03T11:10:01.474388Z",
     "shell.execute_reply.started": "2022-04-03T06:05:54.018461Z"
    },
    "papermill": {
     "duration": 0.324343,
     "end_time": "2022-04-03T11:10:01.474632",
     "exception": false,
     "start_time": "2022-04-03T11:10:01.150289",
     "status": "completed"
    },
    "tags": []
   },
   "outputs": [
    {
     "data": {
      "text/plain": [
       "KNeighborsClassifier(n_neighbors=7, p=1, weights='distance')"
      ]
     },
     "execution_count": 5,
     "metadata": {},
     "output_type": "execute_result"
    }
   ],
   "source": [
    "from sklearn.neighbors import KNeighborsClassifier\n",
    "knn = KNeighborsClassifier(n_neighbors=7, p=1,weights='distance')\n",
    "knn.fit(x, y)"
   ]
  },
  {
   "cell_type": "code",
   "execution_count": 6,
   "id": "ba9839de",
   "metadata": {
    "execution": {
     "iopub.execute_input": "2022-04-03T11:10:01.505901Z",
     "iopub.status.busy": "2022-04-03T11:10:01.504891Z",
     "iopub.status.idle": "2022-04-03T11:10:01.515765Z",
     "shell.execute_reply": "2022-04-03T11:10:01.515160Z",
     "shell.execute_reply.started": "2022-04-03T05:24:29.877936Z"
    },
    "papermill": {
     "duration": 0.030116,
     "end_time": "2022-04-03T11:10:01.515921",
     "exception": false,
     "start_time": "2022-04-03T11:10:01.485805",
     "status": "completed"
    },
    "tags": []
   },
   "outputs": [],
   "source": [
    "test_pred = knn.predict(test)"
   ]
  },
  {
   "cell_type": "code",
   "execution_count": 7,
   "id": "4511964d",
   "metadata": {
    "execution": {
     "iopub.execute_input": "2022-04-03T11:10:01.544613Z",
     "iopub.status.busy": "2022-04-03T11:10:01.543665Z",
     "iopub.status.idle": "2022-04-03T11:10:01.546754Z",
     "shell.execute_reply": "2022-04-03T11:10:01.546198Z",
     "shell.execute_reply.started": "2022-04-03T05:24:31.451639Z"
    },
    "papermill": {
     "duration": 0.019546,
     "end_time": "2022-04-03T11:10:01.546900",
     "exception": false,
     "start_time": "2022-04-03T11:10:01.527354",
     "status": "completed"
    },
    "tags": []
   },
   "outputs": [],
   "source": [
    "sample['label'] = test_pred"
   ]
  },
  {
   "cell_type": "code",
   "execution_count": 8,
   "id": "8f3c7dcb",
   "metadata": {
    "execution": {
     "iopub.execute_input": "2022-04-03T11:10:01.575863Z",
     "iopub.status.busy": "2022-04-03T11:10:01.575164Z",
     "iopub.status.idle": "2022-04-03T11:10:01.582141Z",
     "shell.execute_reply": "2022-04-03T11:10:01.582683Z",
     "shell.execute_reply.started": "2022-04-03T05:24:33.138204Z"
    },
    "papermill": {
     "duration": 0.024158,
     "end_time": "2022-04-03T11:10:01.582876",
     "exception": false,
     "start_time": "2022-04-03T11:10:01.558718",
     "status": "completed"
    },
    "tags": []
   },
   "outputs": [],
   "source": [
    "sample.to_csv('result_assignment1', index=False)"
   ]
  },
  {
   "cell_type": "code",
   "execution_count": null,
   "id": "a489dc63",
   "metadata": {
    "papermill": {
     "duration": 0.011838,
     "end_time": "2022-04-03T11:10:01.606164",
     "exception": false,
     "start_time": "2022-04-03T11:10:01.594326",
     "status": "completed"
    },
    "tags": []
   },
   "outputs": [],
   "source": []
  }
 ],
 "metadata": {
  "kernelspec": {
   "display_name": "Python 3",
   "language": "python",
   "name": "python3"
  },
  "language_info": {
   "codemirror_mode": {
    "name": "ipython",
    "version": 3
   },
   "file_extension": ".py",
   "mimetype": "text/x-python",
   "name": "python",
   "nbconvert_exporter": "python",
   "pygments_lexer": "ipython3",
   "version": "3.7.12"
  },
  "papermill": {
   "default_parameters": {},
   "duration": 15.450255,
   "end_time": "2022-04-03T11:10:02.529144",
   "environment_variables": {},
   "exception": null,
   "input_path": "__notebook__.ipynb",
   "output_path": "__notebook__.ipynb",
   "parameters": {},
   "start_time": "2022-04-03T11:09:47.078889",
   "version": "2.3.3"
  }
 },
 "nbformat": 4,
 "nbformat_minor": 5
}
