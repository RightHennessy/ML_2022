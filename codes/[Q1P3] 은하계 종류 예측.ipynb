{
 "cells": [
  {
   "cell_type": "code",
   "execution_count": 1,
   "id": "75d4b20d",
   "metadata": {
    "_cell_guid": "b1076dfc-b9ad-4769-8c92-a6c4dae69d19",
    "_uuid": "8f2839f25d086af736a60e9eeb907d3b93b6e0e5",
    "execution": {
     "iopub.execute_input": "2022-04-11T10:41:13.636430Z",
     "iopub.status.busy": "2022-04-11T10:41:13.635836Z",
     "iopub.status.idle": "2022-04-11T10:41:13.642115Z",
     "shell.execute_reply": "2022-04-11T10:41:13.641430Z",
     "shell.execute_reply.started": "2022-04-11T10:32:14.018675Z"
    },
    "papermill": {
     "duration": 0.023828,
     "end_time": "2022-04-11T10:41:13.642271",
     "exception": false,
     "start_time": "2022-04-11T10:41:13.618443",
     "status": "completed"
    },
    "tags": []
   },
   "outputs": [
    {
     "name": "stdout",
     "output_type": "stream",
     "text": [
      "/kaggle/input/2022-ml-quiz-p3/trainX.csv\n",
      "/kaggle/input/2022-ml-quiz-p3/testX.csv\n",
      "/kaggle/input/2022-ml-quiz-p3/trainY.csv\n",
      "/kaggle/input/2022-ml-quiz-p3/submit.csv\n"
     ]
    }
   ],
   "source": [
    "# This Python 3 environment comes with many helpful analytics libraries installed\n",
    "# It is defined by the kaggle/python Docker image: https://github.com/kaggle/docker-python\n",
    "# For example, here's several helpful packages to load\n",
    "\n",
    "import numpy as np # linear algebra\n",
    "import pandas as pd # data processing, CSV file I/O (e.g. pd.read_csv)\n",
    "\n",
    "# Input data files are available in the read-only \"../input/\" directory\n",
    "# For example, running this (by clicking run or pressing Shift+Enter) will list all files under the input directory\n",
    "\n",
    "import os\n",
    "for dirname, _, filenames in os.walk('/kaggle/input'):\n",
    "    for filename in filenames:\n",
    "        print(os.path.join(dirname, filename))\n",
    "\n",
    "# You can write up to 20GB to the current directory (/kaggle/working/) that gets preserved as output when you create a version using \"Save & Run All\" \n",
    "# You can also write temporary files to /kaggle/temp/, but they won't be saved outside of the current session"
   ]
  },
  {
   "cell_type": "code",
   "execution_count": 2,
   "id": "c4e6b4e1",
   "metadata": {
    "execution": {
     "iopub.execute_input": "2022-04-11T10:41:13.664244Z",
     "iopub.status.busy": "2022-04-11T10:41:13.663610Z",
     "iopub.status.idle": "2022-04-11T10:41:13.666436Z",
     "shell.execute_reply": "2022-04-11T10:41:13.666005Z",
     "shell.execute_reply.started": "2022-04-11T10:33:09.852368Z"
    },
    "papermill": {
     "duration": 0.015378,
     "end_time": "2022-04-11T10:41:13.666569",
     "exception": false,
     "start_time": "2022-04-11T10:41:13.651191",
     "status": "completed"
    },
    "tags": []
   },
   "outputs": [],
   "source": [
    "import random\n",
    "import os\n",
    "seed = 42\n",
    "random.seed(seed)\n",
    "np.random.seed(seed)\n",
    "os.environ[\"PYTHONHASHSEED\"] = str(seed)"
   ]
  },
  {
   "cell_type": "code",
   "execution_count": 3,
   "id": "dd26fa80",
   "metadata": {
    "execution": {
     "iopub.execute_input": "2022-04-11T10:41:13.688191Z",
     "iopub.status.busy": "2022-04-11T10:41:13.687542Z",
     "iopub.status.idle": "2022-04-11T10:41:13.883313Z",
     "shell.execute_reply": "2022-04-11T10:41:13.882656Z",
     "shell.execute_reply.started": "2022-04-11T10:35:24.946158Z"
    },
    "papermill": {
     "duration": 0.208507,
     "end_time": "2022-04-11T10:41:13.883451",
     "exception": false,
     "start_time": "2022-04-11T10:41:13.674944",
     "status": "completed"
    },
    "tags": []
   },
   "outputs": [],
   "source": [
    "submit = pd.read_csv('../input/2022-ml-quiz-p3/submit.csv')\n",
    "testX = pd.read_csv('../input/2022-ml-quiz-p3/testX.csv')\n",
    "trainX = pd.read_csv('../input/2022-ml-quiz-p3/trainX.csv')\n",
    "trainY = pd.read_csv('../input/2022-ml-quiz-p3/trainY.csv')"
   ]
  },
  {
   "cell_type": "code",
   "execution_count": 4,
   "id": "cf41a527",
   "metadata": {
    "execution": {
     "iopub.execute_input": "2022-04-11T10:41:13.909792Z",
     "iopub.status.busy": "2022-04-11T10:41:13.909105Z",
     "iopub.status.idle": "2022-04-11T10:41:13.912082Z",
     "shell.execute_reply": "2022-04-11T10:41:13.911602Z",
     "shell.execute_reply.started": "2022-04-11T10:35:59.444243Z"
    },
    "papermill": {
     "duration": 0.020575,
     "end_time": "2022-04-11T10:41:13.912224",
     "exception": false,
     "start_time": "2022-04-11T10:41:13.891649",
     "status": "completed"
    },
    "tags": []
   },
   "outputs": [],
   "source": [
    "y_train = trainY['Category']"
   ]
  },
  {
   "cell_type": "code",
   "execution_count": 5,
   "id": "a27be6db",
   "metadata": {
    "execution": {
     "iopub.execute_input": "2022-04-11T10:41:13.931341Z",
     "iopub.status.busy": "2022-04-11T10:41:13.930757Z",
     "iopub.status.idle": "2022-04-11T10:41:15.410143Z",
     "shell.execute_reply": "2022-04-11T10:41:15.409413Z",
     "shell.execute_reply.started": "2022-04-11T10:36:39.867501Z"
    },
    "papermill": {
     "duration": 1.49008,
     "end_time": "2022-04-11T10:41:15.410288",
     "exception": false,
     "start_time": "2022-04-11T10:41:13.920208",
     "status": "completed"
    },
    "tags": []
   },
   "outputs": [],
   "source": [
    "from sklearn.linear_model import LogisticRegression\n",
    "logis = LogisticRegression(C=200, solver='sag')\n",
    "trainX_logis = logis.fit(trainX, y_train)"
   ]
  },
  {
   "cell_type": "code",
   "execution_count": 6,
   "id": "6718a7cc",
   "metadata": {
    "execution": {
     "iopub.execute_input": "2022-04-11T10:41:15.433334Z",
     "iopub.status.busy": "2022-04-11T10:41:15.432620Z",
     "iopub.status.idle": "2022-04-11T10:41:15.438653Z",
     "shell.execute_reply": "2022-04-11T10:41:15.439409Z",
     "shell.execute_reply.started": "2022-04-11T10:36:58.882206Z"
    },
    "papermill": {
     "duration": 0.021192,
     "end_time": "2022-04-11T10:41:15.439688",
     "exception": false,
     "start_time": "2022-04-11T10:41:15.418496",
     "status": "completed"
    },
    "tags": []
   },
   "outputs": [],
   "source": [
    "testX_pred = logis.predict(testX)"
   ]
  },
  {
   "cell_type": "code",
   "execution_count": 7,
   "id": "b2015764",
   "metadata": {
    "execution": {
     "iopub.execute_input": "2022-04-11T10:41:15.480574Z",
     "iopub.status.busy": "2022-04-11T10:41:15.479433Z",
     "iopub.status.idle": "2022-04-11T10:41:15.482326Z",
     "shell.execute_reply": "2022-04-11T10:41:15.481489Z",
     "shell.execute_reply.started": "2022-04-11T10:37:24.201999Z"
    },
    "papermill": {
     "duration": 0.027291,
     "end_time": "2022-04-11T10:41:15.482540",
     "exception": false,
     "start_time": "2022-04-11T10:41:15.455249",
     "status": "completed"
    },
    "tags": []
   },
   "outputs": [],
   "source": [
    "submit['Category'] = testX_pred"
   ]
  },
  {
   "cell_type": "code",
   "execution_count": 8,
   "id": "c1cf7e75",
   "metadata": {
    "execution": {
     "iopub.execute_input": "2022-04-11T10:41:15.520756Z",
     "iopub.status.busy": "2022-04-11T10:41:15.519755Z",
     "iopub.status.idle": "2022-04-11T10:41:15.527651Z",
     "shell.execute_reply": "2022-04-11T10:41:15.528604Z",
     "shell.execute_reply.started": "2022-04-11T10:38:01.430308Z"
    },
    "papermill": {
     "duration": 0.030912,
     "end_time": "2022-04-11T10:41:15.528899",
     "exception": false,
     "start_time": "2022-04-11T10:41:15.497987",
     "status": "completed"
    },
    "tags": []
   },
   "outputs": [],
   "source": [
    "submit.to_csv('result_q1p3', index=False)"
   ]
  },
  {
   "cell_type": "code",
   "execution_count": null,
   "id": "e7dba17a",
   "metadata": {
    "papermill": {
     "duration": 0.01294,
     "end_time": "2022-04-11T10:41:15.558008",
     "exception": false,
     "start_time": "2022-04-11T10:41:15.545068",
     "status": "completed"
    },
    "tags": []
   },
   "outputs": [],
   "source": []
  }
 ],
 "metadata": {
  "kernelspec": {
   "display_name": "Python 3",
   "language": "python",
   "name": "python3"
  },
  "language_info": {
   "codemirror_mode": {
    "name": "ipython",
    "version": 3
   },
   "file_extension": ".py",
   "mimetype": "text/x-python",
   "name": "python",
   "nbconvert_exporter": "python",
   "pygments_lexer": "ipython3",
   "version": "3.7.12"
  },
  "papermill": {
   "default_parameters": {},
   "duration": 10.725237,
   "end_time": "2022-04-11T10:41:16.277823",
   "environment_variables": {},
   "exception": null,
   "input_path": "__notebook__.ipynb",
   "output_path": "__notebook__.ipynb",
   "parameters": {},
   "start_time": "2022-04-11T10:41:05.552586",
   "version": "2.3.3"
  }
 },
 "nbformat": 4,
 "nbformat_minor": 5
}
