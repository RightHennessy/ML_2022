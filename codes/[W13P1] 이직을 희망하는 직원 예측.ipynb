{
 "cells": [
  {
   "cell_type": "code",
   "execution_count": 1,
   "id": "2ad1f0c8",
   "metadata": {
    "_cell_guid": "b1076dfc-b9ad-4769-8c92-a6c4dae69d19",
    "_uuid": "8f2839f25d086af736a60e9eeb907d3b93b6e0e5",
    "execution": {
     "iopub.execute_input": "2022-05-30T06:15:23.168666Z",
     "iopub.status.busy": "2022-05-30T06:15:23.167796Z",
     "iopub.status.idle": "2022-05-30T06:15:23.183011Z",
     "shell.execute_reply": "2022-05-30T06:15:23.182077Z"
    },
    "papermill": {
     "duration": 0.029452,
     "end_time": "2022-05-30T06:15:23.185805",
     "exception": false,
     "start_time": "2022-05-30T06:15:23.156353",
     "status": "completed"
    },
    "tags": []
   },
   "outputs": [
    {
     "name": "stdout",
     "output_type": "stream",
     "text": [
      "/kaggle/input/2022-ml-w13p1/train.csv\n",
      "/kaggle/input/2022-ml-w13p1/test.csv\n",
      "/kaggle/input/2022-ml-w13p1/sample_submit.csv\n"
     ]
    }
   ],
   "source": [
    "# This Python 3 environment comes with many helpful analytics libraries installed\n",
    "# It is defined by the kaggle/python Docker image: https://github.com/kaggle/docker-python\n",
    "# For example, here's several helpful packages to load\n",
    "\n",
    "import numpy as np # linear algebra\n",
    "import pandas as pd # data processing, CSV file I/O (e.g. pd.read_csv)\n",
    "\n",
    "# Input data files are available in the read-only \"../input/\" directory\n",
    "# For example, running this (by clicking run or pressing Shift+Enter) will list all files under the input directory\n",
    "\n",
    "import os\n",
    "for dirname, _, filenames in os.walk('/kaggle/input'):\n",
    "    for filename in filenames:\n",
    "        print(os.path.join(dirname, filename))\n",
    "\n",
    "# You can write up to 20GB to the current directory (/kaggle/working/) that gets preserved as output when you create a version using \"Save & Run All\" \n",
    "# You can also write temporary files to /kaggle/temp/, but they won't be saved outside of the current session"
   ]
  },
  {
   "cell_type": "code",
   "execution_count": 2,
   "id": "1e2660a6",
   "metadata": {
    "execution": {
     "iopub.execute_input": "2022-05-30T06:15:23.200828Z",
     "iopub.status.busy": "2022-05-30T06:15:23.200350Z",
     "iopub.status.idle": "2022-05-30T06:15:23.292975Z",
     "shell.execute_reply": "2022-05-30T06:15:23.292077Z"
    },
    "papermill": {
     "duration": 0.10283,
     "end_time": "2022-05-30T06:15:23.295799",
     "exception": false,
     "start_time": "2022-05-30T06:15:23.192969",
     "status": "completed"
    },
    "tags": []
   },
   "outputs": [],
   "source": [
    "submit = pd.read_csv('../input/2022-ml-w13p1/sample_submit.csv')\n",
    "test = pd.read_csv('../input/2022-ml-w13p1/test.csv')\n",
    "train = pd.read_csv('../input/2022-ml-w13p1/train.csv')"
   ]
  },
  {
   "cell_type": "code",
   "execution_count": 3,
   "id": "32831b30",
   "metadata": {
    "execution": {
     "iopub.execute_input": "2022-05-30T06:15:23.308910Z",
     "iopub.status.busy": "2022-05-30T06:15:23.308471Z",
     "iopub.status.idle": "2022-05-30T06:15:23.346447Z",
     "shell.execute_reply": "2022-05-30T06:15:23.345679Z"
    },
    "papermill": {
     "duration": 0.047691,
     "end_time": "2022-05-30T06:15:23.349325",
     "exception": false,
     "start_time": "2022-05-30T06:15:23.301634",
     "status": "completed"
    },
    "tags": []
   },
   "outputs": [
    {
     "data": {
      "text/html": [
       "<div>\n",
       "<style scoped>\n",
       "    .dataframe tbody tr th:only-of-type {\n",
       "        vertical-align: middle;\n",
       "    }\n",
       "\n",
       "    .dataframe tbody tr th {\n",
       "        vertical-align: top;\n",
       "    }\n",
       "\n",
       "    .dataframe thead th {\n",
       "        text-align: right;\n",
       "    }\n",
       "</style>\n",
       "<table border=\"1\" class=\"dataframe\">\n",
       "  <thead>\n",
       "    <tr style=\"text-align: right;\">\n",
       "      <th></th>\n",
       "      <th>index</th>\n",
       "      <th>enrollee_id</th>\n",
       "      <th>city</th>\n",
       "      <th>city_development_index</th>\n",
       "      <th>gender</th>\n",
       "      <th>relevent_experience</th>\n",
       "      <th>enrolled_university</th>\n",
       "      <th>education_level</th>\n",
       "      <th>major_discipline</th>\n",
       "      <th>experience</th>\n",
       "      <th>company_size</th>\n",
       "      <th>company_type</th>\n",
       "      <th>last_new_job</th>\n",
       "      <th>training_hours</th>\n",
       "      <th>target</th>\n",
       "    </tr>\n",
       "  </thead>\n",
       "  <tbody>\n",
       "    <tr>\n",
       "      <th>0</th>\n",
       "      <td>0</td>\n",
       "      <td>8949</td>\n",
       "      <td>city_103</td>\n",
       "      <td>0.920</td>\n",
       "      <td>Male</td>\n",
       "      <td>Has relevent experience</td>\n",
       "      <td>no_enrollment</td>\n",
       "      <td>Graduate</td>\n",
       "      <td>STEM</td>\n",
       "      <td>&gt;20</td>\n",
       "      <td>NaN</td>\n",
       "      <td>NaN</td>\n",
       "      <td>1</td>\n",
       "      <td>36</td>\n",
       "      <td>1.0</td>\n",
       "    </tr>\n",
       "    <tr>\n",
       "      <th>1</th>\n",
       "      <td>1</td>\n",
       "      <td>29725</td>\n",
       "      <td>city_40</td>\n",
       "      <td>0.776</td>\n",
       "      <td>Male</td>\n",
       "      <td>No relevent experience</td>\n",
       "      <td>no_enrollment</td>\n",
       "      <td>Graduate</td>\n",
       "      <td>STEM</td>\n",
       "      <td>15</td>\n",
       "      <td>50-99</td>\n",
       "      <td>Pvt Ltd</td>\n",
       "      <td>&gt;4</td>\n",
       "      <td>47</td>\n",
       "      <td>0.0</td>\n",
       "    </tr>\n",
       "    <tr>\n",
       "      <th>2</th>\n",
       "      <td>3</td>\n",
       "      <td>33241</td>\n",
       "      <td>city_115</td>\n",
       "      <td>0.789</td>\n",
       "      <td>NaN</td>\n",
       "      <td>No relevent experience</td>\n",
       "      <td>NaN</td>\n",
       "      <td>Graduate</td>\n",
       "      <td>Business Degree</td>\n",
       "      <td>&lt;1</td>\n",
       "      <td>NaN</td>\n",
       "      <td>Pvt Ltd</td>\n",
       "      <td>never</td>\n",
       "      <td>52</td>\n",
       "      <td>1.0</td>\n",
       "    </tr>\n",
       "    <tr>\n",
       "      <th>3</th>\n",
       "      <td>4</td>\n",
       "      <td>666</td>\n",
       "      <td>city_162</td>\n",
       "      <td>0.767</td>\n",
       "      <td>Male</td>\n",
       "      <td>Has relevent experience</td>\n",
       "      <td>no_enrollment</td>\n",
       "      <td>Masters</td>\n",
       "      <td>STEM</td>\n",
       "      <td>&gt;20</td>\n",
       "      <td>50-99</td>\n",
       "      <td>Funded Startup</td>\n",
       "      <td>4</td>\n",
       "      <td>8</td>\n",
       "      <td>0.0</td>\n",
       "    </tr>\n",
       "    <tr>\n",
       "      <th>4</th>\n",
       "      <td>5</td>\n",
       "      <td>21651</td>\n",
       "      <td>city_176</td>\n",
       "      <td>0.764</td>\n",
       "      <td>NaN</td>\n",
       "      <td>Has relevent experience</td>\n",
       "      <td>Part time course</td>\n",
       "      <td>Graduate</td>\n",
       "      <td>STEM</td>\n",
       "      <td>11</td>\n",
       "      <td>NaN</td>\n",
       "      <td>NaN</td>\n",
       "      <td>1</td>\n",
       "      <td>24</td>\n",
       "      <td>1.0</td>\n",
       "    </tr>\n",
       "    <tr>\n",
       "      <th>...</th>\n",
       "      <td>...</td>\n",
       "      <td>...</td>\n",
       "      <td>...</td>\n",
       "      <td>...</td>\n",
       "      <td>...</td>\n",
       "      <td>...</td>\n",
       "      <td>...</td>\n",
       "      <td>...</td>\n",
       "      <td>...</td>\n",
       "      <td>...</td>\n",
       "      <td>...</td>\n",
       "      <td>...</td>\n",
       "      <td>...</td>\n",
       "      <td>...</td>\n",
       "      <td>...</td>\n",
       "    </tr>\n",
       "    <tr>\n",
       "      <th>15321</th>\n",
       "      <td>19152</td>\n",
       "      <td>29754</td>\n",
       "      <td>city_103</td>\n",
       "      <td>0.920</td>\n",
       "      <td>Female</td>\n",
       "      <td>Has relevent experience</td>\n",
       "      <td>no_enrollment</td>\n",
       "      <td>Graduate</td>\n",
       "      <td>Humanities</td>\n",
       "      <td>7</td>\n",
       "      <td>10/49</td>\n",
       "      <td>Funded Startup</td>\n",
       "      <td>1</td>\n",
       "      <td>25</td>\n",
       "      <td>0.0</td>\n",
       "    </tr>\n",
       "    <tr>\n",
       "      <th>15322</th>\n",
       "      <td>19153</td>\n",
       "      <td>7386</td>\n",
       "      <td>city_173</td>\n",
       "      <td>0.878</td>\n",
       "      <td>Male</td>\n",
       "      <td>No relevent experience</td>\n",
       "      <td>no_enrollment</td>\n",
       "      <td>Graduate</td>\n",
       "      <td>Humanities</td>\n",
       "      <td>14</td>\n",
       "      <td>NaN</td>\n",
       "      <td>NaN</td>\n",
       "      <td>1</td>\n",
       "      <td>42</td>\n",
       "      <td>1.0</td>\n",
       "    </tr>\n",
       "    <tr>\n",
       "      <th>15323</th>\n",
       "      <td>19154</td>\n",
       "      <td>31398</td>\n",
       "      <td>city_103</td>\n",
       "      <td>0.920</td>\n",
       "      <td>Male</td>\n",
       "      <td>Has relevent experience</td>\n",
       "      <td>no_enrollment</td>\n",
       "      <td>Graduate</td>\n",
       "      <td>STEM</td>\n",
       "      <td>14</td>\n",
       "      <td>NaN</td>\n",
       "      <td>NaN</td>\n",
       "      <td>4</td>\n",
       "      <td>52</td>\n",
       "      <td>1.0</td>\n",
       "    </tr>\n",
       "    <tr>\n",
       "      <th>15324</th>\n",
       "      <td>19156</td>\n",
       "      <td>5756</td>\n",
       "      <td>city_65</td>\n",
       "      <td>0.802</td>\n",
       "      <td>Male</td>\n",
       "      <td>Has relevent experience</td>\n",
       "      <td>no_enrollment</td>\n",
       "      <td>High School</td>\n",
       "      <td>NaN</td>\n",
       "      <td>&lt;1</td>\n",
       "      <td>500-999</td>\n",
       "      <td>Pvt Ltd</td>\n",
       "      <td>2</td>\n",
       "      <td>97</td>\n",
       "      <td>0.0</td>\n",
       "    </tr>\n",
       "    <tr>\n",
       "      <th>15325</th>\n",
       "      <td>19157</td>\n",
       "      <td>23834</td>\n",
       "      <td>city_67</td>\n",
       "      <td>0.855</td>\n",
       "      <td>NaN</td>\n",
       "      <td>No relevent experience</td>\n",
       "      <td>no_enrollment</td>\n",
       "      <td>Primary School</td>\n",
       "      <td>NaN</td>\n",
       "      <td>2</td>\n",
       "      <td>NaN</td>\n",
       "      <td>NaN</td>\n",
       "      <td>1</td>\n",
       "      <td>127</td>\n",
       "      <td>0.0</td>\n",
       "    </tr>\n",
       "  </tbody>\n",
       "</table>\n",
       "<p>15326 rows × 15 columns</p>\n",
       "</div>"
      ],
      "text/plain": [
       "       index  enrollee_id      city  city_development_index  gender  \\\n",
       "0          0         8949  city_103                   0.920    Male   \n",
       "1          1        29725   city_40                   0.776    Male   \n",
       "2          3        33241  city_115                   0.789     NaN   \n",
       "3          4          666  city_162                   0.767    Male   \n",
       "4          5        21651  city_176                   0.764     NaN   \n",
       "...      ...          ...       ...                     ...     ...   \n",
       "15321  19152        29754  city_103                   0.920  Female   \n",
       "15322  19153         7386  city_173                   0.878    Male   \n",
       "15323  19154        31398  city_103                   0.920    Male   \n",
       "15324  19156         5756   city_65                   0.802    Male   \n",
       "15325  19157        23834   city_67                   0.855     NaN   \n",
       "\n",
       "           relevent_experience enrolled_university education_level  \\\n",
       "0      Has relevent experience       no_enrollment        Graduate   \n",
       "1       No relevent experience       no_enrollment        Graduate   \n",
       "2       No relevent experience                 NaN        Graduate   \n",
       "3      Has relevent experience       no_enrollment         Masters   \n",
       "4      Has relevent experience    Part time course        Graduate   \n",
       "...                        ...                 ...             ...   \n",
       "15321  Has relevent experience       no_enrollment        Graduate   \n",
       "15322   No relevent experience       no_enrollment        Graduate   \n",
       "15323  Has relevent experience       no_enrollment        Graduate   \n",
       "15324  Has relevent experience       no_enrollment     High School   \n",
       "15325   No relevent experience       no_enrollment  Primary School   \n",
       "\n",
       "      major_discipline experience company_size    company_type last_new_job  \\\n",
       "0                 STEM        >20          NaN             NaN            1   \n",
       "1                 STEM         15        50-99         Pvt Ltd           >4   \n",
       "2      Business Degree         <1          NaN         Pvt Ltd        never   \n",
       "3                 STEM        >20        50-99  Funded Startup            4   \n",
       "4                 STEM         11          NaN             NaN            1   \n",
       "...                ...        ...          ...             ...          ...   \n",
       "15321       Humanities          7        10/49  Funded Startup            1   \n",
       "15322       Humanities         14          NaN             NaN            1   \n",
       "15323             STEM         14          NaN             NaN            4   \n",
       "15324              NaN         <1      500-999         Pvt Ltd            2   \n",
       "15325              NaN          2          NaN             NaN            1   \n",
       "\n",
       "       training_hours  target  \n",
       "0                  36     1.0  \n",
       "1                  47     0.0  \n",
       "2                  52     1.0  \n",
       "3                   8     0.0  \n",
       "4                  24     1.0  \n",
       "...               ...     ...  \n",
       "15321              25     0.0  \n",
       "15322              42     1.0  \n",
       "15323              52     1.0  \n",
       "15324              97     0.0  \n",
       "15325             127     0.0  \n",
       "\n",
       "[15326 rows x 15 columns]"
      ]
     },
     "execution_count": 3,
     "metadata": {},
     "output_type": "execute_result"
    }
   ],
   "source": [
    "train"
   ]
  },
  {
   "cell_type": "code",
   "execution_count": 4,
   "id": "f46f1824",
   "metadata": {
    "execution": {
     "iopub.execute_input": "2022-05-30T06:15:23.364255Z",
     "iopub.status.busy": "2022-05-30T06:15:23.363586Z",
     "iopub.status.idle": "2022-05-30T06:15:23.377780Z",
     "shell.execute_reply": "2022-05-30T06:15:23.376662Z"
    },
    "papermill": {
     "duration": 0.024171,
     "end_time": "2022-05-30T06:15:23.380153",
     "exception": false,
     "start_time": "2022-05-30T06:15:23.355982",
     "status": "completed"
    },
    "tags": []
   },
   "outputs": [],
   "source": [
    "x_train = train.drop(['index', 'enrollee_id', 'city', 'target'], axis=1)\n",
    "y_train = train['target']\n",
    "x_test = test.drop(['index', 'enrollee_id', 'city'], axis=1)"
   ]
  },
  {
   "cell_type": "code",
   "execution_count": 5,
   "id": "bc0d985a",
   "metadata": {
    "execution": {
     "iopub.execute_input": "2022-05-30T06:15:23.394659Z",
     "iopub.status.busy": "2022-05-30T06:15:23.394214Z",
     "iopub.status.idle": "2022-05-30T06:15:23.428824Z",
     "shell.execute_reply": "2022-05-30T06:15:23.427659Z"
    },
    "papermill": {
     "duration": 0.044889,
     "end_time": "2022-05-30T06:15:23.431415",
     "exception": false,
     "start_time": "2022-05-30T06:15:23.386526",
     "status": "completed"
    },
    "tags": []
   },
   "outputs": [
    {
     "name": "stdout",
     "output_type": "stream",
     "text": [
      "<class 'pandas.core.frame.DataFrame'>\n",
      "RangeIndex: 15326 entries, 0 to 15325\n",
      "Data columns (total 11 columns):\n",
      " #   Column                  Non-Null Count  Dtype  \n",
      "---  ------                  --------------  -----  \n",
      " 0   city_development_index  15326 non-null  float64\n",
      " 1   gender                  11752 non-null  object \n",
      " 2   relevent_experience     15326 non-null  object \n",
      " 3   enrolled_university     15009 non-null  object \n",
      " 4   education_level         14964 non-null  object \n",
      " 5   major_discipline        13068 non-null  object \n",
      " 6   experience              15276 non-null  object \n",
      " 7   company_size            10612 non-null  object \n",
      " 8   company_type            10445 non-null  object \n",
      " 9   last_new_job            14983 non-null  object \n",
      " 10  training_hours          15326 non-null  int64  \n",
      "dtypes: float64(1), int64(1), object(9)\n",
      "memory usage: 1.3+ MB\n"
     ]
    }
   ],
   "source": [
    "# object : 범주형 데이터 -> label encoder를 통해 수치형으로 변환시켜줘야함\n",
    "x_train.info()"
   ]
  },
  {
   "cell_type": "code",
   "execution_count": 6,
   "id": "4af2d28d",
   "metadata": {
    "execution": {
     "iopub.execute_input": "2022-05-30T06:15:23.447603Z",
     "iopub.status.busy": "2022-05-30T06:15:23.446485Z",
     "iopub.status.idle": "2022-05-30T06:15:24.676839Z",
     "shell.execute_reply": "2022-05-30T06:15:24.675825Z"
    },
    "papermill": {
     "duration": 1.241168,
     "end_time": "2022-05-30T06:15:24.679482",
     "exception": false,
     "start_time": "2022-05-30T06:15:23.438314",
     "status": "completed"
    },
    "tags": []
   },
   "outputs": [],
   "source": [
    "# train + test 를 label encoder에 집어 넣기위해 병합\n",
    "x_data = pd.concat([x_train, x_test], axis=0)\n",
    "\n",
    "from sklearn.preprocessing import LabelEncoder\n",
    "le = LabelEncoder()\n",
    "\n",
    "# 라벨 인코딩은 열마다 진핼시켜줘야 한다. \n",
    "# 원래 빼왔던 곳에 다시 넣어주자 !\n",
    "\n",
    "le.fit(x_data['gender'])\n",
    "x_train['gender'] = le.fit_transform(x_train['gender'])\n",
    "x_test['gender'] = le.fit_transform(x_test['gender'])\n",
    "\n",
    "le.fit(x_data['relevent_experience'])\n",
    "x_train['relevent_experience'] = le.fit_transform(x_train['relevent_experience'])\n",
    "x_test['relevent_experience'] = le.fit_transform(x_test['relevent_experience'])\n",
    "\n",
    "le.fit(x_data['enrolled_university'])\n",
    "x_train['enrolled_university'] = le.fit_transform(x_train['enrolled_university'])\n",
    "x_test['enrolled_university'] = le.fit_transform(x_test['enrolled_university'])\n",
    "\n",
    "le.fit(x_data['education_level'])\n",
    "x_train['education_level'] = le.fit_transform(x_train['education_level'])\n",
    "x_test['education_level'] = le.fit_transform(x_test['education_level'])\n",
    "\n",
    "le.fit(x_data['major_discipline'])\n",
    "x_train['major_discipline'] = le.fit_transform(x_train['major_discipline'])\n",
    "x_test['major_discipline'] = le.fit_transform(x_test['major_discipline'])\n",
    "\n",
    "le.fit(x_data['company_type'])\n",
    "x_train['company_type'] = le.fit_transform(x_train['company_type'])\n",
    "x_test['company_type'] = le.fit_transform(x_test['company_type'])\n",
    "\n",
    "# experience, company_size, last_new_job 는 빼고 실행해 줬다. "
   ]
  },
  {
   "cell_type": "code",
   "execution_count": 7,
   "id": "a23e8668",
   "metadata": {
    "execution": {
     "iopub.execute_input": "2022-05-30T06:15:24.694884Z",
     "iopub.status.busy": "2022-05-30T06:15:24.694421Z",
     "iopub.status.idle": "2022-05-30T06:15:24.701547Z",
     "shell.execute_reply": "2022-05-30T06:15:24.700551Z"
    },
    "papermill": {
     "duration": 0.017631,
     "end_time": "2022-05-30T06:15:24.703646",
     "exception": false,
     "start_time": "2022-05-30T06:15:24.686015",
     "status": "completed"
    },
    "tags": []
   },
   "outputs": [
    {
     "data": {
      "text/plain": [
       "array(['5', '17', '2', '16', '11', '14', '>20', '9', '4', '6', '12', '8',\n",
       "       '15', '13', '1', '3', '<1', '10', '7', '18', nan, '20', '19'],\n",
       "      dtype=object)"
      ]
     },
     "execution_count": 7,
     "metadata": {},
     "output_type": "execute_result"
    }
   ],
   "source": [
    "# 해당 열의 모든 정보를 확인 가능 ! x_train_le 하면 노노~\n",
    "x_test['experience'].unique()"
   ]
  },
  {
   "cell_type": "code",
   "execution_count": 8,
   "id": "d64705e5",
   "metadata": {
    "execution": {
     "iopub.execute_input": "2022-05-30T06:15:24.719422Z",
     "iopub.status.busy": "2022-05-30T06:15:24.718403Z",
     "iopub.status.idle": "2022-05-30T06:15:24.739412Z",
     "shell.execute_reply": "2022-05-30T06:15:24.738647Z"
    },
    "papermill": {
     "duration": 0.031518,
     "end_time": "2022-05-30T06:15:24.741760",
     "exception": false,
     "start_time": "2022-05-30T06:15:24.710242",
     "status": "completed"
    },
    "tags": []
   },
   "outputs": [],
   "source": [
    "x_train.loc[x_train.experience == '>20', 'experience'] = 21\n",
    "x_train.loc[x_train.experience == '<1','experience'] = 0 \n",
    "x_train.loc[x_train.experience.isnull(), 'experience'] = -1\n",
    "x_train['experience'] = x_train['experience'].astype('int64')"
   ]
  },
  {
   "cell_type": "code",
   "execution_count": 9,
   "id": "834e1b93",
   "metadata": {
    "execution": {
     "iopub.execute_input": "2022-05-30T06:15:24.756712Z",
     "iopub.status.busy": "2022-05-30T06:15:24.756034Z",
     "iopub.status.idle": "2022-05-30T06:15:24.771843Z",
     "shell.execute_reply": "2022-05-30T06:15:24.770649Z"
    },
    "papermill": {
     "duration": 0.025967,
     "end_time": "2022-05-30T06:15:24.774241",
     "exception": false,
     "start_time": "2022-05-30T06:15:24.748274",
     "status": "completed"
    },
    "tags": []
   },
   "outputs": [],
   "source": [
    "# temp [조건문이 == true 일 떄] = 이 값으로 변경 해주는 것.\n",
    "\n",
    "temp = x_test['experience'].copy()\n",
    "temp[temp == '>20'] =5\n",
    "temp[temp == '<1'] =5\n",
    "temp[temp.isnull()] = -1\n",
    "x_test['experience'] = temp.astype('int64')"
   ]
  },
  {
   "cell_type": "code",
   "execution_count": 10,
   "id": "f55584d6",
   "metadata": {
    "execution": {
     "iopub.execute_input": "2022-05-30T06:15:24.789489Z",
     "iopub.status.busy": "2022-05-30T06:15:24.789056Z",
     "iopub.status.idle": "2022-05-30T06:15:24.797097Z",
     "shell.execute_reply": "2022-05-30T06:15:24.796118Z"
    },
    "papermill": {
     "duration": 0.018326,
     "end_time": "2022-05-30T06:15:24.799326",
     "exception": false,
     "start_time": "2022-05-30T06:15:24.781000",
     "status": "completed"
    },
    "tags": []
   },
   "outputs": [
    {
     "data": {
      "text/plain": [
       "array([nan, '50-99', '<10', '1000-4999', '10000+', '100-500', '5000-9999',\n",
       "       '10/49', '500-999'], dtype=object)"
      ]
     },
     "execution_count": 10,
     "metadata": {},
     "output_type": "execute_result"
    }
   ],
   "source": [
    "x_train['company_size'].unique()"
   ]
  },
  {
   "cell_type": "code",
   "execution_count": 11,
   "id": "e0c30224",
   "metadata": {
    "execution": {
     "iopub.execute_input": "2022-05-30T06:15:24.814325Z",
     "iopub.status.busy": "2022-05-30T06:15:24.813919Z",
     "iopub.status.idle": "2022-05-30T06:15:24.852318Z",
     "shell.execute_reply": "2022-05-30T06:15:24.851332Z"
    },
    "papermill": {
     "duration": 0.048737,
     "end_time": "2022-05-30T06:15:24.854782",
     "exception": false,
     "start_time": "2022-05-30T06:15:24.806045",
     "status": "completed"
    },
    "tags": []
   },
   "outputs": [],
   "source": [
    "x_train.loc[x_train.company_size == '10000+', 'company_size'] = 1\n",
    "x_train.loc[x_train.company_size == '5000-9999', 'company_size'] = 2\n",
    "x_train.loc[x_train.company_size == '1000-4999', 'company_size'] = 3\n",
    "x_train.loc[x_train.company_size == '500-999', 'company_size'] = 4\n",
    "x_train.loc[x_train.company_size == '100-500', 'company_size'] = 5\n",
    "x_train.loc[x_train.company_size == '50-99', 'company_size'] = 6\n",
    "x_train.loc[x_train.company_size == '10/49', 'company_size'] = 7\n",
    "x_train.loc[x_train.company_size == '<10', 'company_size'] = 8\n",
    "x_train.loc[x_train.company_size.isnull(), 'company_size'] = -1\n",
    "x_train['company_size'] = x_train['company_size'].astype('int64')"
   ]
  },
  {
   "cell_type": "code",
   "execution_count": 12,
   "id": "0baf9714",
   "metadata": {
    "execution": {
     "iopub.execute_input": "2022-05-30T06:15:24.870204Z",
     "iopub.status.busy": "2022-05-30T06:15:24.869784Z",
     "iopub.status.idle": "2022-05-30T06:15:24.900422Z",
     "shell.execute_reply": "2022-05-30T06:15:24.899428Z"
    },
    "papermill": {
     "duration": 0.041301,
     "end_time": "2022-05-30T06:15:24.902813",
     "exception": false,
     "start_time": "2022-05-30T06:15:24.861512",
     "status": "completed"
    },
    "tags": []
   },
   "outputs": [],
   "source": [
    "temp = x_test['company_size'].copy()\n",
    "temp[temp == '10000+'] = 1\n",
    "temp[temp == '5000-9999'] = 2\n",
    "temp[temp == '1000-4999'] = 3\n",
    "temp[temp == '500-999'] = 4\n",
    "temp[temp == '100-500'] = 5\n",
    "temp[temp == '50-99'] = 6\n",
    "temp[temp == '10/49'] = 7\n",
    "temp[temp == '<10'] = 8\n",
    "temp[temp.isnull()] = -1\n",
    "x_test['company_size'] = temp.astype('int64')"
   ]
  },
  {
   "cell_type": "code",
   "execution_count": 13,
   "id": "9b4bc5f2",
   "metadata": {
    "execution": {
     "iopub.execute_input": "2022-05-30T06:15:24.917665Z",
     "iopub.status.busy": "2022-05-30T06:15:24.917234Z",
     "iopub.status.idle": "2022-05-30T06:15:24.925779Z",
     "shell.execute_reply": "2022-05-30T06:15:24.925096Z"
    },
    "papermill": {
     "duration": 0.018483,
     "end_time": "2022-05-30T06:15:24.927839",
     "exception": false,
     "start_time": "2022-05-30T06:15:24.909356",
     "status": "completed"
    },
    "tags": []
   },
   "outputs": [
    {
     "data": {
      "text/plain": [
       "array(['1', '>4', 'never', '4', '3', '2', nan], dtype=object)"
      ]
     },
     "execution_count": 13,
     "metadata": {},
     "output_type": "execute_result"
    }
   ],
   "source": [
    "x_train['last_new_job'].unique() "
   ]
  },
  {
   "cell_type": "code",
   "execution_count": 14,
   "id": "29c8caeb",
   "metadata": {
    "execution": {
     "iopub.execute_input": "2022-05-30T06:15:24.943053Z",
     "iopub.status.busy": "2022-05-30T06:15:24.942618Z",
     "iopub.status.idle": "2022-05-30T06:15:24.961757Z",
     "shell.execute_reply": "2022-05-30T06:15:24.960668Z"
    },
    "papermill": {
     "duration": 0.029353,
     "end_time": "2022-05-30T06:15:24.963953",
     "exception": false,
     "start_time": "2022-05-30T06:15:24.934600",
     "status": "completed"
    },
    "tags": []
   },
   "outputs": [],
   "source": [
    "x_train.loc[x_train.last_new_job == '>4', 'last_new_job'] = 5\n",
    "x_train.loc[x_train.last_new_job == 'never', 'last_new_job'] = 0\n",
    "x_train.loc[x_train.last_new_job.isnull() , 'last_new_job'] = -1\n",
    "x_train['last_new_job'] = x_train['last_new_job'].astype('int64')"
   ]
  },
  {
   "cell_type": "code",
   "execution_count": 15,
   "id": "0334f871",
   "metadata": {
    "execution": {
     "iopub.execute_input": "2022-05-30T06:15:24.980506Z",
     "iopub.status.busy": "2022-05-30T06:15:24.979432Z",
     "iopub.status.idle": "2022-05-30T06:15:24.996521Z",
     "shell.execute_reply": "2022-05-30T06:15:24.995289Z"
    },
    "papermill": {
     "duration": 0.028691,
     "end_time": "2022-05-30T06:15:24.999855",
     "exception": false,
     "start_time": "2022-05-30T06:15:24.971164",
     "status": "completed"
    },
    "tags": []
   },
   "outputs": [],
   "source": [
    "temp = x_test['last_new_job'].copy()\n",
    "temp[temp == '>4'] =5\n",
    "temp[temp == 'never'] =5\n",
    "temp[temp.isnull()] = -1\n",
    "x_test['last_new_job'] = temp.astype('int64')"
   ]
  },
  {
   "cell_type": "code",
   "execution_count": 16,
   "id": "23832f50",
   "metadata": {
    "execution": {
     "iopub.execute_input": "2022-05-30T06:15:25.018466Z",
     "iopub.status.busy": "2022-05-30T06:15:25.017902Z",
     "iopub.status.idle": "2022-05-30T06:15:25.237768Z",
     "shell.execute_reply": "2022-05-30T06:15:25.236415Z"
    },
    "papermill": {
     "duration": 0.234196,
     "end_time": "2022-05-30T06:15:25.241533",
     "exception": false,
     "start_time": "2022-05-30T06:15:25.007337",
     "status": "completed"
    },
    "tags": []
   },
   "outputs": [],
   "source": [
    "from sklearn.discriminant_analysis import QuadraticDiscriminantAnalysis\n",
    "\n",
    "qda = QuadraticDiscriminantAnalysis()\n",
    "qda.fit(x_train, y_train)\n",
    "submit['target'] = qda.predict(x_test).astype('int64')"
   ]
  },
  {
   "cell_type": "code",
   "execution_count": 17,
   "id": "b01e9b64",
   "metadata": {
    "execution": {
     "iopub.execute_input": "2022-05-30T06:15:25.269256Z",
     "iopub.status.busy": "2022-05-30T06:15:25.268450Z",
     "iopub.status.idle": "2022-05-30T06:15:25.292908Z",
     "shell.execute_reply": "2022-05-30T06:15:25.291742Z"
    },
    "papermill": {
     "duration": 0.042309,
     "end_time": "2022-05-30T06:15:25.296248",
     "exception": false,
     "start_time": "2022-05-30T06:15:25.253939",
     "status": "completed"
    },
    "tags": []
   },
   "outputs": [],
   "source": [
    "submit.to_csv('result.csv', index=False)"
   ]
  },
  {
   "cell_type": "code",
   "execution_count": null,
   "id": "b98023a2",
   "metadata": {
    "papermill": {
     "duration": 0.011951,
     "end_time": "2022-05-30T06:15:25.320346",
     "exception": false,
     "start_time": "2022-05-30T06:15:25.308395",
     "status": "completed"
    },
    "tags": []
   },
   "outputs": [],
   "source": []
  }
 ],
 "metadata": {
  "kernelspec": {
   "display_name": "Python 3",
   "language": "python",
   "name": "python3"
  },
  "language_info": {
   "codemirror_mode": {
    "name": "ipython",
    "version": 3
   },
   "file_extension": ".py",
   "mimetype": "text/x-python",
   "name": "python",
   "nbconvert_exporter": "python",
   "pygments_lexer": "ipython3",
   "version": "3.7.12"
  },
  "papermill": {
   "default_parameters": {},
   "duration": 14.619722,
   "end_time": "2022-05-30T06:15:26.162862",
   "environment_variables": {},
   "exception": null,
   "input_path": "__notebook__.ipynb",
   "output_path": "__notebook__.ipynb",
   "parameters": {},
   "start_time": "2022-05-30T06:15:11.543140",
   "version": "2.3.4"
  }
 },
 "nbformat": 4,
 "nbformat_minor": 5
}
