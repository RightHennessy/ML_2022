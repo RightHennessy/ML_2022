{
 "cells": [
  {
   "cell_type": "code",
   "execution_count": 1,
   "id": "f18a9bdf",
   "metadata": {
    "_cell_guid": "b1076dfc-b9ad-4769-8c92-a6c4dae69d19",
    "_uuid": "8f2839f25d086af736a60e9eeb907d3b93b6e0e5",
    "execution": {
     "iopub.execute_input": "2022-05-30T08:51:28.015813Z",
     "iopub.status.busy": "2022-05-30T08:51:28.015354Z",
     "iopub.status.idle": "2022-05-30T08:51:28.028962Z",
     "shell.execute_reply": "2022-05-30T08:51:28.028226Z"
    },
    "papermill": {
     "duration": 0.02669,
     "end_time": "2022-05-30T08:51:28.031267",
     "exception": false,
     "start_time": "2022-05-30T08:51:28.004577",
     "status": "completed"
    },
    "tags": []
   },
   "outputs": [
    {
     "name": "stdout",
     "output_type": "stream",
     "text": [
      "/kaggle/input/2022-ml-w13p2/train.csv\n",
      "/kaggle/input/2022-ml-w13p2/test.csv\n",
      "/kaggle/input/2022-ml-w13p2/sample_submit.csv\n"
     ]
    }
   ],
   "source": [
    "# This Python 3 environment comes with many helpful analytics libraries installed\n",
    "# It is defined by the kaggle/python Docker image: https://github.com/kaggle/docker-python\n",
    "# For example, here's several helpful packages to load\n",
    "\n",
    "import numpy as np # linear algebra\n",
    "import pandas as pd # data processing, CSV file I/O (e.g. pd.read_csv)\n",
    "\n",
    "# Input data files are available in the read-only \"../input/\" directory\n",
    "# For example, running this (by clicking run or pressing Shift+Enter) will list all files under the input directory\n",
    "\n",
    "import os\n",
    "for dirname, _, filenames in os.walk('/kaggle/input'):\n",
    "    for filename in filenames:\n",
    "        print(os.path.join(dirname, filename))\n",
    "\n",
    "# You can write up to 20GB to the current directory (/kaggle/working/) that gets preserved as output when you create a version using \"Save & Run All\" \n",
    "# You can also write temporary files to /kaggle/temp/, but they won't be saved outside of the current session"
   ]
  },
  {
   "cell_type": "code",
   "execution_count": 2,
   "id": "ecf4f9f0",
   "metadata": {
    "execution": {
     "iopub.execute_input": "2022-05-30T08:51:28.043956Z",
     "iopub.status.busy": "2022-05-30T08:51:28.043460Z",
     "iopub.status.idle": "2022-05-30T08:51:28.107140Z",
     "shell.execute_reply": "2022-05-30T08:51:28.106196Z"
    },
    "papermill": {
     "duration": 0.072817,
     "end_time": "2022-05-30T08:51:28.109768",
     "exception": false,
     "start_time": "2022-05-30T08:51:28.036951",
     "status": "completed"
    },
    "tags": []
   },
   "outputs": [],
   "source": [
    "submit = pd.read_csv('../input/2022-ml-w13p2/sample_submit.csv')\n",
    "test = pd.read_csv('../input/2022-ml-w13p2/test.csv')\n",
    "train = pd.read_csv('../input/2022-ml-w13p2/train.csv')"
   ]
  },
  {
   "cell_type": "code",
   "execution_count": 3,
   "id": "6e2b4d13",
   "metadata": {
    "execution": {
     "iopub.execute_input": "2022-05-30T08:51:28.122640Z",
     "iopub.status.busy": "2022-05-30T08:51:28.122233Z",
     "iopub.status.idle": "2022-05-30T08:51:28.169527Z",
     "shell.execute_reply": "2022-05-30T08:51:28.168638Z"
    },
    "papermill": {
     "duration": 0.056893,
     "end_time": "2022-05-30T08:51:28.172279",
     "exception": false,
     "start_time": "2022-05-30T08:51:28.115386",
     "status": "completed"
    },
    "tags": []
   },
   "outputs": [
    {
     "name": "stdout",
     "output_type": "stream",
     "text": [
      "<class 'pandas.core.frame.DataFrame'>\n",
      "RangeIndex: 4788 entries, 0 to 4787\n",
      "Data columns (total 23 columns):\n",
      " #   Column            Non-Null Count  Dtype  \n",
      "---  ------            --------------  -----  \n",
      " 0   index             4788 non-null   int64  \n",
      " 1   Unnamed: 0        4788 non-null   int64  \n",
      " 2   customerID        4788 non-null   object \n",
      " 3   gender            4788 non-null   object \n",
      " 4   SeniorCitizen     4788 non-null   int64  \n",
      " 5   Partner           4788 non-null   object \n",
      " 6   Dependents        4788 non-null   object \n",
      " 7   tenure            4788 non-null   int64  \n",
      " 8   PhoneService      4788 non-null   object \n",
      " 9   MultipleLines     4788 non-null   object \n",
      " 10  InternetService   4788 non-null   object \n",
      " 11  OnlineSecurity    4788 non-null   object \n",
      " 12  OnlineBackup      4788 non-null   object \n",
      " 13  DeviceProtection  4788 non-null   object \n",
      " 14  TechSupport       4788 non-null   object \n",
      " 15  StreamingTV       4788 non-null   object \n",
      " 16  StreamingMovies   4788 non-null   object \n",
      " 17  Contract          4788 non-null   object \n",
      " 18  PaperlessBilling  4788 non-null   object \n",
      " 19  PaymentMethod     4788 non-null   object \n",
      " 20  MonthlyCharges    4788 non-null   float64\n",
      " 21  TotalCharges      4788 non-null   object \n",
      " 22  Churn             4788 non-null   object \n",
      "dtypes: float64(1), int64(4), object(18)\n",
      "memory usage: 860.5+ KB\n"
     ]
    }
   ],
   "source": [
    "train.info()"
   ]
  },
  {
   "cell_type": "code",
   "execution_count": 4,
   "id": "29b5117f",
   "metadata": {
    "execution": {
     "iopub.execute_input": "2022-05-30T08:51:28.186102Z",
     "iopub.status.busy": "2022-05-30T08:51:28.185299Z",
     "iopub.status.idle": "2022-05-30T08:51:28.198698Z",
     "shell.execute_reply": "2022-05-30T08:51:28.197862Z"
    },
    "papermill": {
     "duration": 0.022826,
     "end_time": "2022-05-30T08:51:28.200852",
     "exception": false,
     "start_time": "2022-05-30T08:51:28.178026",
     "status": "completed"
    },
    "tags": []
   },
   "outputs": [],
   "source": [
    "temp = train['Churn'].copy()\n",
    "temp[temp == 'Yes'] = 1\n",
    "temp[temp == 'No'] = 0\n",
    "train['Churn'] = temp.astype('int64')"
   ]
  },
  {
   "cell_type": "code",
   "execution_count": 5,
   "id": "31b0a722",
   "metadata": {
    "execution": {
     "iopub.execute_input": "2022-05-30T08:51:28.213715Z",
     "iopub.status.busy": "2022-05-30T08:51:28.213137Z",
     "iopub.status.idle": "2022-05-30T08:51:28.223356Z",
     "shell.execute_reply": "2022-05-30T08:51:28.222683Z"
    },
    "papermill": {
     "duration": 0.018763,
     "end_time": "2022-05-30T08:51:28.225338",
     "exception": false,
     "start_time": "2022-05-30T08:51:28.206575",
     "status": "completed"
    },
    "tags": []
   },
   "outputs": [],
   "source": [
    "x_train = train.drop(['index', 'Unnamed: 0', 'customerID', 'Churn'], axis=1)\n",
    "y_train = train['Churn']\n",
    "x_test = test.drop(['index', 'Unnamed: 0', 'customerID'], axis=1)"
   ]
  },
  {
   "cell_type": "code",
   "execution_count": 6,
   "id": "a21c4bf3",
   "metadata": {
    "execution": {
     "iopub.execute_input": "2022-05-30T08:51:28.237954Z",
     "iopub.status.busy": "2022-05-30T08:51:28.237550Z",
     "iopub.status.idle": "2022-05-30T08:51:28.267511Z",
     "shell.execute_reply": "2022-05-30T08:51:28.266557Z"
    },
    "papermill": {
     "duration": 0.039668,
     "end_time": "2022-05-30T08:51:28.270589",
     "exception": false,
     "start_time": "2022-05-30T08:51:28.230921",
     "status": "completed"
    },
    "tags": []
   },
   "outputs": [
    {
     "name": "stdout",
     "output_type": "stream",
     "text": [
      "<class 'pandas.core.frame.DataFrame'>\n",
      "RangeIndex: 4788 entries, 0 to 4787\n",
      "Data columns (total 19 columns):\n",
      " #   Column            Non-Null Count  Dtype  \n",
      "---  ------            --------------  -----  \n",
      " 0   gender            4788 non-null   object \n",
      " 1   SeniorCitizen     4788 non-null   int64  \n",
      " 2   Partner           4788 non-null   object \n",
      " 3   Dependents        4788 non-null   object \n",
      " 4   tenure            4788 non-null   int64  \n",
      " 5   PhoneService      4788 non-null   object \n",
      " 6   MultipleLines     4788 non-null   object \n",
      " 7   InternetService   4788 non-null   object \n",
      " 8   OnlineSecurity    4788 non-null   object \n",
      " 9   OnlineBackup      4788 non-null   object \n",
      " 10  DeviceProtection  4788 non-null   object \n",
      " 11  TechSupport       4788 non-null   object \n",
      " 12  StreamingTV       4788 non-null   object \n",
      " 13  StreamingMovies   4788 non-null   object \n",
      " 14  Contract          4788 non-null   object \n",
      " 15  PaperlessBilling  4788 non-null   object \n",
      " 16  PaymentMethod     4788 non-null   object \n",
      " 17  MonthlyCharges    4788 non-null   float64\n",
      " 18  TotalCharges      4788 non-null   object \n",
      "dtypes: float64(1), int64(2), object(16)\n",
      "memory usage: 710.8+ KB\n",
      "<class 'pandas.core.frame.DataFrame'>\n",
      "RangeIndex: 1198 entries, 0 to 1197\n",
      "Data columns (total 19 columns):\n",
      " #   Column            Non-Null Count  Dtype  \n",
      "---  ------            --------------  -----  \n",
      " 0   gender            1198 non-null   object \n",
      " 1   SeniorCitizen     1198 non-null   int64  \n",
      " 2   Partner           1198 non-null   object \n",
      " 3   Dependents        1198 non-null   object \n",
      " 4   tenure            1198 non-null   int64  \n",
      " 5   PhoneService      1198 non-null   object \n",
      " 6   MultipleLines     1198 non-null   object \n",
      " 7   InternetService   1198 non-null   object \n",
      " 8   OnlineSecurity    1198 non-null   object \n",
      " 9   OnlineBackup      1198 non-null   object \n",
      " 10  DeviceProtection  1198 non-null   object \n",
      " 11  TechSupport       1198 non-null   object \n",
      " 12  StreamingTV       1198 non-null   object \n",
      " 13  StreamingMovies   1198 non-null   object \n",
      " 14  Contract          1198 non-null   object \n",
      " 15  PaperlessBilling  1198 non-null   object \n",
      " 16  PaymentMethod     1198 non-null   object \n",
      " 17  MonthlyCharges    1198 non-null   float64\n",
      " 18  TotalCharges      1198 non-null   float64\n",
      "dtypes: float64(2), int64(2), object(15)\n",
      "memory usage: 178.0+ KB\n"
     ]
    }
   ],
   "source": [
    "# info를 보고 object인 type은 unique()를 통해 내용물을 확인하자\n",
    "x_train.info()\n",
    "x_test.info()"
   ]
  },
  {
   "cell_type": "code",
   "execution_count": 7,
   "id": "17466c82",
   "metadata": {
    "execution": {
     "iopub.execute_input": "2022-05-30T08:51:28.289984Z",
     "iopub.status.busy": "2022-05-30T08:51:28.289399Z",
     "iopub.status.idle": "2022-05-30T08:51:29.368130Z",
     "shell.execute_reply": "2022-05-30T08:51:29.367098Z"
    },
    "papermill": {
     "duration": 1.091404,
     "end_time": "2022-05-30T08:51:29.370676",
     "exception": false,
     "start_time": "2022-05-30T08:51:28.279272",
     "status": "completed"
    },
    "tags": []
   },
   "outputs": [],
   "source": [
    "# 복잡하게 여러번 쓸 필요없이 배열 만들어서 수행하면 편리하게 가넝 ~\n",
    "# 전체 주석 :ctrl + /\n",
    "\n",
    "columns = ['gender', 'Partner', 'Dependents', 'PhoneService', 'MultipleLines', \n",
    "           'InternetService','OnlineSecurity','OnlineBackup','DeviceProtection',\n",
    "           'TechSupport','StreamingTV','StreamingMovies','Contract',\n",
    "           'PaperlessBilling','PaymentMethod']\n",
    "\n",
    "from sklearn.preprocessing import LabelEncoder\n",
    "le = LabelEncoder()\n",
    "\n",
    "x_data = pd.concat([x_train, x_test], axis=0)\n",
    "\n",
    "for column in columns:\n",
    "    le.fit(x_data[column])\n",
    "    x_train[column] = le.fit_transform(x_train[column])\n",
    "    x_test[column] = le.fit_transform(x_test[column])\n",
    "    "
   ]
  },
  {
   "cell_type": "code",
   "execution_count": 8,
   "id": "911ea6d5",
   "metadata": {
    "execution": {
     "iopub.execute_input": "2022-05-30T08:51:29.384144Z",
     "iopub.status.busy": "2022-05-30T08:51:29.383767Z",
     "iopub.status.idle": "2022-05-30T08:51:29.393165Z",
     "shell.execute_reply": "2022-05-30T08:51:29.392236Z"
    },
    "papermill": {
     "duration": 0.018307,
     "end_time": "2022-05-30T08:51:29.395098",
     "exception": false,
     "start_time": "2022-05-30T08:51:29.376791",
     "status": "completed"
    },
    "tags": []
   },
   "outputs": [
    {
     "data": {
      "text/plain": [
       "0       0\n",
       "1       0\n",
       "2       1\n",
       "3       0\n",
       "4       0\n",
       "       ..\n",
       "4783    1\n",
       "4784    0\n",
       "4785    0\n",
       "4786    1\n",
       "4787    0\n",
       "Name: Churn, Length: 4788, dtype: int64"
      ]
     },
     "execution_count": 8,
     "metadata": {},
     "output_type": "execute_result"
    }
   ],
   "source": [
    "y_train"
   ]
  },
  {
   "cell_type": "code",
   "execution_count": 9,
   "id": "3580b8be",
   "metadata": {
    "execution": {
     "iopub.execute_input": "2022-05-30T08:51:29.408707Z",
     "iopub.status.busy": "2022-05-30T08:51:29.408271Z",
     "iopub.status.idle": "2022-05-30T08:51:29.411521Z",
     "shell.execute_reply": "2022-05-30T08:51:29.410901Z"
    },
    "papermill": {
     "duration": 0.012596,
     "end_time": "2022-05-30T08:51:29.413633",
     "exception": false,
     "start_time": "2022-05-30T08:51:29.401037",
     "status": "completed"
    },
    "tags": []
   },
   "outputs": [],
   "source": [
    "# TotalCharges 형변환 시도 했으나 오류 발견 !\n",
    "# x_train['TotalCharges'] = x_train['TotalCharges'].astype('float')\n",
    "# x_train['TotalCharges'] = pd.to_numeric(x_train['TotalCharges'], downcast='float')"
   ]
  },
  {
   "cell_type": "code",
   "execution_count": 10,
   "id": "b0347e8c",
   "metadata": {
    "execution": {
     "iopub.execute_input": "2022-05-30T08:51:29.429198Z",
     "iopub.status.busy": "2022-05-30T08:51:29.428785Z",
     "iopub.status.idle": "2022-05-30T08:51:29.434570Z",
     "shell.execute_reply": "2022-05-30T08:51:29.433868Z"
    },
    "papermill": {
     "duration": 0.017343,
     "end_time": "2022-05-30T08:51:29.436906",
     "exception": false,
     "start_time": "2022-05-30T08:51:29.419563",
     "status": "completed"
    },
    "tags": []
   },
   "outputs": [
    {
     "data": {
      "text/plain": [
       "' '"
      ]
     },
     "execution_count": 10,
     "metadata": {},
     "output_type": "execute_result"
    }
   ],
   "source": [
    "x_train['TotalCharges'][280]"
   ]
  },
  {
   "cell_type": "code",
   "execution_count": 11,
   "id": "2e10e561",
   "metadata": {
    "execution": {
     "iopub.execute_input": "2022-05-30T08:51:29.451864Z",
     "iopub.status.busy": "2022-05-30T08:51:29.451227Z",
     "iopub.status.idle": "2022-05-30T08:51:29.462390Z",
     "shell.execute_reply": "2022-05-30T08:51:29.461621Z"
    },
    "papermill": {
     "duration": 0.021364,
     "end_time": "2022-05-30T08:51:29.464839",
     "exception": false,
     "start_time": "2022-05-30T08:51:29.443475",
     "status": "completed"
    },
    "tags": []
   },
   "outputs": [],
   "source": [
    "(x_train['TotalCharges'] == ' ').sum()\n",
    "\n",
    "# 갯수가 적을 때는 drop하는 것이 좋은 방법 ~\n",
    "drop_ipx  = x_train[x_train['TotalCharges'] == ' '].index\n",
    "\n",
    "x_train = x_train.drop(drop_ipx, axis=0)\n",
    "y_train = y_train.drop(drop_ipx, axis=0)"
   ]
  },
  {
   "cell_type": "code",
   "execution_count": 12,
   "id": "39a4922d",
   "metadata": {
    "execution": {
     "iopub.execute_input": "2022-05-30T08:51:29.478578Z",
     "iopub.status.busy": "2022-05-30T08:51:29.478168Z",
     "iopub.status.idle": "2022-05-30T08:51:29.485063Z",
     "shell.execute_reply": "2022-05-30T08:51:29.484091Z"
    },
    "papermill": {
     "duration": 0.016214,
     "end_time": "2022-05-30T08:51:29.487173",
     "exception": false,
     "start_time": "2022-05-30T08:51:29.470959",
     "status": "completed"
    },
    "tags": []
   },
   "outputs": [],
   "source": [
    "x_train['TotalCharges'] = x_train['TotalCharges'].astype('float')"
   ]
  },
  {
   "cell_type": "code",
   "execution_count": 13,
   "id": "712290c0",
   "metadata": {
    "execution": {
     "iopub.execute_input": "2022-05-30T08:51:29.501172Z",
     "iopub.status.busy": "2022-05-30T08:51:29.500232Z",
     "iopub.status.idle": "2022-05-30T08:51:29.803668Z",
     "shell.execute_reply": "2022-05-30T08:51:29.802652Z"
    },
    "papermill": {
     "duration": 0.317031,
     "end_time": "2022-05-30T08:51:29.810253",
     "exception": false,
     "start_time": "2022-05-30T08:51:29.493222",
     "status": "completed"
    },
    "tags": []
   },
   "outputs": [
    {
     "data": {
      "text/plain": [
       "LogisticRegression(max_iter=1000)"
      ]
     },
     "execution_count": 13,
     "metadata": {},
     "output_type": "execute_result"
    }
   ],
   "source": [
    "from sklearn.linear_model import LogisticRegression\n",
    "\n",
    "#clf = LogisticRegression()\n",
    "# max_iter = 100 (default) : 수렴 안되었다는 메시지 -> 그럼 max_iter 증가 시켜줘야함\n",
    "\n",
    "clf = LogisticRegression(max_iter=1000)\n",
    "clf.fit(x_train, y_train)"
   ]
  },
  {
   "cell_type": "code",
   "execution_count": 14,
   "id": "83947a77",
   "metadata": {
    "execution": {
     "iopub.execute_input": "2022-05-30T08:51:29.835637Z",
     "iopub.status.busy": "2022-05-30T08:51:29.835007Z",
     "iopub.status.idle": "2022-05-30T08:51:29.864841Z",
     "shell.execute_reply": "2022-05-30T08:51:29.863783Z"
    },
    "papermill": {
     "duration": 0.04594,
     "end_time": "2022-05-30T08:51:29.868430",
     "exception": false,
     "start_time": "2022-05-30T08:51:29.822490",
     "status": "completed"
    },
    "tags": []
   },
   "outputs": [
    {
     "data": {
      "text/html": [
       "<div>\n",
       "<style scoped>\n",
       "    .dataframe tbody tr th:only-of-type {\n",
       "        vertical-align: middle;\n",
       "    }\n",
       "\n",
       "    .dataframe tbody tr th {\n",
       "        vertical-align: top;\n",
       "    }\n",
       "\n",
       "    .dataframe thead th {\n",
       "        text-align: right;\n",
       "    }\n",
       "</style>\n",
       "<table border=\"1\" class=\"dataframe\">\n",
       "  <thead>\n",
       "    <tr style=\"text-align: right;\">\n",
       "      <th></th>\n",
       "      <th>index</th>\n",
       "      <th>Churn</th>\n",
       "    </tr>\n",
       "  </thead>\n",
       "  <tbody>\n",
       "    <tr>\n",
       "      <th>0</th>\n",
       "      <td>5</td>\n",
       "      <td>NaN</td>\n",
       "    </tr>\n",
       "    <tr>\n",
       "      <th>1</th>\n",
       "      <td>10</td>\n",
       "      <td>NaN</td>\n",
       "    </tr>\n",
       "    <tr>\n",
       "      <th>2</th>\n",
       "      <td>13</td>\n",
       "      <td>NaN</td>\n",
       "    </tr>\n",
       "    <tr>\n",
       "      <th>3</th>\n",
       "      <td>18</td>\n",
       "      <td>NaN</td>\n",
       "    </tr>\n",
       "    <tr>\n",
       "      <th>4</th>\n",
       "      <td>20</td>\n",
       "      <td>NaN</td>\n",
       "    </tr>\n",
       "    <tr>\n",
       "      <th>...</th>\n",
       "      <td>...</td>\n",
       "      <td>...</td>\n",
       "    </tr>\n",
       "    <tr>\n",
       "      <th>1193</th>\n",
       "      <td>5962</td>\n",
       "      <td>NaN</td>\n",
       "    </tr>\n",
       "    <tr>\n",
       "      <th>1194</th>\n",
       "      <td>5968</td>\n",
       "      <td>NaN</td>\n",
       "    </tr>\n",
       "    <tr>\n",
       "      <th>1195</th>\n",
       "      <td>5975</td>\n",
       "      <td>NaN</td>\n",
       "    </tr>\n",
       "    <tr>\n",
       "      <th>1196</th>\n",
       "      <td>5977</td>\n",
       "      <td>NaN</td>\n",
       "    </tr>\n",
       "    <tr>\n",
       "      <th>1197</th>\n",
       "      <td>5978</td>\n",
       "      <td>NaN</td>\n",
       "    </tr>\n",
       "  </tbody>\n",
       "</table>\n",
       "<p>1198 rows × 2 columns</p>\n",
       "</div>"
      ],
      "text/plain": [
       "      index  Churn\n",
       "0         5    NaN\n",
       "1        10    NaN\n",
       "2        13    NaN\n",
       "3        18    NaN\n",
       "4        20    NaN\n",
       "...     ...    ...\n",
       "1193   5962    NaN\n",
       "1194   5968    NaN\n",
       "1195   5975    NaN\n",
       "1196   5977    NaN\n",
       "1197   5978    NaN\n",
       "\n",
       "[1198 rows x 2 columns]"
      ]
     },
     "execution_count": 14,
     "metadata": {},
     "output_type": "execute_result"
    }
   ],
   "source": [
    "submit"
   ]
  },
  {
   "cell_type": "code",
   "execution_count": 15,
   "id": "2c283597",
   "metadata": {
    "execution": {
     "iopub.execute_input": "2022-05-30T08:51:29.894056Z",
     "iopub.status.busy": "2022-05-30T08:51:29.893454Z",
     "iopub.status.idle": "2022-05-30T08:51:29.908215Z",
     "shell.execute_reply": "2022-05-30T08:51:29.907112Z"
    },
    "papermill": {
     "duration": 0.031323,
     "end_time": "2022-05-30T08:51:29.911890",
     "exception": false,
     "start_time": "2022-05-30T08:51:29.880567",
     "status": "completed"
    },
    "tags": []
   },
   "outputs": [],
   "source": [
    "submit['Churn'] = clf.predict(x_test)"
   ]
  },
  {
   "cell_type": "code",
   "execution_count": 16,
   "id": "819108d9",
   "metadata": {
    "execution": {
     "iopub.execute_input": "2022-05-30T08:51:29.937191Z",
     "iopub.status.busy": "2022-05-30T08:51:29.936594Z",
     "iopub.status.idle": "2022-05-30T08:51:29.953339Z",
     "shell.execute_reply": "2022-05-30T08:51:29.951977Z"
    },
    "papermill": {
     "duration": 0.033921,
     "end_time": "2022-05-30T08:51:29.957567",
     "exception": false,
     "start_time": "2022-05-30T08:51:29.923646",
     "status": "completed"
    },
    "tags": []
   },
   "outputs": [],
   "source": [
    "submit.to_csv('result.csv', index=False)"
   ]
  },
  {
   "cell_type": "code",
   "execution_count": null,
   "id": "a2660ed1",
   "metadata": {
    "papermill": {
     "duration": 0.011435,
     "end_time": "2022-05-30T08:51:29.981071",
     "exception": false,
     "start_time": "2022-05-30T08:51:29.969636",
     "status": "completed"
    },
    "tags": []
   },
   "outputs": [],
   "source": []
  }
 ],
 "metadata": {
  "kernelspec": {
   "display_name": "Python 3",
   "language": "python",
   "name": "python3"
  },
  "language_info": {
   "codemirror_mode": {
    "name": "ipython",
    "version": 3
   },
   "file_extension": ".py",
   "mimetype": "text/x-python",
   "name": "python",
   "nbconvert_exporter": "python",
   "pygments_lexer": "ipython3",
   "version": "3.7.12"
  },
  "papermill": {
   "default_parameters": {},
   "duration": 13.053579,
   "end_time": "2022-05-30T08:51:30.722483",
   "environment_variables": {},
   "exception": null,
   "input_path": "__notebook__.ipynb",
   "output_path": "__notebook__.ipynb",
   "parameters": {},
   "start_time": "2022-05-30T08:51:17.668904",
   "version": "2.3.4"
  }
 },
 "nbformat": 4,
 "nbformat_minor": 5
}
