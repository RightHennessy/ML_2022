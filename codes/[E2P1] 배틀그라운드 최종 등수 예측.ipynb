{
 "cells": [
  {
   "cell_type": "code",
   "execution_count": 1,
   "id": "9f5a9588",
   "metadata": {
    "_cell_guid": "b1076dfc-b9ad-4769-8c92-a6c4dae69d19",
    "_uuid": "8f2839f25d086af736a60e9eeb907d3b93b6e0e5",
    "execution": {
     "iopub.execute_input": "2022-06-13T10:41:53.849438Z",
     "iopub.status.busy": "2022-06-13T10:41:53.848501Z",
     "iopub.status.idle": "2022-06-13T10:41:53.869915Z",
     "shell.execute_reply": "2022-06-13T10:41:53.869114Z"
    },
    "papermill": {
     "duration": 0.029944,
     "end_time": "2022-06-13T10:41:53.872628",
     "exception": false,
     "start_time": "2022-06-13T10:41:53.842684",
     "status": "completed"
    },
    "tags": []
   },
   "outputs": [
    {
     "name": "stdout",
     "output_type": "stream",
     "text": [
      "/kaggle/input/2022-ml-finalexam-p1/sample_submission.csv\n",
      "/kaggle/input/2022-ml-finalexam-p1/train.csv\n",
      "/kaggle/input/2022-ml-finalexam-p1/test.csv\n"
     ]
    }
   ],
   "source": [
    "# This Python 3 environment comes with many helpful analytics libraries installed\n",
    "# It is defined by the kaggle/python Docker image: https://github.com/kaggle/docker-python\n",
    "# For example, here's several helpful packages to load\n",
    "\n",
    "import numpy as np # linear algebra\n",
    "import pandas as pd # data processing, CSV file I/O (e.g. pd.read_csv)\n",
    "\n",
    "# Input data files are available in the read-only \"../input/\" directory\n",
    "# For example, running this (by clicking run or pressing Shift+Enter) will list all files under the input directory\n",
    "\n",
    "import os\n",
    "for dirname, _, filenames in os.walk('/kaggle/input'):\n",
    "    for filename in filenames:\n",
    "        print(os.path.join(dirname, filename))\n",
    "\n",
    "# You can write up to 20GB to the current directory (/kaggle/working/) that gets preserved as output when you create a version using \"Save & Run All\" \n",
    "# You can also write temporary files to /kaggle/temp/, but they won't be saved outside of the current session"
   ]
  },
  {
   "cell_type": "code",
   "execution_count": 2,
   "id": "ba973a1b",
   "metadata": {
    "execution": {
     "iopub.execute_input": "2022-06-13T10:41:53.881150Z",
     "iopub.status.busy": "2022-06-13T10:41:53.880233Z",
     "iopub.status.idle": "2022-06-13T10:41:54.418522Z",
     "shell.execute_reply": "2022-06-13T10:41:54.417423Z"
    },
    "papermill": {
     "duration": 0.544984,
     "end_time": "2022-06-13T10:41:54.421101",
     "exception": false,
     "start_time": "2022-06-13T10:41:53.876117",
     "status": "completed"
    },
    "tags": []
   },
   "outputs": [],
   "source": [
    "# data를 가져온다\n",
    "\n",
    "train = pd.read_csv('../input/2022-ml-finalexam-p1/train.csv')\n",
    "test = pd.read_csv('../input/2022-ml-finalexam-p1/test.csv')\n",
    "submit = pd.read_csv('../input/2022-ml-finalexam-p1/sample_submission.csv')"
   ]
  },
  {
   "cell_type": "code",
   "execution_count": 3,
   "id": "2f729606",
   "metadata": {
    "execution": {
     "iopub.execute_input": "2022-06-13T10:41:54.429196Z",
     "iopub.status.busy": "2022-06-13T10:41:54.428798Z",
     "iopub.status.idle": "2022-06-13T10:41:54.449664Z",
     "shell.execute_reply": "2022-06-13T10:41:54.448448Z"
    },
    "papermill": {
     "duration": 0.027305,
     "end_time": "2022-06-13T10:41:54.451882",
     "exception": false,
     "start_time": "2022-06-13T10:41:54.424577",
     "status": "completed"
    },
    "tags": []
   },
   "outputs": [],
   "source": [
    "# 학습에 필요없는 데이터를 제거하여 trainX와 testX에 넣고, trainY는 정답 예측을 위한 열만 넣는다. \n",
    "\n",
    "trainX = train.drop(['Id', 'groupId', 'matchId', 'winPlacePerc'], axis=1)\n",
    "trainY = train['winPlacePerc']\n",
    "testX = test.drop(['Id', 'groupId', 'matchId'], axis=1)"
   ]
  },
  {
   "cell_type": "code",
   "execution_count": 4,
   "id": "2b4727c8",
   "metadata": {
    "execution": {
     "iopub.execute_input": "2022-06-13T10:41:54.460435Z",
     "iopub.status.busy": "2022-06-13T10:41:54.459309Z",
     "iopub.status.idle": "2022-06-13T10:52:06.627017Z",
     "shell.execute_reply": "2022-06-13T10:52:06.626038Z"
    },
    "papermill": {
     "duration": 612.177054,
     "end_time": "2022-06-13T10:52:06.632033",
     "exception": false,
     "start_time": "2022-06-13T10:41:54.454979",
     "status": "completed"
    },
    "tags": []
   },
   "outputs": [
    {
     "data": {
      "text/plain": [
       "RandomForestRegressor(n_estimators=1000, random_state=1)"
      ]
     },
     "execution_count": 4,
     "metadata": {},
     "output_type": "execute_result"
    }
   ],
   "source": [
    "# 회귀 문제이므로 대체로 좋은 성능을 보이는 RandomForestRegressor을 사용했다. n_estimator는 1000으로 지정해 주었다.\n",
    "# 그 다음 모델로 train 데이터를 학습 시켜준다.\n",
    "\n",
    "from sklearn.ensemble import RandomForestRegressor\n",
    "model = RandomForestRegressor(random_state=1, n_estimators=1000)\n",
    "model.fit(trainX, trainY)"
   ]
  },
  {
   "cell_type": "code",
   "execution_count": 5,
   "id": "9a977887",
   "metadata": {
    "execution": {
     "iopub.execute_input": "2022-06-13T10:52:06.639764Z",
     "iopub.status.busy": "2022-06-13T10:52:06.639356Z",
     "iopub.status.idle": "2022-06-13T10:52:14.457776Z",
     "shell.execute_reply": "2022-06-13T10:52:14.456728Z"
    },
    "papermill": {
     "duration": 7.825241,
     "end_time": "2022-06-13T10:52:14.460240",
     "exception": false,
     "start_time": "2022-06-13T10:52:06.634999",
     "status": "completed"
    },
    "tags": []
   },
   "outputs": [],
   "source": [
    "# 예측한다.\n",
    "\n",
    "pred = model.predict(testX)\n",
    "submit['winPlacePerc'] = pred"
   ]
  },
  {
   "cell_type": "code",
   "execution_count": 6,
   "id": "1b496a32",
   "metadata": {
    "execution": {
     "iopub.execute_input": "2022-06-13T10:52:14.468165Z",
     "iopub.status.busy": "2022-06-13T10:52:14.467746Z",
     "iopub.status.idle": "2022-06-13T10:52:14.541686Z",
     "shell.execute_reply": "2022-06-13T10:52:14.540478Z"
    },
    "papermill": {
     "duration": 0.080658,
     "end_time": "2022-06-13T10:52:14.544202",
     "exception": false,
     "start_time": "2022-06-13T10:52:14.463544",
     "status": "completed"
    },
    "tags": []
   },
   "outputs": [],
   "source": [
    "# csv 파일로 변환하여 제출한다.\n",
    "\n",
    "submit.to_csv('result2.csv', index=False)"
   ]
  }
 ],
 "metadata": {
  "kernelspec": {
   "display_name": "Python 3",
   "language": "python",
   "name": "python3"
  },
  "language_info": {
   "codemirror_mode": {
    "name": "ipython",
    "version": 3
   },
   "file_extension": ".py",
   "mimetype": "text/x-python",
   "name": "python",
   "nbconvert_exporter": "python",
   "pygments_lexer": "ipython3",
   "version": "3.7.12"
  },
  "papermill": {
   "default_parameters": {},
   "duration": 632.795032,
   "end_time": "2022-06-13T10:52:15.573123",
   "environment_variables": {},
   "exception": null,
   "input_path": "__notebook__.ipynb",
   "output_path": "__notebook__.ipynb",
   "parameters": {},
   "start_time": "2022-06-13T10:41:42.778091",
   "version": "2.3.4"
  }
 },
 "nbformat": 4,
 "nbformat_minor": 5
}
