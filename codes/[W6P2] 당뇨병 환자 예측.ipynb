{
 "cells": [
  {
   "cell_type": "code",
   "execution_count": 1,
   "id": "cea18d1d",
   "metadata": {
    "_cell_guid": "b1076dfc-b9ad-4769-8c92-a6c4dae69d19",
    "_uuid": "8f2839f25d086af736a60e9eeb907d3b93b6e0e5",
    "execution": {
     "iopub.execute_input": "2022-04-16T14:07:46.920714Z",
     "iopub.status.busy": "2022-04-16T14:07:46.919885Z",
     "iopub.status.idle": "2022-04-16T14:07:46.936068Z",
     "shell.execute_reply": "2022-04-16T14:07:46.935209Z"
    },
    "papermill": {
     "duration": 0.034009,
     "end_time": "2022-04-16T14:07:46.938840",
     "exception": false,
     "start_time": "2022-04-16T14:07:46.904831",
     "status": "completed"
    },
    "tags": []
   },
   "outputs": [
    {
     "name": "stdout",
     "output_type": "stream",
     "text": [
      "/kaggle/input/2022-ml-w6p2/submit.csv\n",
      "/kaggle/input/2022-ml-w6p2/train.csv\n",
      "/kaggle/input/2022-ml-w6p2/test.csv\n"
     ]
    }
   ],
   "source": [
    "# This Python 3 environment comes with many helpful analytics libraries installed\n",
    "# It is defined by the kaggle/python Docker image: https://github.com/kaggle/docker-python\n",
    "# For example, here's several helpful packages to load\n",
    "\n",
    "import numpy as np # linear algebra\n",
    "import pandas as pd # data processing, CSV file I/O (e.g. pd.read_csv)\n",
    "\n",
    "# Input data files are available in the read-only \"../input/\" directory\n",
    "# For example, running this (by clicking run or pressing Shift+Enter) will list all files under the input directory\n",
    "\n",
    "import os\n",
    "for dirname, _, filenames in os.walk('/kaggle/input'):\n",
    "    for filename in filenames:\n",
    "        print(os.path.join(dirname, filename))\n",
    "\n",
    "# You can write up to 20GB to the current directory (/kaggle/working/) that gets preserved as output when you create a version using \"Save & Run All\" \n",
    "# You can also write temporary files to /kaggle/temp/, but they won't be saved outside of the current session"
   ]
  },
  {
   "cell_type": "code",
   "execution_count": 2,
   "id": "755ad78c",
   "metadata": {
    "execution": {
     "iopub.execute_input": "2022-04-16T14:07:46.966738Z",
     "iopub.status.busy": "2022-04-16T14:07:46.966009Z",
     "iopub.status.idle": "2022-04-16T14:07:46.971156Z",
     "shell.execute_reply": "2022-04-16T14:07:46.970563Z"
    },
    "papermill": {
     "duration": 0.021047,
     "end_time": "2022-04-16T14:07:46.973088",
     "exception": false,
     "start_time": "2022-04-16T14:07:46.952041",
     "status": "completed"
    },
    "tags": []
   },
   "outputs": [],
   "source": [
    "import random\n",
    "import os\n",
    "seed = 42\n",
    "random.seed(seed)\n",
    "np.random.seed(seed)\n",
    "os.environ[\"PYTHONHASHSEED\"] = str(seed)"
   ]
  },
  {
   "cell_type": "code",
   "execution_count": 3,
   "id": "33ad24d2",
   "metadata": {
    "execution": {
     "iopub.execute_input": "2022-04-16T14:07:46.999898Z",
     "iopub.status.busy": "2022-04-16T14:07:46.999006Z",
     "iopub.status.idle": "2022-04-16T14:07:47.026194Z",
     "shell.execute_reply": "2022-04-16T14:07:47.025582Z"
    },
    "papermill": {
     "duration": 0.043034,
     "end_time": "2022-04-16T14:07:47.028447",
     "exception": false,
     "start_time": "2022-04-16T14:07:46.985413",
     "status": "completed"
    },
    "tags": []
   },
   "outputs": [],
   "source": [
    "submit = pd.read_csv('../input/2022-ml-w6p2/submit.csv')\n",
    "test = pd.read_csv('../input/2022-ml-w6p2/test.csv')\n",
    "train = pd.read_csv('../input/2022-ml-w6p2/train.csv')"
   ]
  },
  {
   "cell_type": "code",
   "execution_count": 4,
   "id": "a10d0d5a",
   "metadata": {
    "execution": {
     "iopub.execute_input": "2022-04-16T14:07:47.056190Z",
     "iopub.status.busy": "2022-04-16T14:07:47.055612Z",
     "iopub.status.idle": "2022-04-16T14:07:47.059829Z",
     "shell.execute_reply": "2022-04-16T14:07:47.059124Z"
    },
    "papermill": {
     "duration": 0.020304,
     "end_time": "2022-04-16T14:07:47.061772",
     "exception": false,
     "start_time": "2022-04-16T14:07:47.041468",
     "status": "completed"
    },
    "tags": []
   },
   "outputs": [],
   "source": [
    "# train.info()"
   ]
  },
  {
   "cell_type": "code",
   "execution_count": 5,
   "id": "44e9ab94",
   "metadata": {
    "execution": {
     "iopub.execute_input": "2022-04-16T14:07:47.088538Z",
     "iopub.status.busy": "2022-04-16T14:07:47.088221Z",
     "iopub.status.idle": "2022-04-16T14:07:47.103177Z",
     "shell.execute_reply": "2022-04-16T14:07:47.102441Z"
    },
    "papermill": {
     "duration": 0.031103,
     "end_time": "2022-04-16T14:07:47.105400",
     "exception": false,
     "start_time": "2022-04-16T14:07:47.074297",
     "status": "completed"
    },
    "tags": []
   },
   "outputs": [],
   "source": [
    "x_train = train.drop(['Diabetes', 'Pregnancies'], axis=1)\n",
    "y_train = train['Diabetes']\n",
    "x_test = test.drop(['Pregnancies'], axis=1)"
   ]
  },
  {
   "cell_type": "code",
   "execution_count": 6,
   "id": "f4f3d260",
   "metadata": {
    "execution": {
     "iopub.execute_input": "2022-04-16T14:07:47.132624Z",
     "iopub.status.busy": "2022-04-16T14:07:47.131957Z",
     "iopub.status.idle": "2022-04-16T14:07:47.139989Z",
     "shell.execute_reply": "2022-04-16T14:07:47.139214Z"
    },
    "papermill": {
     "duration": 0.023575,
     "end_time": "2022-04-16T14:07:47.141980",
     "exception": false,
     "start_time": "2022-04-16T14:07:47.118405",
     "status": "completed"
    },
    "tags": []
   },
   "outputs": [
    {
     "data": {
      "text/plain": [
       "(537, 7)"
      ]
     },
     "execution_count": 6,
     "metadata": {},
     "output_type": "execute_result"
    }
   ],
   "source": [
    "x_train.shape"
   ]
  },
  {
   "cell_type": "code",
   "execution_count": 7,
   "id": "bb8cc94b",
   "metadata": {
    "execution": {
     "iopub.execute_input": "2022-04-16T14:07:47.169274Z",
     "iopub.status.busy": "2022-04-16T14:07:47.168751Z",
     "iopub.status.idle": "2022-04-16T14:07:48.405626Z",
     "shell.execute_reply": "2022-04-16T14:07:48.404751Z"
    },
    "papermill": {
     "duration": 1.253192,
     "end_time": "2022-04-16T14:07:48.407762",
     "exception": false,
     "start_time": "2022-04-16T14:07:47.154570",
     "status": "completed"
    },
    "tags": []
   },
   "outputs": [
    {
     "data": {
      "text/plain": [
       "QuadraticDiscriminantAnalysis()"
      ]
     },
     "execution_count": 7,
     "metadata": {},
     "output_type": "execute_result"
    }
   ],
   "source": [
    "from sklearn.discriminant_analysis import QuadraticDiscriminantAnalysis\n",
    "qda = QuadraticDiscriminantAnalysis()\n",
    "qda.fit(x_train, y_train)"
   ]
  },
  {
   "cell_type": "code",
   "execution_count": 8,
   "id": "0055026e",
   "metadata": {
    "execution": {
     "iopub.execute_input": "2022-04-16T14:07:48.436138Z",
     "iopub.status.busy": "2022-04-16T14:07:48.435594Z",
     "iopub.status.idle": "2022-04-16T14:07:48.442106Z",
     "shell.execute_reply": "2022-04-16T14:07:48.441456Z"
    },
    "papermill": {
     "duration": 0.023226,
     "end_time": "2022-04-16T14:07:48.444260",
     "exception": false,
     "start_time": "2022-04-16T14:07:48.421034",
     "status": "completed"
    },
    "tags": []
   },
   "outputs": [],
   "source": [
    "test_predict = qda.predict(x_test)"
   ]
  },
  {
   "cell_type": "code",
   "execution_count": 9,
   "id": "d4a1607e",
   "metadata": {
    "execution": {
     "iopub.execute_input": "2022-04-16T14:07:48.474132Z",
     "iopub.status.busy": "2022-04-16T14:07:48.473830Z",
     "iopub.status.idle": "2022-04-16T14:07:48.478526Z",
     "shell.execute_reply": "2022-04-16T14:07:48.477647Z"
    },
    "papermill": {
     "duration": 0.021732,
     "end_time": "2022-04-16T14:07:48.480623",
     "exception": false,
     "start_time": "2022-04-16T14:07:48.458891",
     "status": "completed"
    },
    "tags": []
   },
   "outputs": [],
   "source": [
    "submit['Diabetes'] = test_predict"
   ]
  },
  {
   "cell_type": "code",
   "execution_count": 10,
   "id": "ac424a1f",
   "metadata": {
    "execution": {
     "iopub.execute_input": "2022-04-16T14:07:48.509429Z",
     "iopub.status.busy": "2022-04-16T14:07:48.509117Z",
     "iopub.status.idle": "2022-04-16T14:07:48.516833Z",
     "shell.execute_reply": "2022-04-16T14:07:48.516164Z"
    },
    "papermill": {
     "duration": 0.024747,
     "end_time": "2022-04-16T14:07:48.518814",
     "exception": false,
     "start_time": "2022-04-16T14:07:48.494067",
     "status": "completed"
    },
    "tags": []
   },
   "outputs": [],
   "source": [
    "submit.to_csv('result_w6p2', index=False)"
   ]
  },
  {
   "cell_type": "code",
   "execution_count": null,
   "id": "7637406c",
   "metadata": {
    "papermill": {
     "duration": 0.012865,
     "end_time": "2022-04-16T14:07:48.545045",
     "exception": false,
     "start_time": "2022-04-16T14:07:48.532180",
     "status": "completed"
    },
    "tags": []
   },
   "outputs": [],
   "source": []
  }
 ],
 "metadata": {
  "kernelspec": {
   "display_name": "Python 3",
   "language": "python",
   "name": "python3"
  },
  "language_info": {
   "codemirror_mode": {
    "name": "ipython",
    "version": 3
   },
   "file_extension": ".py",
   "mimetype": "text/x-python",
   "name": "python",
   "nbconvert_exporter": "python",
   "pygments_lexer": "ipython3",
   "version": "3.7.12"
  },
  "papermill": {
   "default_parameters": {},
   "duration": 12.055898,
   "end_time": "2022-04-16T14:07:49.278805",
   "environment_variables": {},
   "exception": null,
   "input_path": "__notebook__.ipynb",
   "output_path": "__notebook__.ipynb",
   "parameters": {},
   "start_time": "2022-04-16T14:07:37.222907",
   "version": "2.3.4"
  }
 },
 "nbformat": 4,
 "nbformat_minor": 5
}
