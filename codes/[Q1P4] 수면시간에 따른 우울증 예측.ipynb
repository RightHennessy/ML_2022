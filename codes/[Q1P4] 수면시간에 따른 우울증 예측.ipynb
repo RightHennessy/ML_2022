{
 "cells": [
  {
   "cell_type": "code",
   "execution_count": 1,
   "id": "c4a89590",
   "metadata": {
    "_cell_guid": "b1076dfc-b9ad-4769-8c92-a6c4dae69d19",
    "_uuid": "8f2839f25d086af736a60e9eeb907d3b93b6e0e5",
    "execution": {
     "iopub.execute_input": "2022-04-11T11:28:36.509481Z",
     "iopub.status.busy": "2022-04-11T11:28:36.508629Z",
     "iopub.status.idle": "2022-04-11T11:28:36.516986Z",
     "shell.execute_reply": "2022-04-11T11:28:36.515963Z",
     "shell.execute_reply.started": "2022-04-11T11:27:45.700555Z"
    },
    "papermill": {
     "duration": 0.027931,
     "end_time": "2022-04-11T11:28:36.517239",
     "exception": false,
     "start_time": "2022-04-11T11:28:36.489308",
     "status": "completed"
    },
    "tags": []
   },
   "outputs": [
    {
     "name": "stdout",
     "output_type": "stream",
     "text": [
      "/kaggle/input/2022-ml-quiz-p4/trainX.csv\n",
      "/kaggle/input/2022-ml-quiz-p4/testX.csv\n",
      "/kaggle/input/2022-ml-quiz-p4/trainY.csv\n",
      "/kaggle/input/2022-ml-quiz-p4/submit.csv\n"
     ]
    }
   ],
   "source": [
    "# This Python 3 environment comes with many helpful analytics libraries installed\n",
    "# It is defined by the kaggle/python Docker image: https://github.com/kaggle/docker-python\n",
    "# For example, here's several helpful packages to load\n",
    "\n",
    "import numpy as np # linear algebra\n",
    "import pandas as pd # data processing, CSV file I/O (e.g. pd.read_csv)\n",
    "\n",
    "# Input data files are available in the read-only \"../input/\" directory\n",
    "# For example, running this (by clicking run or pressing Shift+Enter) will list all files under the input directory\n",
    "\n",
    "import os\n",
    "for dirname, _, filenames in os.walk('/kaggle/input'):\n",
    "    for filename in filenames:\n",
    "        print(os.path.join(dirname, filename))\n",
    "\n",
    "# You can write up to 20GB to the current directory (/kaggle/working/) that gets preserved as output when you create a version using \"Save & Run All\" \n",
    "# You can also write temporary files to /kaggle/temp/, but they won't be saved outside of the current session"
   ]
  },
  {
   "cell_type": "code",
   "execution_count": 2,
   "id": "122e98a4",
   "metadata": {
    "execution": {
     "iopub.execute_input": "2022-04-11T11:28:36.540839Z",
     "iopub.status.busy": "2022-04-11T11:28:36.539891Z",
     "iopub.status.idle": "2022-04-11T11:28:36.544676Z",
     "shell.execute_reply": "2022-04-11T11:28:36.545140Z",
     "shell.execute_reply.started": "2022-04-11T11:27:48.230377Z"
    },
    "papermill": {
     "duration": 0.017851,
     "end_time": "2022-04-11T11:28:36.545331",
     "exception": false,
     "start_time": "2022-04-11T11:28:36.527480",
     "status": "completed"
    },
    "tags": []
   },
   "outputs": [],
   "source": [
    "import random\n",
    "import os\n",
    "seed = 42\n",
    "random.seed(seed)\n",
    "np.random.seed(seed)\n",
    "os.environ[\"PYTHONHASHSEED\"] = str(seed)"
   ]
  },
  {
   "cell_type": "code",
   "execution_count": 3,
   "id": "58a6eec3",
   "metadata": {
    "execution": {
     "iopub.execute_input": "2022-04-11T11:28:36.566273Z",
     "iopub.status.busy": "2022-04-11T11:28:36.565374Z",
     "iopub.status.idle": "2022-04-11T11:28:36.597507Z",
     "shell.execute_reply": "2022-04-11T11:28:36.598054Z",
     "shell.execute_reply.started": "2022-04-11T11:27:49.935722Z"
    },
    "papermill": {
     "duration": 0.044206,
     "end_time": "2022-04-11T11:28:36.598240",
     "exception": false,
     "start_time": "2022-04-11T11:28:36.554034",
     "status": "completed"
    },
    "tags": []
   },
   "outputs": [],
   "source": [
    "submit = pd.read_csv('../input/2022-ml-quiz-p4/submit.csv')\n",
    "testX = pd.read_csv('../input/2022-ml-quiz-p4/testX.csv')\n",
    "trainX = pd.read_csv('../input/2022-ml-quiz-p4/trainX.csv')\n",
    "trainY = pd.read_csv('../input/2022-ml-quiz-p4/trainY.csv')"
   ]
  },
  {
   "cell_type": "code",
   "execution_count": 4,
   "id": "72ee0f57",
   "metadata": {
    "execution": {
     "iopub.execute_input": "2022-04-11T11:28:36.622296Z",
     "iopub.status.busy": "2022-04-11T11:28:36.621631Z",
     "iopub.status.idle": "2022-04-11T11:28:37.893825Z",
     "shell.execute_reply": "2022-04-11T11:28:37.893178Z",
     "shell.execute_reply.started": "2022-04-11T11:28:05.759657Z"
    },
    "papermill": {
     "duration": 1.286763,
     "end_time": "2022-04-11T11:28:37.893982",
     "exception": false,
     "start_time": "2022-04-11T11:28:36.607219",
     "status": "completed"
    },
    "tags": []
   },
   "outputs": [],
   "source": [
    "from sklearn.linear_model import LogisticRegression\n",
    "logis = LogisticRegression(solver='newton-cg', class_weight='balanced')\n",
    "trainX_logis = logis.fit(trainX, trainY['label'])"
   ]
  },
  {
   "cell_type": "code",
   "execution_count": 5,
   "id": "81cfdcba",
   "metadata": {
    "execution": {
     "iopub.execute_input": "2022-04-11T11:28:37.919786Z",
     "iopub.status.busy": "2022-04-11T11:28:37.919110Z",
     "iopub.status.idle": "2022-04-11T11:28:37.922135Z",
     "shell.execute_reply": "2022-04-11T11:28:37.921640Z",
     "shell.execute_reply.started": "2022-04-11T11:28:07.901982Z"
    },
    "papermill": {
     "duration": 0.019396,
     "end_time": "2022-04-11T11:28:37.922280",
     "exception": false,
     "start_time": "2022-04-11T11:28:37.902884",
     "status": "completed"
    },
    "tags": []
   },
   "outputs": [],
   "source": [
    "testX_pred = logis.predict(testX)"
   ]
  },
  {
   "cell_type": "code",
   "execution_count": 6,
   "id": "425a7cb5",
   "metadata": {
    "execution": {
     "iopub.execute_input": "2022-04-11T11:28:37.946655Z",
     "iopub.status.busy": "2022-04-11T11:28:37.943579Z",
     "iopub.status.idle": "2022-04-11T11:28:37.950002Z",
     "shell.execute_reply": "2022-04-11T11:28:37.949319Z",
     "shell.execute_reply.started": "2022-04-11T11:28:08.154582Z"
    },
    "papermill": {
     "duration": 0.019013,
     "end_time": "2022-04-11T11:28:37.950147",
     "exception": false,
     "start_time": "2022-04-11T11:28:37.931134",
     "status": "completed"
    },
    "tags": []
   },
   "outputs": [],
   "source": [
    "submit['label'] = testX_pred"
   ]
  },
  {
   "cell_type": "code",
   "execution_count": 7,
   "id": "d79eb93d",
   "metadata": {
    "execution": {
     "iopub.execute_input": "2022-04-11T11:28:37.974330Z",
     "iopub.status.busy": "2022-04-11T11:28:37.973646Z",
     "iopub.status.idle": "2022-04-11T11:28:37.980770Z",
     "shell.execute_reply": "2022-04-11T11:28:37.980234Z",
     "shell.execute_reply.started": "2022-04-11T11:28:08.303963Z"
    },
    "papermill": {
     "duration": 0.021659,
     "end_time": "2022-04-11T11:28:37.980927",
     "exception": false,
     "start_time": "2022-04-11T11:28:37.959268",
     "status": "completed"
    },
    "tags": []
   },
   "outputs": [],
   "source": [
    "submit.to_csv('result_Q1P4', index=False)"
   ]
  },
  {
   "cell_type": "code",
   "execution_count": null,
   "id": "1ad4d6cc",
   "metadata": {
    "papermill": {
     "duration": 0.008365,
     "end_time": "2022-04-11T11:28:37.998192",
     "exception": false,
     "start_time": "2022-04-11T11:28:37.989827",
     "status": "completed"
    },
    "tags": []
   },
   "outputs": [],
   "source": []
  },
  {
   "cell_type": "code",
   "execution_count": null,
   "id": "49fdcf9d",
   "metadata": {
    "papermill": {
     "duration": 0.008455,
     "end_time": "2022-04-11T11:28:38.016021",
     "exception": false,
     "start_time": "2022-04-11T11:28:38.007566",
     "status": "completed"
    },
    "tags": []
   },
   "outputs": [],
   "source": []
  },
  {
   "cell_type": "code",
   "execution_count": null,
   "id": "a38f84c8",
   "metadata": {
    "papermill": {
     "duration": 0.008408,
     "end_time": "2022-04-11T11:28:38.033292",
     "exception": false,
     "start_time": "2022-04-11T11:28:38.024884",
     "status": "completed"
    },
    "tags": []
   },
   "outputs": [],
   "source": []
  }
 ],
 "metadata": {
  "kernelspec": {
   "display_name": "Python 3",
   "language": "python",
   "name": "python3"
  },
  "language_info": {
   "codemirror_mode": {
    "name": "ipython",
    "version": 3
   },
   "file_extension": ".py",
   "mimetype": "text/x-python",
   "name": "python",
   "nbconvert_exporter": "python",
   "pygments_lexer": "ipython3",
   "version": "3.7.12"
  },
  "papermill": {
   "default_parameters": {},
   "duration": 11.932215,
   "end_time": "2022-04-11T11:28:39.056467",
   "environment_variables": {},
   "exception": null,
   "input_path": "__notebook__.ipynb",
   "output_path": "__notebook__.ipynb",
   "parameters": {},
   "start_time": "2022-04-11T11:28:27.124252",
   "version": "2.3.3"
  }
 },
 "nbformat": 4,
 "nbformat_minor": 5
}
