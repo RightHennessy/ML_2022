{
 "cells": [
  {
   "cell_type": "code",
   "execution_count": 1,
   "id": "38345816",
   "metadata": {
    "_cell_guid": "b1076dfc-b9ad-4769-8c92-a6c4dae69d19",
    "_uuid": "8f2839f25d086af736a60e9eeb907d3b93b6e0e5",
    "execution": {
     "iopub.execute_input": "2022-04-03T11:21:14.846070Z",
     "iopub.status.busy": "2022-04-03T11:21:14.844256Z",
     "iopub.status.idle": "2022-04-03T11:21:17.146407Z",
     "shell.execute_reply": "2022-04-03T11:21:17.146919Z",
     "shell.execute_reply.started": "2022-04-03T10:17:30.505766Z"
    },
    "papermill": {
     "duration": 2.316713,
     "end_time": "2022-04-03T11:21:17.147209",
     "exception": false,
     "start_time": "2022-04-03T11:21:14.830496",
     "status": "completed"
    },
    "tags": []
   },
   "outputs": [
    {
     "name": "stdout",
     "output_type": "stream",
     "text": [
      "/kaggle/input/2022-ml-w4p2/sample.csv\n",
      "/kaggle/input/2022-ml-w4p2/train.csv\n",
      "/kaggle/input/2022-ml-w4p2/test.csv\n"
     ]
    }
   ],
   "source": [
    "# This Python 3 environment comes with many helpful analytics libraries installed\n",
    "# It is defined by the kaggle/python Docker image: https://github.com/kaggle/docker-python\n",
    "# For example, here's several helpful packages to load\n",
    "\n",
    "import numpy as np # linear algebra\n",
    "import pandas as pd # data processing, CSV file I/O (e.g. pd.read_csv)\n",
    "import pandas_profiling\n",
    "\n",
    "# Input data files are available in the read-only \"../input/\" directory\n",
    "# For example, running this (by clicking run or pressing Shift+Enter) will list all files under the input directory\n",
    "\n",
    "import os\n",
    "for dirname, _, filenames in os.walk('/kaggle/input'):\n",
    "    for filename in filenames:\n",
    "        print(os.path.join(dirname, filename))\n",
    "\n",
    "# You can write up to 20GB to the current directory (/kaggle/working/) that gets preserved as output when you create a version using \"Save & Run All\" \n",
    "# You can also write temporary files to /kaggle/temp/, but they won't be saved outside of the current session\n",
    "\n",
    "import sklearn"
   ]
  },
  {
   "cell_type": "code",
   "execution_count": 2,
   "id": "56bd2762",
   "metadata": {
    "execution": {
     "iopub.execute_input": "2022-04-03T11:21:17.170704Z",
     "iopub.status.busy": "2022-04-03T11:21:17.169814Z",
     "iopub.status.idle": "2022-04-03T11:21:17.172867Z",
     "shell.execute_reply": "2022-04-03T11:21:17.172268Z",
     "shell.execute_reply.started": "2022-04-03T10:17:30.534809Z"
    },
    "papermill": {
     "duration": 0.016478,
     "end_time": "2022-04-03T11:21:17.173055",
     "exception": false,
     "start_time": "2022-04-03T11:21:17.156577",
     "status": "completed"
    },
    "tags": []
   },
   "outputs": [],
   "source": [
    "import random\n",
    "import os\n",
    "seed = 42\n",
    "random.seed(seed)\n",
    "np.random.seed(seed)\n",
    "os.environ[\"PYTHONHASHSEED\"] = str(seed)"
   ]
  },
  {
   "cell_type": "code",
   "execution_count": 3,
   "id": "4cbfdb99",
   "metadata": {
    "execution": {
     "iopub.execute_input": "2022-04-03T11:21:17.194379Z",
     "iopub.status.busy": "2022-04-03T11:21:17.193485Z",
     "iopub.status.idle": "2022-04-03T11:21:17.305721Z",
     "shell.execute_reply": "2022-04-03T11:21:17.304563Z",
     "shell.execute_reply.started": "2022-04-03T10:17:30.542955Z"
    },
    "papermill": {
     "duration": 0.123865,
     "end_time": "2022-04-03T11:21:17.305891",
     "exception": false,
     "start_time": "2022-04-03T11:21:17.182026",
     "status": "completed"
    },
    "tags": []
   },
   "outputs": [],
   "source": [
    "sample = pd.read_csv('../input/2022-ml-w4p2/sample.csv')\n",
    "train = pd.read_csv('../input/2022-ml-w4p2/train.csv')\n",
    "test = pd.read_csv('../input/2022-ml-w4p2/test.csv')"
   ]
  },
  {
   "cell_type": "code",
   "execution_count": 4,
   "id": "7ff46be3",
   "metadata": {
    "execution": {
     "iopub.execute_input": "2022-04-03T11:21:17.330922Z",
     "iopub.status.busy": "2022-04-03T11:21:17.329673Z",
     "iopub.status.idle": "2022-04-03T11:21:17.377665Z",
     "shell.execute_reply": "2022-04-03T11:21:17.378158Z",
     "shell.execute_reply.started": "2022-04-03T10:17:30.625407Z"
    },
    "papermill": {
     "duration": 0.0635,
     "end_time": "2022-04-03T11:21:17.378326",
     "exception": false,
     "start_time": "2022-04-03T11:21:17.314826",
     "status": "completed"
    },
    "tags": []
   },
   "outputs": [],
   "source": [
    "from sklearn import preprocessing\n",
    "# 인코더 생성\n",
    "le = preprocessing.LabelEncoder()\n",
    "# train 데이터를 이용해 피팅, 라벨숫자로 변환\n",
    "train['model'] = le.fit_transform(train['model'])\n",
    "# 여기는 fit X, 하면 두번 학습하게 됨\n",
    "test['model'] = le.transform(test['model'])"
   ]
  },
  {
   "cell_type": "code",
   "execution_count": 5,
   "id": "9498d072",
   "metadata": {
    "execution": {
     "iopub.execute_input": "2022-04-03T11:21:17.404134Z",
     "iopub.status.busy": "2022-04-03T11:21:17.402936Z",
     "iopub.status.idle": "2022-04-03T11:21:17.414138Z",
     "shell.execute_reply": "2022-04-03T11:21:17.413597Z",
     "shell.execute_reply.started": "2022-04-03T10:17:30.649997Z"
    },
    "papermill": {
     "duration": 0.027025,
     "end_time": "2022-04-03T11:21:17.414279",
     "exception": false,
     "start_time": "2022-04-03T11:21:17.387254",
     "status": "completed"
    },
    "tags": []
   },
   "outputs": [],
   "source": [
    "x_train = train.drop(['ID', 'price'],axis=1)\n",
    "x_test = test.drop(['ID'], axis=1)\n",
    "y_train = train['price']"
   ]
  },
  {
   "cell_type": "code",
   "execution_count": 6,
   "id": "8ea2a5f4",
   "metadata": {
    "execution": {
     "iopub.execute_input": "2022-04-03T11:21:17.435661Z",
     "iopub.status.busy": "2022-04-03T11:21:17.434728Z",
     "iopub.status.idle": "2022-04-03T11:21:17.450168Z",
     "shell.execute_reply": "2022-04-03T11:21:17.450660Z",
     "shell.execute_reply.started": "2022-04-03T10:17:30.663830Z"
    },
    "papermill": {
     "duration": 0.027506,
     "end_time": "2022-04-03T11:21:17.450823",
     "exception": false,
     "start_time": "2022-04-03T11:21:17.423317",
     "status": "completed"
    },
    "tags": []
   },
   "outputs": [],
   "source": [
    "from sklearn.preprocessing import StandardScaler\n",
    "scaler = StandardScaler()\n",
    "\n",
    "x_train_sc = scaler.fit_transform(x_train)\n",
    "x_test_sc = scaler.transform(x_test)"
   ]
  },
  {
   "cell_type": "code",
   "execution_count": 7,
   "id": "98072e4b",
   "metadata": {
    "execution": {
     "iopub.execute_input": "2022-04-03T11:21:17.473482Z",
     "iopub.status.busy": "2022-04-03T11:21:17.472839Z",
     "iopub.status.idle": "2022-04-03T11:21:18.373593Z",
     "shell.execute_reply": "2022-04-03T11:21:18.374096Z",
     "shell.execute_reply.started": "2022-04-03T10:17:44.817567Z"
    },
    "papermill": {
     "duration": 0.914782,
     "end_time": "2022-04-03T11:21:18.374263",
     "exception": false,
     "start_time": "2022-04-03T11:21:17.459481",
     "status": "completed"
    },
    "tags": []
   },
   "outputs": [],
   "source": [
    "from sklearn.neighbors import KNeighborsRegressor\n",
    "knn = KNeighborsRegressor(n_neighbors=7, p=1, weights='distance')\n",
    "knn.fit(x_train_sc, y_train)\n",
    "\n",
    "x_test_sc_predict = knn.predict(x_test_sc)"
   ]
  },
  {
   "cell_type": "code",
   "execution_count": 8,
   "id": "18a731f8",
   "metadata": {
    "execution": {
     "iopub.execute_input": "2022-04-03T11:21:18.395088Z",
     "iopub.status.busy": "2022-04-03T11:21:18.394486Z",
     "iopub.status.idle": "2022-04-03T11:21:18.398416Z",
     "shell.execute_reply": "2022-04-03T11:21:18.398800Z",
     "shell.execute_reply.started": "2022-04-03T10:17:31.204805Z"
    },
    "papermill": {
     "duration": 0.015866,
     "end_time": "2022-04-03T11:21:18.398991",
     "exception": false,
     "start_time": "2022-04-03T11:21:18.383125",
     "status": "completed"
    },
    "tags": []
   },
   "outputs": [],
   "source": [
    "sample['price'] = x_test_sc_predict"
   ]
  },
  {
   "cell_type": "code",
   "execution_count": 9,
   "id": "18fcd7ed",
   "metadata": {
    "execution": {
     "iopub.execute_input": "2022-04-03T11:21:18.419693Z",
     "iopub.status.busy": "2022-04-03T11:21:18.419124Z",
     "iopub.status.idle": "2022-04-03T11:21:18.461467Z",
     "shell.execute_reply": "2022-04-03T11:21:18.462010Z",
     "shell.execute_reply.started": "2022-04-03T10:17:31.212554Z"
    },
    "papermill": {
     "duration": 0.054467,
     "end_time": "2022-04-03T11:21:18.462189",
     "exception": false,
     "start_time": "2022-04-03T11:21:18.407722",
     "status": "completed"
    },
    "tags": []
   },
   "outputs": [],
   "source": [
    "sample.to_csv('result_assignment2', index=False)"
   ]
  },
  {
   "cell_type": "code",
   "execution_count": null,
   "id": "5000d930",
   "metadata": {
    "papermill": {
     "duration": 0.008551,
     "end_time": "2022-04-03T11:21:18.479662",
     "exception": false,
     "start_time": "2022-04-03T11:21:18.471111",
     "status": "completed"
    },
    "tags": []
   },
   "outputs": [],
   "source": []
  }
 ],
 "metadata": {
  "kernelspec": {
   "display_name": "Python 3",
   "language": "python",
   "name": "python3"
  },
  "language_info": {
   "codemirror_mode": {
    "name": "ipython",
    "version": 3
   },
   "file_extension": ".py",
   "mimetype": "text/x-python",
   "name": "python",
   "nbconvert_exporter": "python",
   "pygments_lexer": "ipython3",
   "version": "3.7.12"
  },
  "papermill": {
   "default_parameters": {},
   "duration": 12.99361,
   "end_time": "2022-04-03T11:21:19.399423",
   "environment_variables": {},
   "exception": null,
   "input_path": "__notebook__.ipynb",
   "output_path": "__notebook__.ipynb",
   "parameters": {},
   "start_time": "2022-04-03T11:21:06.405813",
   "version": "2.3.3"
  }
 },
 "nbformat": 4,
 "nbformat_minor": 5
}
