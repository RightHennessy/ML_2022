{
 "cells": [
  {
   "cell_type": "code",
   "execution_count": 1,
   "id": "81bc352f",
   "metadata": {
    "_cell_guid": "b1076dfc-b9ad-4769-8c92-a6c4dae69d19",
    "_uuid": "8f2839f25d086af736a60e9eeb907d3b93b6e0e5",
    "execution": {
     "iopub.execute_input": "2022-04-16T14:06:26.873986Z",
     "iopub.status.busy": "2022-04-16T14:06:26.873657Z",
     "iopub.status.idle": "2022-04-16T14:06:26.887957Z",
     "shell.execute_reply": "2022-04-16T14:06:26.886719Z"
    },
    "papermill": {
     "duration": 0.034834,
     "end_time": "2022-04-16T14:06:26.890558",
     "exception": false,
     "start_time": "2022-04-16T14:06:26.855724",
     "status": "completed"
    },
    "tags": []
   },
   "outputs": [
    {
     "name": "stdout",
     "output_type": "stream",
     "text": [
      "/kaggle/input/2022-ml-w6p1/submit.csv\n",
      "/kaggle/input/2022-ml-w6p1/train.csv\n",
      "/kaggle/input/2022-ml-w6p1/test.csv\n",
      "/kaggle/input/2022-ml-w6p1/train_label.csv\n"
     ]
    }
   ],
   "source": [
    "# This Python 3 environment comes with many helpful analytics libraries installed\n",
    "# It is defined by the kaggle/python Docker image: https://github.com/kaggle/docker-python\n",
    "# For example, here's several helpful packages to load\n",
    "\n",
    "import numpy as np # linear algebra\n",
    "import pandas as pd # data processing, CSV file I/O (e.g. pd.read_csv)\n",
    "\n",
    "# Input data files are available in the read-only \"../input/\" directory\n",
    "# For example, running this (by clicking run or pressing Shift+Enter) will list all files under the input directory\n",
    "\n",
    "import os\n",
    "for dirname, _, filenames in os.walk('/kaggle/input'):\n",
    "    for filename in filenames:\n",
    "        print(os.path.join(dirname, filename))\n",
    "\n",
    "# You can write up to 20GB to the current directory (/kaggle/working/) that gets preserved as output when you create a version using \"Save & Run All\" \n",
    "# You can also write temporary files to /kaggle/temp/, but they won't be saved outside of the current session"
   ]
  },
  {
   "cell_type": "code",
   "execution_count": 2,
   "id": "e3fc299d",
   "metadata": {
    "execution": {
     "iopub.execute_input": "2022-04-16T14:06:26.924491Z",
     "iopub.status.busy": "2022-04-16T14:06:26.924189Z",
     "iopub.status.idle": "2022-04-16T14:06:26.929032Z",
     "shell.execute_reply": "2022-04-16T14:06:26.928151Z"
    },
    "papermill": {
     "duration": 0.024145,
     "end_time": "2022-04-16T14:06:26.930993",
     "exception": false,
     "start_time": "2022-04-16T14:06:26.906848",
     "status": "completed"
    },
    "tags": []
   },
   "outputs": [],
   "source": [
    "import random\n",
    "import os\n",
    "seed = 42\n",
    "random.seed(seed)\n",
    "np.random.seed(seed)\n",
    "os.environ[\"PYTHONHASHSEED\"] = str(seed)"
   ]
  },
  {
   "cell_type": "code",
   "execution_count": 3,
   "id": "8ef23ef6",
   "metadata": {
    "execution": {
     "iopub.execute_input": "2022-04-16T14:06:26.963386Z",
     "iopub.status.busy": "2022-04-16T14:06:26.963083Z",
     "iopub.status.idle": "2022-04-16T14:06:31.892539Z",
     "shell.execute_reply": "2022-04-16T14:06:31.891675Z"
    },
    "papermill": {
     "duration": 4.948449,
     "end_time": "2022-04-16T14:06:31.894911",
     "exception": false,
     "start_time": "2022-04-16T14:06:26.946462",
     "status": "completed"
    },
    "tags": []
   },
   "outputs": [],
   "source": [
    "submit = pd.read_csv('../input/2022-ml-w6p1/submit.csv')\n",
    "test = pd.read_csv('../input/2022-ml-w6p1/test.csv')\n",
    "train = pd.read_csv('../input/2022-ml-w6p1/train.csv')\n",
    "train_label = pd.read_csv('../input/2022-ml-w6p1/train_label.csv')"
   ]
  },
  {
   "cell_type": "code",
   "execution_count": 4,
   "id": "5314e4fb",
   "metadata": {
    "execution": {
     "iopub.execute_input": "2022-04-16T14:06:31.930142Z",
     "iopub.status.busy": "2022-04-16T14:06:31.929857Z",
     "iopub.status.idle": "2022-04-16T14:06:31.941737Z",
     "shell.execute_reply": "2022-04-16T14:06:31.940764Z"
    },
    "papermill": {
     "duration": 0.032755,
     "end_time": "2022-04-16T14:06:31.943841",
     "exception": false,
     "start_time": "2022-04-16T14:06:31.911086",
     "status": "completed"
    },
    "tags": []
   },
   "outputs": [],
   "source": [
    "train['label'] = train_label['label']"
   ]
  },
  {
   "cell_type": "code",
   "execution_count": 5,
   "id": "81b8c583",
   "metadata": {
    "execution": {
     "iopub.execute_input": "2022-04-16T14:06:31.976667Z",
     "iopub.status.busy": "2022-04-16T14:06:31.976368Z",
     "iopub.status.idle": "2022-04-16T14:06:31.984099Z",
     "shell.execute_reply": "2022-04-16T14:06:31.983359Z"
    },
    "papermill": {
     "duration": 0.027425,
     "end_time": "2022-04-16T14:06:31.987082",
     "exception": false,
     "start_time": "2022-04-16T14:06:31.959657",
     "status": "completed"
    },
    "tags": []
   },
   "outputs": [
    {
     "data": {
      "text/plain": [
       "(27671, 257)"
      ]
     },
     "execution_count": 5,
     "metadata": {},
     "output_type": "execute_result"
    }
   ],
   "source": [
    "train.shape"
   ]
  },
  {
   "cell_type": "code",
   "execution_count": 6,
   "id": "fee60b33",
   "metadata": {
    "execution": {
     "iopub.execute_input": "2022-04-16T14:06:32.022593Z",
     "iopub.status.busy": "2022-04-16T14:06:32.022278Z",
     "iopub.status.idle": "2022-04-16T14:06:32.061060Z",
     "shell.execute_reply": "2022-04-16T14:06:32.060107Z"
    },
    "papermill": {
     "duration": 0.059962,
     "end_time": "2022-04-16T14:06:32.063676",
     "exception": false,
     "start_time": "2022-04-16T14:06:32.003714",
     "status": "completed"
    },
    "tags": []
   },
   "outputs": [],
   "source": [
    "train = train.drop(train[(train.iloc[:,2]>220) | (train.iloc[:,3] > 600)].index)"
   ]
  },
  {
   "cell_type": "code",
   "execution_count": 7,
   "id": "d761f663",
   "metadata": {
    "execution": {
     "iopub.execute_input": "2022-04-16T14:06:32.097544Z",
     "iopub.status.busy": "2022-04-16T14:06:32.097224Z",
     "iopub.status.idle": "2022-04-16T14:06:32.136135Z",
     "shell.execute_reply": "2022-04-16T14:06:32.135245Z"
    },
    "papermill": {
     "duration": 0.058158,
     "end_time": "2022-04-16T14:06:32.138415",
     "exception": false,
     "start_time": "2022-04-16T14:06:32.080257",
     "status": "completed"
    },
    "tags": []
   },
   "outputs": [
    {
     "data": {
      "text/html": [
       "<div>\n",
       "<style scoped>\n",
       "    .dataframe tbody tr th:only-of-type {\n",
       "        vertical-align: middle;\n",
       "    }\n",
       "\n",
       "    .dataframe tbody tr th {\n",
       "        vertical-align: top;\n",
       "    }\n",
       "\n",
       "    .dataframe thead th {\n",
       "        text-align: right;\n",
       "    }\n",
       "</style>\n",
       "<table border=\"1\" class=\"dataframe\">\n",
       "  <thead>\n",
       "    <tr style=\"text-align: right;\">\n",
       "      <th></th>\n",
       "      <th>0</th>\n",
       "      <th>1</th>\n",
       "      <th>2</th>\n",
       "      <th>3</th>\n",
       "      <th>4</th>\n",
       "      <th>5</th>\n",
       "      <th>6</th>\n",
       "      <th>7</th>\n",
       "      <th>8</th>\n",
       "      <th>9</th>\n",
       "      <th>...</th>\n",
       "      <th>247</th>\n",
       "      <th>248</th>\n",
       "      <th>249</th>\n",
       "      <th>250</th>\n",
       "      <th>251</th>\n",
       "      <th>252</th>\n",
       "      <th>253</th>\n",
       "      <th>254</th>\n",
       "      <th>255</th>\n",
       "      <th>label</th>\n",
       "    </tr>\n",
       "  </thead>\n",
       "  <tbody>\n",
       "    <tr>\n",
       "      <th>0</th>\n",
       "      <td>-6.227718</td>\n",
       "      <td>-2.070960</td>\n",
       "      <td>0.674094</td>\n",
       "      <td>-0.742135</td>\n",
       "      <td>0.309149</td>\n",
       "      <td>-4.006772</td>\n",
       "      <td>-0.664624</td>\n",
       "      <td>0.533987</td>\n",
       "      <td>0.024594</td>\n",
       "      <td>-0.195856</td>\n",
       "      <td>...</td>\n",
       "      <td>-0.605770</td>\n",
       "      <td>0.491399</td>\n",
       "      <td>-0.166693</td>\n",
       "      <td>1.289197</td>\n",
       "      <td>-0.403863</td>\n",
       "      <td>0.238731</td>\n",
       "      <td>2.166737</td>\n",
       "      <td>-0.106487</td>\n",
       "      <td>1.486114</td>\n",
       "      <td>136</td>\n",
       "    </tr>\n",
       "    <tr>\n",
       "      <th>1</th>\n",
       "      <td>-6.081077</td>\n",
       "      <td>-1.960213</td>\n",
       "      <td>0.846482</td>\n",
       "      <td>-0.932816</td>\n",
       "      <td>-0.050208</td>\n",
       "      <td>-4.082826</td>\n",
       "      <td>-0.449032</td>\n",
       "      <td>0.647842</td>\n",
       "      <td>0.417809</td>\n",
       "      <td>0.073842</td>\n",
       "      <td>...</td>\n",
       "      <td>-1.175968</td>\n",
       "      <td>0.299093</td>\n",
       "      <td>-1.187048</td>\n",
       "      <td>-0.499101</td>\n",
       "      <td>0.738016</td>\n",
       "      <td>0.632842</td>\n",
       "      <td>0.850430</td>\n",
       "      <td>-2.211427</td>\n",
       "      <td>1.083040</td>\n",
       "      <td>90</td>\n",
       "    </tr>\n",
       "    <tr>\n",
       "      <th>2</th>\n",
       "      <td>-6.394956</td>\n",
       "      <td>-2.954897</td>\n",
       "      <td>1.600033</td>\n",
       "      <td>-0.479463</td>\n",
       "      <td>-1.217065</td>\n",
       "      <td>-3.986472</td>\n",
       "      <td>-0.812934</td>\n",
       "      <td>0.472509</td>\n",
       "      <td>1.536917</td>\n",
       "      <td>1.989765</td>\n",
       "      <td>...</td>\n",
       "      <td>0.713673</td>\n",
       "      <td>0.330699</td>\n",
       "      <td>0.036953</td>\n",
       "      <td>-0.204944</td>\n",
       "      <td>0.930597</td>\n",
       "      <td>-0.693151</td>\n",
       "      <td>-0.572443</td>\n",
       "      <td>0.835598</td>\n",
       "      <td>-0.751483</td>\n",
       "      <td>112</td>\n",
       "    </tr>\n",
       "    <tr>\n",
       "      <th>3</th>\n",
       "      <td>-6.681355</td>\n",
       "      <td>-2.055031</td>\n",
       "      <td>1.144864</td>\n",
       "      <td>-0.517872</td>\n",
       "      <td>-0.168057</td>\n",
       "      <td>-3.929032</td>\n",
       "      <td>-0.718259</td>\n",
       "      <td>0.555827</td>\n",
       "      <td>0.096472</td>\n",
       "      <td>0.724261</td>\n",
       "      <td>...</td>\n",
       "      <td>1.571784</td>\n",
       "      <td>-1.266089</td>\n",
       "      <td>1.584173</td>\n",
       "      <td>-0.290301</td>\n",
       "      <td>0.068907</td>\n",
       "      <td>-1.148258</td>\n",
       "      <td>1.904273</td>\n",
       "      <td>0.322937</td>\n",
       "      <td>-0.318100</td>\n",
       "      <td>165</td>\n",
       "    </tr>\n",
       "    <tr>\n",
       "      <th>4</th>\n",
       "      <td>-5.716713</td>\n",
       "      <td>-2.163729</td>\n",
       "      <td>0.877930</td>\n",
       "      <td>-0.605268</td>\n",
       "      <td>0.082372</td>\n",
       "      <td>-4.261466</td>\n",
       "      <td>-0.679734</td>\n",
       "      <td>0.739369</td>\n",
       "      <td>0.490033</td>\n",
       "      <td>0.546437</td>\n",
       "      <td>...</td>\n",
       "      <td>-0.435030</td>\n",
       "      <td>2.112485</td>\n",
       "      <td>1.101894</td>\n",
       "      <td>1.746205</td>\n",
       "      <td>-0.445612</td>\n",
       "      <td>-1.518138</td>\n",
       "      <td>0.299177</td>\n",
       "      <td>-0.020655</td>\n",
       "      <td>0.234824</td>\n",
       "      <td>73</td>\n",
       "    </tr>\n",
       "    <tr>\n",
       "      <th>...</th>\n",
       "      <td>...</td>\n",
       "      <td>...</td>\n",
       "      <td>...</td>\n",
       "      <td>...</td>\n",
       "      <td>...</td>\n",
       "      <td>...</td>\n",
       "      <td>...</td>\n",
       "      <td>...</td>\n",
       "      <td>...</td>\n",
       "      <td>...</td>\n",
       "      <td>...</td>\n",
       "      <td>...</td>\n",
       "      <td>...</td>\n",
       "      <td>...</td>\n",
       "      <td>...</td>\n",
       "      <td>...</td>\n",
       "      <td>...</td>\n",
       "      <td>...</td>\n",
       "      <td>...</td>\n",
       "      <td>...</td>\n",
       "      <td>...</td>\n",
       "    </tr>\n",
       "    <tr>\n",
       "      <th>27666</th>\n",
       "      <td>-6.047007</td>\n",
       "      <td>-2.072704</td>\n",
       "      <td>0.668214</td>\n",
       "      <td>-0.254932</td>\n",
       "      <td>0.099894</td>\n",
       "      <td>-1.477478</td>\n",
       "      <td>-0.703836</td>\n",
       "      <td>-0.327026</td>\n",
       "      <td>0.504125</td>\n",
       "      <td>0.222820</td>\n",
       "      <td>...</td>\n",
       "      <td>-0.050902</td>\n",
       "      <td>-1.240334</td>\n",
       "      <td>-0.750522</td>\n",
       "      <td>-1.168852</td>\n",
       "      <td>0.048051</td>\n",
       "      <td>0.432534</td>\n",
       "      <td>-0.003478</td>\n",
       "      <td>-0.609472</td>\n",
       "      <td>-0.348196</td>\n",
       "      <td>9</td>\n",
       "    </tr>\n",
       "    <tr>\n",
       "      <th>27667</th>\n",
       "      <td>-6.569392</td>\n",
       "      <td>-1.932956</td>\n",
       "      <td>0.602381</td>\n",
       "      <td>0.253941</td>\n",
       "      <td>-0.341952</td>\n",
       "      <td>4.064471</td>\n",
       "      <td>-1.502157</td>\n",
       "      <td>-2.467482</td>\n",
       "      <td>0.281797</td>\n",
       "      <td>0.812378</td>\n",
       "      <td>...</td>\n",
       "      <td>1.197452</td>\n",
       "      <td>-0.700384</td>\n",
       "      <td>-3.483315</td>\n",
       "      <td>-0.371596</td>\n",
       "      <td>0.478422</td>\n",
       "      <td>-1.537939</td>\n",
       "      <td>2.030344</td>\n",
       "      <td>-1.080110</td>\n",
       "      <td>-0.409972</td>\n",
       "      <td>132</td>\n",
       "    </tr>\n",
       "    <tr>\n",
       "      <th>27668</th>\n",
       "      <td>-6.232087</td>\n",
       "      <td>-1.834862</td>\n",
       "      <td>2.097659</td>\n",
       "      <td>-0.566552</td>\n",
       "      <td>-0.288520</td>\n",
       "      <td>-4.034954</td>\n",
       "      <td>0.457435</td>\n",
       "      <td>0.315611</td>\n",
       "      <td>0.981373</td>\n",
       "      <td>0.483152</td>\n",
       "      <td>...</td>\n",
       "      <td>-1.293272</td>\n",
       "      <td>0.067110</td>\n",
       "      <td>0.357502</td>\n",
       "      <td>-0.155424</td>\n",
       "      <td>-0.658622</td>\n",
       "      <td>2.016063</td>\n",
       "      <td>-0.359339</td>\n",
       "      <td>0.993638</td>\n",
       "      <td>0.130081</td>\n",
       "      <td>18</td>\n",
       "    </tr>\n",
       "    <tr>\n",
       "      <th>27669</th>\n",
       "      <td>-6.387326</td>\n",
       "      <td>-0.387639</td>\n",
       "      <td>-1.090173</td>\n",
       "      <td>1.499431</td>\n",
       "      <td>0.629389</td>\n",
       "      <td>31.163396</td>\n",
       "      <td>-3.186039</td>\n",
       "      <td>-12.114586</td>\n",
       "      <td>-0.543894</td>\n",
       "      <td>-1.469931</td>\n",
       "      <td>...</td>\n",
       "      <td>0.584897</td>\n",
       "      <td>-1.355164</td>\n",
       "      <td>-1.358166</td>\n",
       "      <td>1.344522</td>\n",
       "      <td>-0.526878</td>\n",
       "      <td>-0.230260</td>\n",
       "      <td>-0.459776</td>\n",
       "      <td>2.507944</td>\n",
       "      <td>-1.379322</td>\n",
       "      <td>41</td>\n",
       "    </tr>\n",
       "    <tr>\n",
       "      <th>27670</th>\n",
       "      <td>-6.317132</td>\n",
       "      <td>-2.159943</td>\n",
       "      <td>1.085279</td>\n",
       "      <td>-0.551308</td>\n",
       "      <td>-0.256207</td>\n",
       "      <td>-4.151564</td>\n",
       "      <td>-0.860211</td>\n",
       "      <td>0.470046</td>\n",
       "      <td>0.246312</td>\n",
       "      <td>0.981830</td>\n",
       "      <td>...</td>\n",
       "      <td>0.152567</td>\n",
       "      <td>0.655538</td>\n",
       "      <td>0.094223</td>\n",
       "      <td>-0.643895</td>\n",
       "      <td>-0.257323</td>\n",
       "      <td>0.054573</td>\n",
       "      <td>-0.807560</td>\n",
       "      <td>0.247731</td>\n",
       "      <td>2.318635</td>\n",
       "      <td>114</td>\n",
       "    </tr>\n",
       "  </tbody>\n",
       "</table>\n",
       "<p>27667 rows × 257 columns</p>\n",
       "</div>"
      ],
      "text/plain": [
       "              0         1         2         3         4          5         6  \\\n",
       "0     -6.227718 -2.070960  0.674094 -0.742135  0.309149  -4.006772 -0.664624   \n",
       "1     -6.081077 -1.960213  0.846482 -0.932816 -0.050208  -4.082826 -0.449032   \n",
       "2     -6.394956 -2.954897  1.600033 -0.479463 -1.217065  -3.986472 -0.812934   \n",
       "3     -6.681355 -2.055031  1.144864 -0.517872 -0.168057  -3.929032 -0.718259   \n",
       "4     -5.716713 -2.163729  0.877930 -0.605268  0.082372  -4.261466 -0.679734   \n",
       "...         ...       ...       ...       ...       ...        ...       ...   \n",
       "27666 -6.047007 -2.072704  0.668214 -0.254932  0.099894  -1.477478 -0.703836   \n",
       "27667 -6.569392 -1.932956  0.602381  0.253941 -0.341952   4.064471 -1.502157   \n",
       "27668 -6.232087 -1.834862  2.097659 -0.566552 -0.288520  -4.034954  0.457435   \n",
       "27669 -6.387326 -0.387639 -1.090173  1.499431  0.629389  31.163396 -3.186039   \n",
       "27670 -6.317132 -2.159943  1.085279 -0.551308 -0.256207  -4.151564 -0.860211   \n",
       "\n",
       "               7         8         9  ...       247       248       249  \\\n",
       "0       0.533987  0.024594 -0.195856  ... -0.605770  0.491399 -0.166693   \n",
       "1       0.647842  0.417809  0.073842  ... -1.175968  0.299093 -1.187048   \n",
       "2       0.472509  1.536917  1.989765  ...  0.713673  0.330699  0.036953   \n",
       "3       0.555827  0.096472  0.724261  ...  1.571784 -1.266089  1.584173   \n",
       "4       0.739369  0.490033  0.546437  ... -0.435030  2.112485  1.101894   \n",
       "...          ...       ...       ...  ...       ...       ...       ...   \n",
       "27666  -0.327026  0.504125  0.222820  ... -0.050902 -1.240334 -0.750522   \n",
       "27667  -2.467482  0.281797  0.812378  ...  1.197452 -0.700384 -3.483315   \n",
       "27668   0.315611  0.981373  0.483152  ... -1.293272  0.067110  0.357502   \n",
       "27669 -12.114586 -0.543894 -1.469931  ...  0.584897 -1.355164 -1.358166   \n",
       "27670   0.470046  0.246312  0.981830  ...  0.152567  0.655538  0.094223   \n",
       "\n",
       "            250       251       252       253       254       255  label  \n",
       "0      1.289197 -0.403863  0.238731  2.166737 -0.106487  1.486114    136  \n",
       "1     -0.499101  0.738016  0.632842  0.850430 -2.211427  1.083040     90  \n",
       "2     -0.204944  0.930597 -0.693151 -0.572443  0.835598 -0.751483    112  \n",
       "3     -0.290301  0.068907 -1.148258  1.904273  0.322937 -0.318100    165  \n",
       "4      1.746205 -0.445612 -1.518138  0.299177 -0.020655  0.234824     73  \n",
       "...         ...       ...       ...       ...       ...       ...    ...  \n",
       "27666 -1.168852  0.048051  0.432534 -0.003478 -0.609472 -0.348196      9  \n",
       "27667 -0.371596  0.478422 -1.537939  2.030344 -1.080110 -0.409972    132  \n",
       "27668 -0.155424 -0.658622  2.016063 -0.359339  0.993638  0.130081     18  \n",
       "27669  1.344522 -0.526878 -0.230260 -0.459776  2.507944 -1.379322     41  \n",
       "27670 -0.643895 -0.257323  0.054573 -0.807560  0.247731  2.318635    114  \n",
       "\n",
       "[27667 rows x 257 columns]"
      ]
     },
     "execution_count": 7,
     "metadata": {},
     "output_type": "execute_result"
    }
   ],
   "source": [
    "pd.DataFrame(train)"
   ]
  },
  {
   "cell_type": "code",
   "execution_count": 8,
   "id": "f2f28031",
   "metadata": {
    "execution": {
     "iopub.execute_input": "2022-04-16T14:06:32.173431Z",
     "iopub.status.busy": "2022-04-16T14:06:32.172781Z",
     "iopub.status.idle": "2022-04-16T14:06:32.198082Z",
     "shell.execute_reply": "2022-04-16T14:06:32.197144Z"
    },
    "papermill": {
     "duration": 0.045202,
     "end_time": "2022-04-16T14:06:32.200270",
     "exception": false,
     "start_time": "2022-04-16T14:06:32.155068",
     "status": "completed"
    },
    "tags": []
   },
   "outputs": [],
   "source": [
    "x_train = train.drop(['label'], axis=1)\n",
    "y_train = train['label']"
   ]
  },
  {
   "cell_type": "code",
   "execution_count": 9,
   "id": "8adc0a25",
   "metadata": {
    "execution": {
     "iopub.execute_input": "2022-04-16T14:06:32.235888Z",
     "iopub.status.busy": "2022-04-16T14:06:32.235594Z",
     "iopub.status.idle": "2022-04-16T14:06:35.008259Z",
     "shell.execute_reply": "2022-04-16T14:06:35.007224Z"
    },
    "papermill": {
     "duration": 2.794307,
     "end_time": "2022-04-16T14:06:35.011128",
     "exception": false,
     "start_time": "2022-04-16T14:06:32.216821",
     "status": "completed"
    },
    "tags": []
   },
   "outputs": [
    {
     "data": {
      "text/plain": [
       "LinearDiscriminantAnalysis()"
      ]
     },
     "execution_count": 9,
     "metadata": {},
     "output_type": "execute_result"
    }
   ],
   "source": [
    "from sklearn.discriminant_analysis import LinearDiscriminantAnalysis\n",
    "lda = LinearDiscriminantAnalysis()\n",
    "lda.fit(x_train, y_train)"
   ]
  },
  {
   "cell_type": "code",
   "execution_count": 10,
   "id": "58b46542",
   "metadata": {
    "execution": {
     "iopub.execute_input": "2022-04-16T14:06:35.120054Z",
     "iopub.status.busy": "2022-04-16T14:06:35.119762Z",
     "iopub.status.idle": "2022-04-16T14:06:35.190746Z",
     "shell.execute_reply": "2022-04-16T14:06:35.189758Z"
    },
    "papermill": {
     "duration": 0.122193,
     "end_time": "2022-04-16T14:06:35.194156",
     "exception": false,
     "start_time": "2022-04-16T14:06:35.071963",
     "status": "completed"
    },
    "tags": []
   },
   "outputs": [],
   "source": [
    "test_predict = lda.predict(test)"
   ]
  },
  {
   "cell_type": "code",
   "execution_count": 11,
   "id": "9377b360",
   "metadata": {
    "execution": {
     "iopub.execute_input": "2022-04-16T14:06:35.258658Z",
     "iopub.status.busy": "2022-04-16T14:06:35.257373Z",
     "iopub.status.idle": "2022-04-16T14:06:35.266060Z",
     "shell.execute_reply": "2022-04-16T14:06:35.265066Z"
    },
    "papermill": {
     "duration": 0.044396,
     "end_time": "2022-04-16T14:06:35.269416",
     "exception": false,
     "start_time": "2022-04-16T14:06:35.225020",
     "status": "completed"
    },
    "tags": []
   },
   "outputs": [],
   "source": [
    "submit['label']=test_predict"
   ]
  },
  {
   "cell_type": "code",
   "execution_count": 12,
   "id": "4a8b87ab",
   "metadata": {
    "execution": {
     "iopub.execute_input": "2022-04-16T14:06:35.313371Z",
     "iopub.status.busy": "2022-04-16T14:06:35.313076Z",
     "iopub.status.idle": "2022-04-16T14:06:35.341690Z",
     "shell.execute_reply": "2022-04-16T14:06:35.340805Z"
    },
    "papermill": {
     "duration": 0.048721,
     "end_time": "2022-04-16T14:06:35.344009",
     "exception": false,
     "start_time": "2022-04-16T14:06:35.295288",
     "status": "completed"
    },
    "tags": []
   },
   "outputs": [],
   "source": [
    "submit.to_csv('result_w6p1', index=False)"
   ]
  },
  {
   "cell_type": "code",
   "execution_count": null,
   "id": "acc9184c",
   "metadata": {
    "papermill": {
     "duration": 0.016516,
     "end_time": "2022-04-16T14:06:35.377865",
     "exception": false,
     "start_time": "2022-04-16T14:06:35.361349",
     "status": "completed"
    },
    "tags": []
   },
   "outputs": [],
   "source": []
  },
  {
   "cell_type": "code",
   "execution_count": null,
   "id": "14a1ea36",
   "metadata": {
    "papermill": {
     "duration": 0.016505,
     "end_time": "2022-04-16T14:06:35.411154",
     "exception": false,
     "start_time": "2022-04-16T14:06:35.394649",
     "status": "completed"
    },
    "tags": []
   },
   "outputs": [],
   "source": []
  }
 ],
 "metadata": {
  "kernelspec": {
   "display_name": "Python 3",
   "language": "python",
   "name": "python3"
  },
  "language_info": {
   "codemirror_mode": {
    "name": "ipython",
    "version": 3
   },
   "file_extension": ".py",
   "mimetype": "text/x-python",
   "name": "python",
   "nbconvert_exporter": "python",
   "pygments_lexer": "ipython3",
   "version": "3.7.12"
  },
  "papermill": {
   "default_parameters": {},
   "duration": 19.123016,
   "end_time": "2022-04-16T14:06:36.148135",
   "environment_variables": {},
   "exception": null,
   "input_path": "__notebook__.ipynb",
   "output_path": "__notebook__.ipynb",
   "parameters": {},
   "start_time": "2022-04-16T14:06:17.025119",
   "version": "2.3.4"
  }
 },
 "nbformat": 4,
 "nbformat_minor": 5
}
