{
 "cells": [
  {
   "cell_type": "code",
   "execution_count": 1,
   "id": "2a743ab5",
   "metadata": {
    "_cell_guid": "b1076dfc-b9ad-4769-8c92-a6c4dae69d19",
    "_uuid": "8f2839f25d086af736a60e9eeb907d3b93b6e0e5",
    "execution": {
     "iopub.execute_input": "2022-04-18T12:53:35.461196Z",
     "iopub.status.busy": "2022-04-18T12:53:35.460501Z",
     "iopub.status.idle": "2022-04-18T12:53:35.474555Z",
     "shell.execute_reply": "2022-04-18T12:53:35.473768Z"
    },
    "papermill": {
     "duration": 0.028282,
     "end_time": "2022-04-18T12:53:35.476134",
     "exception": false,
     "start_time": "2022-04-18T12:53:35.447852",
     "status": "completed"
    },
    "tags": []
   },
   "outputs": [
    {
     "name": "stdout",
     "output_type": "stream",
     "text": [
      "/kaggle/input/2022-ml-midterm-p3/submit.csv\n",
      "/kaggle/input/2022-ml-midterm-p3/train.csv\n",
      "/kaggle/input/2022-ml-midterm-p3/test.csv\n"
     ]
    }
   ],
   "source": [
    "# This Python 3 environment comes with many helpful analytics libraries installed\n",
    "# It is defined by the kaggle/python Docker image: https://github.com/kaggle/docker-python\n",
    "# For example, here's several helpful packages to load\n",
    "\n",
    "import numpy as np # linear algebra\n",
    "import pandas as pd # data processing, CSV file I/O (e.g. pd.read_csv)\n",
    "\n",
    "# Input data files are available in the read-only \"../input/\" directory\n",
    "# For example, running this (by clicking run or pressing Shift+Enter) will list all files under the input directory\n",
    "\n",
    "import os\n",
    "for dirname, _, filenames in os.walk('/kaggle/input'):\n",
    "    for filename in filenames:\n",
    "        print(os.path.join(dirname, filename))\n",
    "\n",
    "# You can write up to 20GB to the current directory (/kaggle/working/) that gets preserved as output when you create a version using \"Save & Run All\" \n",
    "# You can also write temporary files to /kaggle/temp/, but they won't be saved outside of the current session"
   ]
  },
  {
   "cell_type": "code",
   "execution_count": 2,
   "id": "e63eee70",
   "metadata": {
    "execution": {
     "iopub.execute_input": "2022-04-18T12:53:35.499416Z",
     "iopub.status.busy": "2022-04-18T12:53:35.498944Z",
     "iopub.status.idle": "2022-04-18T12:53:35.502823Z",
     "shell.execute_reply": "2022-04-18T12:53:35.502345Z"
    },
    "papermill": {
     "duration": 0.016711,
     "end_time": "2022-04-18T12:53:35.504224",
     "exception": false,
     "start_time": "2022-04-18T12:53:35.487513",
     "status": "completed"
    },
    "tags": []
   },
   "outputs": [],
   "source": [
    "import random\n",
    "import os\n",
    "seed = 42\n",
    "random.seed(seed)\n",
    "np.random.seed(seed)\n",
    "os.environ[\"PYTHONHASHSEED\"] = str(seed)"
   ]
  },
  {
   "cell_type": "code",
   "execution_count": 3,
   "id": "81bee4d7",
   "metadata": {
    "execution": {
     "iopub.execute_input": "2022-04-18T12:53:35.526633Z",
     "iopub.status.busy": "2022-04-18T12:53:35.526265Z",
     "iopub.status.idle": "2022-04-18T12:53:37.906486Z",
     "shell.execute_reply": "2022-04-18T12:53:37.905611Z"
    },
    "papermill": {
     "duration": 2.393981,
     "end_time": "2022-04-18T12:53:37.908773",
     "exception": false,
     "start_time": "2022-04-18T12:53:35.514792",
     "status": "completed"
    },
    "tags": []
   },
   "outputs": [],
   "source": [
    "# 8주차 동안 배운 것들을 sklearn에서 모두 미리 불러옵니다. \n",
    "\n",
    "import pandas_profiling\n",
    "from sklearn.preprocessing import StandardScaler, LabelEncoder \n",
    "from sklearn.neighbors import KNeighborsClassifier, KNeighborsRegressor\n",
    "from sklearn.linear_model import LogisticRegression\n",
    "from sklearn.discriminant_analysis import LinearDiscriminantAnalysis, QuadraticDiscriminantAnalysis\n",
    "from sklearn.tree import DecisionTreeClassifier, DecisionTreeRegressor\n",
    "from sklearn.ensemble import RandomForestClassifier, RandomForestRegressor"
   ]
  },
  {
   "cell_type": "code",
   "execution_count": 4,
   "id": "c5bfd4bf",
   "metadata": {
    "execution": {
     "iopub.execute_input": "2022-04-18T12:53:37.943587Z",
     "iopub.status.busy": "2022-04-18T12:53:37.943159Z",
     "iopub.status.idle": "2022-04-18T12:53:37.965886Z",
     "shell.execute_reply": "2022-04-18T12:53:37.965153Z"
    },
    "papermill": {
     "duration": 0.04206,
     "end_time": "2022-04-18T12:53:37.967845",
     "exception": false,
     "start_time": "2022-04-18T12:53:37.925785",
     "status": "completed"
    },
    "tags": []
   },
   "outputs": [],
   "source": [
    "submit = pd.read_csv('../input/2022-ml-midterm-p3/submit.csv')\n",
    "test = pd.read_csv('../input/2022-ml-midterm-p3/test.csv')\n",
    "train = pd.read_csv('../input/2022-ml-midterm-p3/train.csv')"
   ]
  },
  {
   "cell_type": "code",
   "execution_count": 5,
   "id": "52a01202",
   "metadata": {
    "execution": {
     "iopub.execute_input": "2022-04-18T12:53:38.002415Z",
     "iopub.status.busy": "2022-04-18T12:53:38.002041Z",
     "iopub.status.idle": "2022-04-18T12:53:38.013145Z",
     "shell.execute_reply": "2022-04-18T12:53:38.012460Z"
    },
    "papermill": {
     "duration": 0.030281,
     "end_time": "2022-04-18T12:53:38.014966",
     "exception": false,
     "start_time": "2022-04-18T12:53:37.984685",
     "status": "completed"
    },
    "tags": []
   },
   "outputs": [],
   "source": [
    "# trainX, trainY 데이터를 만들어 줍니다.\n",
    "\n",
    "trainX = train.drop(['price'], axis=1)\n",
    "trainY = train['price']"
   ]
  },
  {
   "cell_type": "code",
   "execution_count": 6,
   "id": "8d21c32a",
   "metadata": {
    "execution": {
     "iopub.execute_input": "2022-04-18T12:53:38.049129Z",
     "iopub.status.busy": "2022-04-18T12:53:38.048770Z",
     "iopub.status.idle": "2022-04-18T12:53:38.058879Z",
     "shell.execute_reply": "2022-04-18T12:53:38.058275Z"
    },
    "papermill": {
     "duration": 0.029471,
     "end_time": "2022-04-18T12:53:38.060826",
     "exception": false,
     "start_time": "2022-04-18T12:53:38.031355",
     "status": "completed"
    },
    "tags": []
   },
   "outputs": [],
   "source": [
    "# standard scaler로 열끼리의 값을 맞춰준다\n",
    "scaler = StandardScaler()\n",
    "train_x = scaler.fit_transform(trainX)\n",
    "test_x = scaler.transform(test)"
   ]
  },
  {
   "cell_type": "code",
   "execution_count": 7,
   "id": "87fd3777",
   "metadata": {
    "execution": {
     "iopub.execute_input": "2022-04-18T12:53:38.094800Z",
     "iopub.status.busy": "2022-04-18T12:53:38.094423Z",
     "iopub.status.idle": "2022-04-18T12:53:38.097056Z",
     "shell.execute_reply": "2022-04-18T12:53:38.096609Z"
    },
    "papermill": {
     "duration": 0.021468,
     "end_time": "2022-04-18T12:53:38.098672",
     "exception": false,
     "start_time": "2022-04-18T12:53:38.077204",
     "status": "completed"
    },
    "tags": []
   },
   "outputs": [],
   "source": [
    "# [1] KNN 사용한 모델학습\n",
    "#model = KNeighborsRegressor(n_neighbors=7, weights='distance')\n",
    "#model.fit(trainX, trainY)"
   ]
  },
  {
   "cell_type": "code",
   "execution_count": 8,
   "id": "78ad9a45",
   "metadata": {
    "execution": {
     "iopub.execute_input": "2022-04-18T12:53:38.133183Z",
     "iopub.status.busy": "2022-04-18T12:53:38.132806Z",
     "iopub.status.idle": "2022-04-18T12:53:38.135504Z",
     "shell.execute_reply": "2022-04-18T12:53:38.135003Z"
    },
    "papermill": {
     "duration": 0.022179,
     "end_time": "2022-04-18T12:53:38.137190",
     "exception": false,
     "start_time": "2022-04-18T12:53:38.115011",
     "status": "completed"
    },
    "tags": []
   },
   "outputs": [],
   "source": [
    "# [2] DecisionTree 사용한 모델학습\n",
    "#model = DecisionTreeRegressor()\n",
    "#model.fit(trainX, trainY)"
   ]
  },
  {
   "cell_type": "code",
   "execution_count": 9,
   "id": "c20d6765",
   "metadata": {
    "execution": {
     "iopub.execute_input": "2022-04-18T12:53:38.171104Z",
     "iopub.status.busy": "2022-04-18T12:53:38.170895Z",
     "iopub.status.idle": "2022-04-18T12:53:38.445529Z",
     "shell.execute_reply": "2022-04-18T12:53:38.444742Z"
    },
    "papermill": {
     "duration": 0.294063,
     "end_time": "2022-04-18T12:53:38.447686",
     "exception": false,
     "start_time": "2022-04-18T12:53:38.153623",
     "status": "completed"
    },
    "tags": []
   },
   "outputs": [
    {
     "data": {
      "text/plain": [
       "RandomForestRegressor()"
      ]
     },
     "execution_count": 9,
     "metadata": {},
     "output_type": "execute_result"
    }
   ],
   "source": [
    "# [3] RandomForest 사용한 모델학습\n",
    "model = RandomForestRegressor()\n",
    "model.fit(trainX, trainY)"
   ]
  },
  {
   "cell_type": "code",
   "execution_count": 10,
   "id": "261a4ce2",
   "metadata": {
    "execution": {
     "iopub.execute_input": "2022-04-18T12:53:38.482871Z",
     "iopub.status.busy": "2022-04-18T12:53:38.482686Z",
     "iopub.status.idle": "2022-04-18T12:53:38.497307Z",
     "shell.execute_reply": "2022-04-18T12:53:38.496899Z"
    },
    "papermill": {
     "duration": 0.03474,
     "end_time": "2022-04-18T12:53:38.499749",
     "exception": false,
     "start_time": "2022-04-18T12:53:38.465009",
     "status": "completed"
    },
    "tags": []
   },
   "outputs": [],
   "source": [
    "# test 데이터의 예측값 구하기\n",
    "test_pred = model.predict(test)"
   ]
  },
  {
   "cell_type": "code",
   "execution_count": 11,
   "id": "0836afd2",
   "metadata": {
    "execution": {
     "iopub.execute_input": "2022-04-18T12:53:38.535217Z",
     "iopub.status.busy": "2022-04-18T12:53:38.534996Z",
     "iopub.status.idle": "2022-04-18T12:53:38.541686Z",
     "shell.execute_reply": "2022-04-18T12:53:38.541069Z"
    },
    "papermill": {
     "duration": 0.026409,
     "end_time": "2022-04-18T12:53:38.543570",
     "exception": false,
     "start_time": "2022-04-18T12:53:38.517161",
     "status": "completed"
    },
    "tags": []
   },
   "outputs": [],
   "source": [
    "submit['price'] = test_pred\n",
    "submit.to_csv('result_e1p3', index=False)"
   ]
  },
  {
   "cell_type": "markdown",
   "id": "2a42df28",
   "metadata": {
    "papermill": {
     "duration": 0.016874,
     "end_time": "2022-04-18T12:53:38.577607",
     "exception": false,
     "start_time": "2022-04-18T12:53:38.560733",
     "status": "completed"
    },
    "tags": []
   },
   "source": [
    "부동산 가격 예측문제는 회귀문제이다. \n",
    "\n",
    "다음과 같은 세가지 방법론을 사용해 보았다.\n",
    "\n",
    "1) KNeighborsRegressor : 이 문제에서 가장 낮은 성능을 보였다.\n",
    "\n",
    "2) DecisionTreeRegressor\n",
    "\n",
    "3) RandomForestRegressor : 이 문제에서 가장 높은 성능을 보였다.\n"
   ]
  }
 ],
 "metadata": {
  "kernelspec": {
   "display_name": "Python 3",
   "language": "python",
   "name": "python3"
  },
  "language_info": {
   "codemirror_mode": {
    "name": "ipython",
    "version": 3
   },
   "file_extension": ".py",
   "mimetype": "text/x-python",
   "name": "python",
   "nbconvert_exporter": "python",
   "pygments_lexer": "ipython3",
   "version": "3.7.12"
  },
  "papermill": {
   "default_parameters": {},
   "duration": 10.956779,
   "end_time": "2022-04-18T12:53:39.314560",
   "environment_variables": {},
   "exception": null,
   "input_path": "__notebook__.ipynb",
   "output_path": "__notebook__.ipynb",
   "parameters": {},
   "start_time": "2022-04-18T12:53:28.357781",
   "version": "2.3.4"
  }
 },
 "nbformat": 4,
 "nbformat_minor": 5
}
