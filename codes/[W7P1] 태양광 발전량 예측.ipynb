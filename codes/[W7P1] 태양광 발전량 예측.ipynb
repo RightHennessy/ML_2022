{
 "cells": [
  {
   "cell_type": "code",
   "execution_count": 1,
   "id": "0f983ac7",
   "metadata": {
    "_cell_guid": "b1076dfc-b9ad-4769-8c92-a6c4dae69d19",
    "_uuid": "8f2839f25d086af736a60e9eeb907d3b93b6e0e5",
    "execution": {
     "iopub.execute_input": "2022-04-24T12:02:50.091142Z",
     "iopub.status.busy": "2022-04-24T12:02:50.090397Z",
     "iopub.status.idle": "2022-04-24T12:02:50.104302Z",
     "shell.execute_reply": "2022-04-24T12:02:50.103159Z"
    },
    "papermill": {
     "duration": 0.027478,
     "end_time": "2022-04-24T12:02:50.106159",
     "exception": false,
     "start_time": "2022-04-24T12:02:50.078681",
     "status": "completed"
    },
    "tags": []
   },
   "outputs": [
    {
     "name": "stdout",
     "output_type": "stream",
     "text": [
      "/kaggle/input/2022-ml-w7p2/submit.csv\n",
      "/kaggle/input/2022-ml-w7p2/train.csv\n",
      "/kaggle/input/2022-ml-w7p2/test.csv\n"
     ]
    }
   ],
   "source": [
    "# This Python 3 environment comes with many helpful analytics libraries installed\n",
    "# It is defined by the kaggle/python Docker image: https://github.com/kaggle/docker-python\n",
    "# For example, here's several helpful packages to load\n",
    "\n",
    "import numpy as np # linear algebra\n",
    "import pandas as pd # data processing, CSV file I/O (e.g. pd.read_csv)\n",
    "\n",
    "# Input data files are available in the read-only \"../input/\" directory\n",
    "# For example, running this (by clicking run or pressing Shift+Enter) will list all files under the input directory\n",
    "\n",
    "import os\n",
    "for dirname, _, filenames in os.walk('/kaggle/input'):\n",
    "    for filename in filenames:\n",
    "        print(os.path.join(dirname, filename))\n",
    "\n",
    "# You can write up to 20GB to the current directory (/kaggle/working/) that gets preserved as output when you create a version using \"Save & Run All\" \n",
    "# You can also write temporary files to /kaggle/temp/, but they won't be saved outside of the current session"
   ]
  },
  {
   "cell_type": "code",
   "execution_count": 2,
   "id": "ca3abe14",
   "metadata": {
    "execution": {
     "iopub.execute_input": "2022-04-24T12:02:50.127114Z",
     "iopub.status.busy": "2022-04-24T12:02:50.126483Z",
     "iopub.status.idle": "2022-04-24T12:02:50.130349Z",
     "shell.execute_reply": "2022-04-24T12:02:50.129817Z"
    },
    "papermill": {
     "duration": 0.014913,
     "end_time": "2022-04-24T12:02:50.131871",
     "exception": false,
     "start_time": "2022-04-24T12:02:50.116958",
     "status": "completed"
    },
    "tags": []
   },
   "outputs": [],
   "source": [
    "import random\n",
    "import os\n",
    "seed = 42\n",
    "random.seed(seed)\n",
    "np.random.seed(seed)\n",
    "os.environ[\"PYTHONHASHSEED\"] = str(seed)"
   ]
  },
  {
   "cell_type": "code",
   "execution_count": 3,
   "id": "460808a6",
   "metadata": {
    "execution": {
     "iopub.execute_input": "2022-04-24T12:02:50.150597Z",
     "iopub.status.busy": "2022-04-24T12:02:50.150166Z",
     "iopub.status.idle": "2022-04-24T12:02:50.190073Z",
     "shell.execute_reply": "2022-04-24T12:02:50.189248Z"
    },
    "papermill": {
     "duration": 0.051771,
     "end_time": "2022-04-24T12:02:50.192193",
     "exception": false,
     "start_time": "2022-04-24T12:02:50.140422",
     "status": "completed"
    },
    "tags": []
   },
   "outputs": [],
   "source": [
    "submit = pd.read_csv('../input/2022-ml-w7p2/submit.csv') \n",
    "test = pd.read_csv('../input/2022-ml-w7p2/test.csv')\n",
    "train = pd.read_csv('../input/2022-ml-w7p2/train.csv')"
   ]
  },
  {
   "cell_type": "code",
   "execution_count": 4,
   "id": "6d4b11ae",
   "metadata": {
    "execution": {
     "iopub.execute_input": "2022-04-24T12:02:50.211266Z",
     "iopub.status.busy": "2022-04-24T12:02:50.210792Z",
     "iopub.status.idle": "2022-04-24T12:02:50.233311Z",
     "shell.execute_reply": "2022-04-24T12:02:50.232527Z"
    },
    "papermill": {
     "duration": 0.034393,
     "end_time": "2022-04-24T12:02:50.235368",
     "exception": false,
     "start_time": "2022-04-24T12:02:50.200975",
     "status": "completed"
    },
    "tags": []
   },
   "outputs": [],
   "source": [
    "trainX = train.drop(['TARGET'], axis =1)\n",
    "trainY = train['TARGET']"
   ]
  },
  {
   "cell_type": "code",
   "execution_count": 5,
   "id": "b6b7f489",
   "metadata": {
    "execution": {
     "iopub.execute_input": "2022-04-24T12:02:50.254188Z",
     "iopub.status.busy": "2022-04-24T12:02:50.253450Z",
     "iopub.status.idle": "2022-04-24T12:02:51.589444Z",
     "shell.execute_reply": "2022-04-24T12:02:51.588793Z"
    },
    "papermill": {
     "duration": 1.347752,
     "end_time": "2022-04-24T12:02:51.591574",
     "exception": false,
     "start_time": "2022-04-24T12:02:50.243822",
     "status": "completed"
    },
    "tags": []
   },
   "outputs": [],
   "source": [
    "from sklearn.ensemble import RandomForestRegressor\n",
    "rfr = RandomForestRegressor()"
   ]
  },
  {
   "cell_type": "code",
   "execution_count": 6,
   "id": "56a87de0",
   "metadata": {
    "execution": {
     "iopub.execute_input": "2022-04-24T12:02:51.610530Z",
     "iopub.status.busy": "2022-04-24T12:02:51.610133Z",
     "iopub.status.idle": "2022-04-24T12:02:53.957879Z",
     "shell.execute_reply": "2022-04-24T12:02:53.957086Z"
    },
    "papermill": {
     "duration": 2.359632,
     "end_time": "2022-04-24T12:02:53.959949",
     "exception": false,
     "start_time": "2022-04-24T12:02:51.600317",
     "status": "completed"
    },
    "tags": []
   },
   "outputs": [
    {
     "data": {
      "text/plain": [
       "RandomForestRegressor()"
      ]
     },
     "execution_count": 6,
     "metadata": {},
     "output_type": "execute_result"
    }
   ],
   "source": [
    "rfr.fit(trainX, trainY)"
   ]
  },
  {
   "cell_type": "code",
   "execution_count": 7,
   "id": "a96d730f",
   "metadata": {
    "execution": {
     "iopub.execute_input": "2022-04-24T12:02:53.979190Z",
     "iopub.status.busy": "2022-04-24T12:02:53.978768Z",
     "iopub.status.idle": "2022-04-24T12:02:54.012877Z",
     "shell.execute_reply": "2022-04-24T12:02:54.012155Z"
    },
    "papermill": {
     "duration": 0.046199,
     "end_time": "2022-04-24T12:02:54.014990",
     "exception": false,
     "start_time": "2022-04-24T12:02:53.968791",
     "status": "completed"
    },
    "tags": []
   },
   "outputs": [],
   "source": [
    "test_pred = rfr.predict(test)"
   ]
  },
  {
   "cell_type": "code",
   "execution_count": 8,
   "id": "85dca71d",
   "metadata": {
    "execution": {
     "iopub.execute_input": "2022-04-24T12:02:54.034705Z",
     "iopub.status.busy": "2022-04-24T12:02:54.034311Z",
     "iopub.status.idle": "2022-04-24T12:02:54.038697Z",
     "shell.execute_reply": "2022-04-24T12:02:54.038156Z"
    },
    "papermill": {
     "duration": 0.016381,
     "end_time": "2022-04-24T12:02:54.040468",
     "exception": false,
     "start_time": "2022-04-24T12:02:54.024087",
     "status": "completed"
    },
    "tags": []
   },
   "outputs": [],
   "source": [
    "submit['TARGET'] = test_pred"
   ]
  },
  {
   "cell_type": "code",
   "execution_count": 9,
   "id": "80858ded",
   "metadata": {
    "execution": {
     "iopub.execute_input": "2022-04-24T12:02:54.060128Z",
     "iopub.status.busy": "2022-04-24T12:02:54.059708Z",
     "iopub.status.idle": "2022-04-24T12:02:54.068126Z",
     "shell.execute_reply": "2022-04-24T12:02:54.067426Z"
    },
    "papermill": {
     "duration": 0.020688,
     "end_time": "2022-04-24T12:02:54.069921",
     "exception": false,
     "start_time": "2022-04-24T12:02:54.049233",
     "status": "completed"
    },
    "tags": []
   },
   "outputs": [],
   "source": [
    "submit.to_csv('result_w7p2', index=False)"
   ]
  },
  {
   "cell_type": "code",
   "execution_count": null,
   "id": "9b594a78",
   "metadata": {
    "papermill": {
     "duration": 0.008829,
     "end_time": "2022-04-24T12:02:54.087753",
     "exception": false,
     "start_time": "2022-04-24T12:02:54.078924",
     "status": "completed"
    },
    "tags": []
   },
   "outputs": [],
   "source": []
  }
 ],
 "metadata": {
  "kernelspec": {
   "display_name": "Python 3",
   "language": "python",
   "name": "python3"
  },
  "language_info": {
   "codemirror_mode": {
    "name": "ipython",
    "version": 3
   },
   "file_extension": ".py",
   "mimetype": "text/x-python",
   "name": "python",
   "nbconvert_exporter": "python",
   "pygments_lexer": "ipython3",
   "version": "3.7.12"
  },
  "papermill": {
   "default_parameters": {},
   "duration": 13.50353,
   "end_time": "2022-04-24T12:02:54.815984",
   "environment_variables": {},
   "exception": null,
   "input_path": "__notebook__.ipynb",
   "output_path": "__notebook__.ipynb",
   "parameters": {},
   "start_time": "2022-04-24T12:02:41.312454",
   "version": "2.3.4"
  }
 },
 "nbformat": 4,
 "nbformat_minor": 5
}
