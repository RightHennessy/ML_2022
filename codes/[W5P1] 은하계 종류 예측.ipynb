{
 "cells": [
  {
   "cell_type": "code",
   "execution_count": 1,
   "id": "859932d7",
   "metadata": {
    "_cell_guid": "b1076dfc-b9ad-4769-8c92-a6c4dae69d19",
    "_uuid": "8f2839f25d086af736a60e9eeb907d3b93b6e0e5",
    "execution": {
     "iopub.execute_input": "2022-04-09T20:57:06.165548Z",
     "iopub.status.busy": "2022-04-09T20:57:06.157313Z",
     "iopub.status.idle": "2022-04-09T20:57:06.172477Z",
     "shell.execute_reply": "2022-04-09T20:57:06.173378Z",
     "shell.execute_reply.started": "2022-04-09T19:52:28.961882Z"
    },
    "papermill": {
     "duration": 0.030661,
     "end_time": "2022-04-09T20:57:06.173826",
     "exception": false,
     "start_time": "2022-04-09T20:57:06.143165",
     "status": "completed"
    },
    "tags": []
   },
   "outputs": [
    {
     "name": "stdout",
     "output_type": "stream",
     "text": [
      "/kaggle/input/2022-ml-w5p2/trainX.csv\n",
      "/kaggle/input/2022-ml-w5p2/testX.csv\n",
      "/kaggle/input/2022-ml-w5p2/trainY.csv\n",
      "/kaggle/input/2022-ml-w5p2/submit.csv\n"
     ]
    }
   ],
   "source": [
    "# This Python 3 environment comes with many helpful analytics libraries installed\n",
    "# It is defined by the kaggle/python Docker image: https://github.com/kaggle/docker-python\n",
    "# For example, here's several helpful packages to load\n",
    "\n",
    "import numpy as np # linear algebra\n",
    "import pandas as pd # data processing, CSV file I/O (e.g. pd.read_csv)\n",
    "\n",
    "# Input data files are available in the read-only \"../input/\" directory\n",
    "# For example, running this (by clicking run or pressing Shift+Enter) will list all files under the input directory\n",
    "\n",
    "import os\n",
    "for dirname, _, filenames in os.walk('/kaggle/input'):\n",
    "    for filename in filenames:\n",
    "        print(os.path.join(dirname, filename))\n",
    "\n",
    "# You can write up to 20GB to the current directory (/kaggle/working/) that gets preserved as output when you create a version using \"Save & Run All\" \n",
    "# You can also write temporary files to /kaggle/temp/, but they won't be saved outside of the current session"
   ]
  },
  {
   "cell_type": "code",
   "execution_count": 2,
   "id": "780faf22",
   "metadata": {
    "execution": {
     "iopub.execute_input": "2022-04-09T20:57:06.201151Z",
     "iopub.status.busy": "2022-04-09T20:57:06.200386Z",
     "iopub.status.idle": "2022-04-09T20:57:06.203031Z",
     "shell.execute_reply": "2022-04-09T20:57:06.202355Z",
     "shell.execute_reply.started": "2022-04-09T19:52:30.267114Z"
    },
    "papermill": {
     "duration": 0.017919,
     "end_time": "2022-04-09T20:57:06.203194",
     "exception": false,
     "start_time": "2022-04-09T20:57:06.185275",
     "status": "completed"
    },
    "tags": []
   },
   "outputs": [],
   "source": [
    "import random\n",
    "import os\n",
    "seed = 42\n",
    "random.seed(seed)\n",
    "np.random.seed(seed)\n",
    "os.environ[\"PYTHONHASHSEED\"] = str(seed)"
   ]
  },
  {
   "cell_type": "code",
   "execution_count": 3,
   "id": "d211dd4d",
   "metadata": {
    "execution": {
     "iopub.execute_input": "2022-04-09T20:57:06.226997Z",
     "iopub.status.busy": "2022-04-09T20:57:06.226286Z",
     "iopub.status.idle": "2022-04-09T20:57:06.260987Z",
     "shell.execute_reply": "2022-04-09T20:57:06.261592Z",
     "shell.execute_reply.started": "2022-04-09T19:53:09.193971Z"
    },
    "papermill": {
     "duration": 0.04809,
     "end_time": "2022-04-09T20:57:06.261817",
     "exception": false,
     "start_time": "2022-04-09T20:57:06.213727",
     "status": "completed"
    },
    "tags": []
   },
   "outputs": [],
   "source": [
    "trainX = pd.read_csv('../input/2022-ml-w5p2/trainX.csv')\n",
    "testX = pd.read_csv('../input/2022-ml-w5p2/testX.csv')\n",
    "trainY = pd.read_csv('../input/2022-ml-w5p2/trainY.csv')\n",
    "submit = pd.read_csv('../input/2022-ml-w5p2/submit.csv')"
   ]
  },
  {
   "cell_type": "code",
   "execution_count": 4,
   "id": "aa17522b",
   "metadata": {
    "execution": {
     "iopub.execute_input": "2022-04-09T20:57:06.286395Z",
     "iopub.status.busy": "2022-04-09T20:57:06.285646Z",
     "iopub.status.idle": "2022-04-09T20:57:06.304047Z",
     "shell.execute_reply": "2022-04-09T20:57:06.304622Z",
     "shell.execute_reply.started": "2022-04-09T19:53:11.152385Z"
    },
    "papermill": {
     "duration": 0.032855,
     "end_time": "2022-04-09T20:57:06.304848",
     "exception": false,
     "start_time": "2022-04-09T20:57:06.271993",
     "status": "completed"
    },
    "tags": []
   },
   "outputs": [
    {
     "data": {
      "text/html": [
       "<div>\n",
       "<style scoped>\n",
       "    .dataframe tbody tr th:only-of-type {\n",
       "        vertical-align: middle;\n",
       "    }\n",
       "\n",
       "    .dataframe tbody tr th {\n",
       "        vertical-align: top;\n",
       "    }\n",
       "\n",
       "    .dataframe thead th {\n",
       "        text-align: right;\n",
       "    }\n",
       "</style>\n",
       "<table border=\"1\" class=\"dataframe\">\n",
       "  <thead>\n",
       "    <tr style=\"text-align: right;\">\n",
       "      <th></th>\n",
       "      <th>label</th>\n",
       "    </tr>\n",
       "  </thead>\n",
       "  <tbody>\n",
       "    <tr>\n",
       "      <th>0</th>\n",
       "      <td>0</td>\n",
       "    </tr>\n",
       "    <tr>\n",
       "      <th>1</th>\n",
       "      <td>0</td>\n",
       "    </tr>\n",
       "    <tr>\n",
       "      <th>2</th>\n",
       "      <td>0</td>\n",
       "    </tr>\n",
       "    <tr>\n",
       "      <th>3</th>\n",
       "      <td>1</td>\n",
       "    </tr>\n",
       "    <tr>\n",
       "      <th>4</th>\n",
       "      <td>0</td>\n",
       "    </tr>\n",
       "    <tr>\n",
       "      <th>5</th>\n",
       "      <td>0</td>\n",
       "    </tr>\n",
       "    <tr>\n",
       "      <th>6</th>\n",
       "      <td>1</td>\n",
       "    </tr>\n",
       "    <tr>\n",
       "      <th>7</th>\n",
       "      <td>0</td>\n",
       "    </tr>\n",
       "    <tr>\n",
       "      <th>8</th>\n",
       "      <td>1</td>\n",
       "    </tr>\n",
       "    <tr>\n",
       "      <th>9</th>\n",
       "      <td>0</td>\n",
       "    </tr>\n",
       "    <tr>\n",
       "      <th>10</th>\n",
       "      <td>1</td>\n",
       "    </tr>\n",
       "    <tr>\n",
       "      <th>11</th>\n",
       "      <td>1</td>\n",
       "    </tr>\n",
       "    <tr>\n",
       "      <th>12</th>\n",
       "      <td>1</td>\n",
       "    </tr>\n",
       "    <tr>\n",
       "      <th>13</th>\n",
       "      <td>0</td>\n",
       "    </tr>\n",
       "    <tr>\n",
       "      <th>14</th>\n",
       "      <td>0</td>\n",
       "    </tr>\n",
       "    <tr>\n",
       "      <th>15</th>\n",
       "      <td>0</td>\n",
       "    </tr>\n",
       "    <tr>\n",
       "      <th>16</th>\n",
       "      <td>0</td>\n",
       "    </tr>\n",
       "    <tr>\n",
       "      <th>17</th>\n",
       "      <td>0</td>\n",
       "    </tr>\n",
       "    <tr>\n",
       "      <th>18</th>\n",
       "      <td>0</td>\n",
       "    </tr>\n",
       "    <tr>\n",
       "      <th>19</th>\n",
       "      <td>0</td>\n",
       "    </tr>\n",
       "    <tr>\n",
       "      <th>20</th>\n",
       "      <td>0</td>\n",
       "    </tr>\n",
       "    <tr>\n",
       "      <th>21</th>\n",
       "      <td>0</td>\n",
       "    </tr>\n",
       "    <tr>\n",
       "      <th>22</th>\n",
       "      <td>0</td>\n",
       "    </tr>\n",
       "  </tbody>\n",
       "</table>\n",
       "</div>"
      ],
      "text/plain": [
       "    label\n",
       "0       0\n",
       "1       0\n",
       "2       0\n",
       "3       1\n",
       "4       0\n",
       "5       0\n",
       "6       1\n",
       "7       0\n",
       "8       1\n",
       "9       0\n",
       "10      1\n",
       "11      1\n",
       "12      1\n",
       "13      0\n",
       "14      0\n",
       "15      0\n",
       "16      0\n",
       "17      0\n",
       "18      0\n",
       "19      0\n",
       "20      0\n",
       "21      0\n",
       "22      0"
      ]
     },
     "execution_count": 4,
     "metadata": {},
     "output_type": "execute_result"
    }
   ],
   "source": [
    "pd.DataFrame(trainY)"
   ]
  },
  {
   "cell_type": "code",
   "execution_count": 5,
   "id": "86ba76fe",
   "metadata": {
    "execution": {
     "iopub.execute_input": "2022-04-09T20:57:06.330412Z",
     "iopub.status.busy": "2022-04-09T20:57:06.329682Z",
     "iopub.status.idle": "2022-04-09T20:57:07.658170Z",
     "shell.execute_reply": "2022-04-09T20:57:07.657414Z",
     "shell.execute_reply.started": "2022-04-09T19:53:15.023392Z"
    },
    "papermill": {
     "duration": 1.341945,
     "end_time": "2022-04-09T20:57:07.658328",
     "exception": false,
     "start_time": "2022-04-09T20:57:06.316383",
     "status": "completed"
    },
    "tags": []
   },
   "outputs": [],
   "source": [
    "from sklearn.linear_model import LogisticRegression "
   ]
  },
  {
   "cell_type": "code",
   "execution_count": 6,
   "id": "c7aa18af",
   "metadata": {
    "execution": {
     "iopub.execute_input": "2022-04-09T20:57:07.686945Z",
     "iopub.status.busy": "2022-04-09T20:57:07.686179Z",
     "iopub.status.idle": "2022-04-09T20:57:07.712769Z",
     "shell.execute_reply": "2022-04-09T20:57:07.713354Z",
     "shell.execute_reply.started": "2022-04-09T19:53:35.637624Z"
    },
    "papermill": {
     "duration": 0.043264,
     "end_time": "2022-04-09T20:57:07.713540",
     "exception": false,
     "start_time": "2022-04-09T20:57:07.670276",
     "status": "completed"
    },
    "tags": []
   },
   "outputs": [],
   "source": [
    "logis = LogisticRegression(class_weight = 'balanced')\n",
    "logis_trainX = logis.fit(trainX, trainY['label'])\n",
    "testX_pred = logis.predict(testX)"
   ]
  },
  {
   "cell_type": "code",
   "execution_count": 7,
   "id": "639605ef",
   "metadata": {
    "execution": {
     "iopub.execute_input": "2022-04-09T20:57:07.739074Z",
     "iopub.status.busy": "2022-04-09T20:57:07.738382Z",
     "iopub.status.idle": "2022-04-09T20:57:07.743215Z",
     "shell.execute_reply": "2022-04-09T20:57:07.743810Z",
     "shell.execute_reply.started": "2022-04-09T19:54:35.988341Z"
    },
    "papermill": {
     "duration": 0.019763,
     "end_time": "2022-04-09T20:57:07.743999",
     "exception": false,
     "start_time": "2022-04-09T20:57:07.724236",
     "status": "completed"
    },
    "tags": []
   },
   "outputs": [],
   "source": [
    "submit['label'] = testX_pred"
   ]
  },
  {
   "cell_type": "code",
   "execution_count": 8,
   "id": "7bde7107",
   "metadata": {
    "execution": {
     "iopub.execute_input": "2022-04-09T20:57:07.771492Z",
     "iopub.status.busy": "2022-04-09T20:57:07.770769Z",
     "iopub.status.idle": "2022-04-09T20:57:07.778303Z",
     "shell.execute_reply": "2022-04-09T20:57:07.778835Z"
    },
    "papermill": {
     "duration": 0.0232,
     "end_time": "2022-04-09T20:57:07.779042",
     "exception": false,
     "start_time": "2022-04-09T20:57:07.755842",
     "status": "completed"
    },
    "tags": []
   },
   "outputs": [],
   "source": [
    "submit.to_csv('result_w5p2', index=False)"
   ]
  }
 ],
 "metadata": {
  "kernelspec": {
   "display_name": "Python 3",
   "language": "python",
   "name": "python3"
  },
  "language_info": {
   "codemirror_mode": {
    "name": "ipython",
    "version": 3
   },
   "file_extension": ".py",
   "mimetype": "text/x-python",
   "name": "python",
   "nbconvert_exporter": "python",
   "pygments_lexer": "ipython3",
   "version": "3.7.12"
  },
  "papermill": {
   "default_parameters": {},
   "duration": 14.336953,
   "end_time": "2022-04-09T20:57:08.601146",
   "environment_variables": {},
   "exception": null,
   "input_path": "__notebook__.ipynb",
   "output_path": "__notebook__.ipynb",
   "parameters": {},
   "start_time": "2022-04-09T20:56:54.264193",
   "version": "2.3.3"
  }
 },
 "nbformat": 4,
 "nbformat_minor": 5
}
