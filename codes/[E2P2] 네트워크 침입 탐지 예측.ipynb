{
 "cells": [
  {
   "cell_type": "code",
   "execution_count": 1,
   "id": "5f58eeb9",
   "metadata": {
    "_cell_guid": "b1076dfc-b9ad-4769-8c92-a6c4dae69d19",
    "_uuid": "8f2839f25d086af736a60e9eeb907d3b93b6e0e5",
    "execution": {
     "iopub.execute_input": "2022-06-13T12:47:08.173132Z",
     "iopub.status.busy": "2022-06-13T12:47:08.172638Z",
     "iopub.status.idle": "2022-06-13T12:47:08.186020Z",
     "shell.execute_reply": "2022-06-13T12:47:08.185079Z"
    },
    "papermill": {
     "duration": 0.021557,
     "end_time": "2022-06-13T12:47:08.188303",
     "exception": false,
     "start_time": "2022-06-13T12:47:08.166746",
     "status": "completed"
    },
    "tags": []
   },
   "outputs": [
    {
     "name": "stdout",
     "output_type": "stream",
     "text": [
      "/kaggle/input/2022-ml-finalexam-p2/NetworkTest_x.csv\n",
      "/kaggle/input/2022-ml-finalexam-p2/NetworkTrain_x.csv\n",
      "/kaggle/input/2022-ml-finalexam-p2/submission_sample.csv\n",
      "/kaggle/input/2022-ml-finalexam-p2/NetworkTrain_y.csv\n"
     ]
    }
   ],
   "source": [
    "# This Python 3 environment comes with many helpful analytics libraries installed\n",
    "# It is defined by the kaggle/python Docker image: https://github.com/kaggle/docker-python\n",
    "# For example, here's several helpful packages to load\n",
    "\n",
    "import numpy as np # linear algebra\n",
    "import pandas as pd # data processing, CSV file I/O (e.g. pd.read_csv)\n",
    "\n",
    "# Input data files are available in the read-only \"../input/\" directory\n",
    "# For example, running this (by clicking run or pressing Shift+Enter) will list all files under the input directory\n",
    "\n",
    "import os\n",
    "for dirname, _, filenames in os.walk('/kaggle/input'):\n",
    "    for filename in filenames:\n",
    "        print(os.path.join(dirname, filename))\n",
    "\n",
    "# You can write up to 20GB to the current directory (/kaggle/working/) that gets preserved as output when you create a version using \"Save & Run All\" \n",
    "# You can also write temporary files to /kaggle/temp/, but they won't be saved outside of the current session"
   ]
  },
  {
   "cell_type": "code",
   "execution_count": 2,
   "id": "4027ae07",
   "metadata": {
    "execution": {
     "iopub.execute_input": "2022-06-13T12:47:08.196771Z",
     "iopub.status.busy": "2022-06-13T12:47:08.196415Z",
     "iopub.status.idle": "2022-06-13T12:47:09.063771Z",
     "shell.execute_reply": "2022-06-13T12:47:09.062846Z"
    },
    "papermill": {
     "duration": 0.874193,
     "end_time": "2022-06-13T12:47:09.066246",
     "exception": false,
     "start_time": "2022-06-13T12:47:08.192053",
     "status": "completed"
    },
    "tags": []
   },
   "outputs": [],
   "source": [
    "# data를 가져온다\n",
    "\n",
    "trainY = pd.read_csv('../input/2022-ml-finalexam-p2/NetworkTrain_y.csv')\n",
    "trainX = pd.read_csv('../input/2022-ml-finalexam-p2/NetworkTrain_x.csv')\n",
    "testX = pd.read_csv('../input/2022-ml-finalexam-p2/NetworkTest_x.csv', header=None)\n",
    "submit = pd.read_csv('../input/2022-ml-finalexam-p2/submission_sample.csv')"
   ]
  },
  {
   "cell_type": "code",
   "execution_count": 3,
   "id": "dd50745f",
   "metadata": {
    "execution": {
     "iopub.execute_input": "2022-06-13T12:47:09.074427Z",
     "iopub.status.busy": "2022-06-13T12:47:09.074060Z",
     "iopub.status.idle": "2022-06-13T12:47:10.249573Z",
     "shell.execute_reply": "2022-06-13T12:47:10.248717Z"
    },
    "papermill": {
     "duration": 1.182353,
     "end_time": "2022-06-13T12:47:10.251934",
     "exception": false,
     "start_time": "2022-06-13T12:47:09.069581",
     "status": "completed"
    },
    "tags": []
   },
   "outputs": [],
   "source": [
    "# LabelEncoder를 이용하여 데이터 실수화를 진행한다.\n",
    "\n",
    "from sklearn.preprocessing import LabelEncoder\n",
    "le = LabelEncoder()\n",
    "\n",
    "trainX['tcp'] = le.fit_transform(trainX['tcp'])\n",
    "testX[1] = le.transform(testX[1])\n",
    "\n",
    "trainX['ftp_data'] = le.fit_transform(trainX['ftp_data'])\n",
    "testX[2] = le.transform(testX[2])\n",
    "\n",
    "trainX['SF'] = le.fit_transform(trainX['SF'])\n",
    "testX[3] = le.transform(testX[3])"
   ]
  },
  {
   "cell_type": "code",
   "execution_count": 4,
   "id": "66c93657",
   "metadata": {
    "execution": {
     "iopub.execute_input": "2022-06-13T12:47:10.260440Z",
     "iopub.status.busy": "2022-06-13T12:47:10.259405Z",
     "iopub.status.idle": "2022-06-13T12:47:10.337990Z",
     "shell.execute_reply": "2022-06-13T12:47:10.337120Z"
    },
    "papermill": {
     "duration": 0.085354,
     "end_time": "2022-06-13T12:47:10.340649",
     "exception": false,
     "start_time": "2022-06-13T12:47:10.255295",
     "status": "completed"
    },
    "tags": []
   },
   "outputs": [],
   "source": [
    "# trainY의 normal 값이 normal이면 비침입:0, neptune이면 침입:1로 변경한다.\n",
    "# 그 후 정수형으로 변환해준다.\n",
    "\n",
    "trainY.loc[trainY[trainY.normal != 'normal'].index, 'normal'] = 1\n",
    "trainY.loc[trainY[trainY.normal == 'normal'].index, 'normal'] = 0\n",
    "trainY['normal'] = pd.to_numeric(trainY['normal'])"
   ]
  },
  {
   "cell_type": "code",
   "execution_count": 5,
   "id": "fbed4213",
   "metadata": {
    "execution": {
     "iopub.execute_input": "2022-06-13T12:47:10.350874Z",
     "iopub.status.busy": "2022-06-13T12:47:10.350476Z",
     "iopub.status.idle": "2022-06-13T12:47:20.794826Z",
     "shell.execute_reply": "2022-06-13T12:47:20.793883Z"
    },
    "papermill": {
     "duration": 10.453195,
     "end_time": "2022-06-13T12:47:20.797122",
     "exception": false,
     "start_time": "2022-06-13T12:47:10.343927",
     "status": "completed"
    },
    "tags": []
   },
   "outputs": [
    {
     "data": {
      "text/plain": [
       "RandomForestClassifier(random_state=1)"
      ]
     },
     "execution_count": 5,
     "metadata": {},
     "output_type": "execute_result"
    }
   ],
   "source": [
    "# 분류문제로 RandomForestClassifier를 사용하였다.\n",
    "# 그 다음 모델로 train 데이터를 학습 시켜준다.\n",
    "\n",
    "from sklearn.ensemble import RandomForestClassifier\n",
    "model = RandomForestClassifier(random_state=1)\n",
    "model.fit(trainX, trainY['normal'])"
   ]
  },
  {
   "cell_type": "code",
   "execution_count": 6,
   "id": "c64fa0bf",
   "metadata": {
    "execution": {
     "iopub.execute_input": "2022-06-13T12:47:20.805876Z",
     "iopub.status.busy": "2022-06-13T12:47:20.805235Z",
     "iopub.status.idle": "2022-06-13T12:47:21.071851Z",
     "shell.execute_reply": "2022-06-13T12:47:21.070872Z"
    },
    "papermill": {
     "duration": 0.273726,
     "end_time": "2022-06-13T12:47:21.074317",
     "exception": false,
     "start_time": "2022-06-13T12:47:20.800591",
     "status": "completed"
    },
    "tags": []
   },
   "outputs": [
    {
     "name": "stderr",
     "output_type": "stream",
     "text": [
      "/opt/conda/lib/python3.7/site-packages/sklearn/base.py:451: UserWarning: X does not have valid feature names, but RandomForestClassifier was fitted with feature names\n",
      "  \"X does not have valid feature names, but\"\n"
     ]
    }
   ],
   "source": [
    "# 예측한다.\n",
    "\n",
    "pre = model.predict(testX)"
   ]
  },
  {
   "cell_type": "code",
   "execution_count": 7,
   "id": "abdd82a1",
   "metadata": {
    "execution": {
     "iopub.execute_input": "2022-06-13T12:47:21.083059Z",
     "iopub.status.busy": "2022-06-13T12:47:21.082298Z",
     "iopub.status.idle": "2022-06-13T12:47:21.128971Z",
     "shell.execute_reply": "2022-06-13T12:47:21.127929Z"
    },
    "papermill": {
     "duration": 0.053738,
     "end_time": "2022-06-13T12:47:21.131563",
     "exception": false,
     "start_time": "2022-06-13T12:47:21.077825",
     "status": "completed"
    },
    "tags": []
   },
   "outputs": [],
   "source": [
    "# csv 파일로 변환하여 제출한다.\n",
    "\n",
    "submit['Category'] = pre\n",
    "submit.to_csv('result.csv', index=False)"
   ]
  },
  {
   "cell_type": "code",
   "execution_count": null,
   "id": "3306a466",
   "metadata": {
    "papermill": {
     "duration": 0.003178,
     "end_time": "2022-06-13T12:47:21.138374",
     "exception": false,
     "start_time": "2022-06-13T12:47:21.135196",
     "status": "completed"
    },
    "tags": []
   },
   "outputs": [],
   "source": []
  }
 ],
 "metadata": {
  "kernelspec": {
   "display_name": "Python 3",
   "language": "python",
   "name": "python3"
  },
  "language_info": {
   "codemirror_mode": {
    "name": "ipython",
    "version": 3
   },
   "file_extension": ".py",
   "mimetype": "text/x-python",
   "name": "python",
   "nbconvert_exporter": "python",
   "pygments_lexer": "ipython3",
   "version": "3.7.12"
  },
  "papermill": {
   "default_parameters": {},
   "duration": 23.455039,
   "end_time": "2022-06-13T12:47:21.862670",
   "environment_variables": {},
   "exception": null,
   "input_path": "__notebook__.ipynb",
   "output_path": "__notebook__.ipynb",
   "parameters": {},
   "start_time": "2022-06-13T12:46:58.407631",
   "version": "2.3.4"
  }
 },
 "nbformat": 4,
 "nbformat_minor": 5
}
