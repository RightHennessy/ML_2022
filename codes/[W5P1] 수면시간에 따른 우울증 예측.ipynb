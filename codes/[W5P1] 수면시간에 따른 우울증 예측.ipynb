{
 "cells": [
  {
   "cell_type": "code",
   "execution_count": 1,
   "id": "a99b7fdc",
   "metadata": {
    "_cell_guid": "b1076dfc-b9ad-4769-8c92-a6c4dae69d19",
    "_uuid": "8f2839f25d086af736a60e9eeb907d3b93b6e0e5",
    "execution": {
     "iopub.execute_input": "2022-04-09T17:11:02.126412Z",
     "iopub.status.busy": "2022-04-09T17:11:02.125502Z",
     "iopub.status.idle": "2022-04-09T17:11:02.132717Z",
     "shell.execute_reply": "2022-04-09T17:11:02.132065Z",
     "shell.execute_reply.started": "2022-04-09T16:40:37.646169Z"
    },
    "papermill": {
     "duration": 0.033105,
     "end_time": "2022-04-09T17:11:02.132893",
     "exception": false,
     "start_time": "2022-04-09T17:11:02.099788",
     "status": "completed"
    },
    "tags": []
   },
   "outputs": [
    {
     "name": "stdout",
     "output_type": "stream",
     "text": [
      "/kaggle/input/2022-ml-w5p1/trainX.csv\n",
      "/kaggle/input/2022-ml-w5p1/testX.csv\n",
      "/kaggle/input/2022-ml-w5p1/trainY.csv\n",
      "/kaggle/input/2022-ml-w5p1/submit.csv\n"
     ]
    }
   ],
   "source": [
    "# This Python 3 environment comes with many helpful analytics libraries installed\n",
    "# It is defined by the kaggle/python Docker image: https://github.com/kaggle/docker-python\n",
    "# For example, here's several helpful packages to load\n",
    "\n",
    "import numpy as np # linear algebra\n",
    "import pandas as pd # data processing, CSV file I/O (e.g. pd.read_csv)\n",
    "\n",
    "# Input data files are available in the read-only \"../input/\" directory\n",
    "# For example, running this (by clicking run or pressing Shift+Enter) will list all files under the input directory\n",
    "\n",
    "import os\n",
    "for dirname, _, filenames in os.walk('/kaggle/input'):\n",
    "    for filename in filenames:\n",
    "        print(os.path.join(dirname, filename))\n",
    "\n",
    "# You can write up to 20GB to the current directory (/kaggle/working/) that gets preserved as output when you create a version using \"Save & Run All\" \n",
    "# You can also write temporary files to /kaggle/temp/, but they won't be saved outside of the current session"
   ]
  },
  {
   "cell_type": "code",
   "execution_count": 2,
   "id": "65346ec0",
   "metadata": {
    "execution": {
     "iopub.execute_input": "2022-04-09T17:11:02.159371Z",
     "iopub.status.busy": "2022-04-09T17:11:02.158668Z",
     "iopub.status.idle": "2022-04-09T17:11:02.161779Z",
     "shell.execute_reply": "2022-04-09T17:11:02.162394Z",
     "shell.execute_reply.started": "2022-04-09T16:45:21.621769Z"
    },
    "papermill": {
     "duration": 0.018442,
     "end_time": "2022-04-09T17:11:02.162550",
     "exception": false,
     "start_time": "2022-04-09T17:11:02.144108",
     "status": "completed"
    },
    "tags": []
   },
   "outputs": [],
   "source": [
    "import random\n",
    "import os\n",
    "seed = 42\n",
    "random.seed(seed)\n",
    "np.random.seed(seed)\n",
    "os.environ[\"PYTHONHASHSEED\"] = str(seed)"
   ]
  },
  {
   "cell_type": "code",
   "execution_count": 3,
   "id": "bd78e816",
   "metadata": {
    "execution": {
     "iopub.execute_input": "2022-04-09T17:11:02.188933Z",
     "iopub.status.busy": "2022-04-09T17:11:02.188216Z",
     "iopub.status.idle": "2022-04-09T17:11:02.375780Z",
     "shell.execute_reply": "2022-04-09T17:11:02.377025Z",
     "shell.execute_reply.started": "2022-04-09T16:45:45.364606Z"
    },
    "papermill": {
     "duration": 0.204361,
     "end_time": "2022-04-09T17:11:02.377372",
     "exception": false,
     "start_time": "2022-04-09T17:11:02.173011",
     "status": "completed"
    },
    "tags": []
   },
   "outputs": [],
   "source": [
    "submit = pd.read_csv('../input/2022-ml-w5p1/submit.csv')\n",
    "testX = pd.read_csv('../input/2022-ml-w5p1/testX.csv')\n",
    "trainX = pd.read_csv('../input/2022-ml-w5p1/trainX.csv')\n",
    "trainY = pd.read_csv('../input/2022-ml-w5p1/trainY.csv')"
   ]
  },
  {
   "cell_type": "code",
   "execution_count": 4,
   "id": "7da7c0f9",
   "metadata": {
    "execution": {
     "iopub.execute_input": "2022-04-09T17:11:02.410877Z",
     "iopub.status.busy": "2022-04-09T17:11:02.409671Z",
     "iopub.status.idle": "2022-04-09T17:11:02.420598Z",
     "shell.execute_reply": "2022-04-09T17:11:02.422652Z",
     "shell.execute_reply.started": "2022-04-09T16:50:00.660736Z"
    },
    "papermill": {
     "duration": 0.027196,
     "end_time": "2022-04-09T17:11:02.422926",
     "exception": false,
     "start_time": "2022-04-09T17:11:02.395730",
     "status": "completed"
    },
    "tags": []
   },
   "outputs": [],
   "source": [
    "y_train = trainY['Category']"
   ]
  },
  {
   "cell_type": "code",
   "execution_count": 5,
   "id": "1c04f75d",
   "metadata": {
    "execution": {
     "iopub.execute_input": "2022-04-09T17:11:02.451365Z",
     "iopub.status.busy": "2022-04-09T17:11:02.450615Z",
     "iopub.status.idle": "2022-04-09T17:11:03.956724Z",
     "shell.execute_reply": "2022-04-09T17:11:03.957611Z",
     "shell.execute_reply.started": "2022-04-09T17:01:53.019061Z"
    },
    "papermill": {
     "duration": 1.522329,
     "end_time": "2022-04-09T17:11:03.957960",
     "exception": false,
     "start_time": "2022-04-09T17:11:02.435631",
     "status": "completed"
    },
    "tags": []
   },
   "outputs": [],
   "source": [
    "from sklearn.linear_model import LogisticRegression\n",
    "logis = LogisticRegression(C=200, solver=\"sag\")\n",
    "logis.fit(trainX, y_train)\n",
    "testX_pred = logis.predict(testX)"
   ]
  },
  {
   "cell_type": "code",
   "execution_count": 6,
   "id": "dc5e9435",
   "metadata": {
    "execution": {
     "iopub.execute_input": "2022-04-09T17:11:04.006889Z",
     "iopub.status.busy": "2022-04-09T17:11:04.005699Z",
     "iopub.status.idle": "2022-04-09T17:11:04.012631Z",
     "shell.execute_reply": "2022-04-09T17:11:04.013583Z",
     "shell.execute_reply.started": "2022-04-09T17:02:39.494702Z"
    },
    "papermill": {
     "duration": 0.035189,
     "end_time": "2022-04-09T17:11:04.013863",
     "exception": false,
     "start_time": "2022-04-09T17:11:03.978674",
     "status": "completed"
    },
    "tags": []
   },
   "outputs": [],
   "source": [
    "submit['Category'] = testX_pred"
   ]
  },
  {
   "cell_type": "code",
   "execution_count": 7,
   "id": "e08f60ea",
   "metadata": {
    "execution": {
     "iopub.execute_input": "2022-04-09T17:11:04.068580Z",
     "iopub.status.busy": "2022-04-09T17:11:04.067859Z",
     "iopub.status.idle": "2022-04-09T17:11:04.071070Z",
     "shell.execute_reply": "2022-04-09T17:11:04.070472Z",
     "shell.execute_reply.started": "2022-04-09T17:03:12.089529Z"
    },
    "papermill": {
     "duration": 0.037553,
     "end_time": "2022-04-09T17:11:04.071218",
     "exception": false,
     "start_time": "2022-04-09T17:11:04.033665",
     "status": "completed"
    },
    "tags": []
   },
   "outputs": [],
   "source": [
    "submit.to_csv('result_w5p1', index=False)"
   ]
  },
  {
   "cell_type": "code",
   "execution_count": null,
   "id": "b68b52ad",
   "metadata": {
    "papermill": {
     "duration": 0.010726,
     "end_time": "2022-04-09T17:11:04.092245",
     "exception": false,
     "start_time": "2022-04-09T17:11:04.081519",
     "status": "completed"
    },
    "tags": []
   },
   "outputs": [],
   "source": []
  }
 ],
 "metadata": {
  "kernelspec": {
   "display_name": "Python 3",
   "language": "python",
   "name": "python3"
  },
  "language_info": {
   "codemirror_mode": {
    "name": "ipython",
    "version": 3
   },
   "file_extension": ".py",
   "mimetype": "text/x-python",
   "name": "python",
   "nbconvert_exporter": "python",
   "pygments_lexer": "ipython3",
   "version": "3.7.12"
  },
  "papermill": {
   "default_parameters": {},
   "duration": 12.196192,
   "end_time": "2022-04-09T17:11:04.712985",
   "environment_variables": {},
   "exception": null,
   "input_path": "__notebook__.ipynb",
   "output_path": "__notebook__.ipynb",
   "parameters": {},
   "start_time": "2022-04-09T17:10:52.516793",
   "version": "2.3.3"
  }
 },
 "nbformat": 4,
 "nbformat_minor": 5
}
